{
 "cells": [
  {
   "cell_type": "markdown",
   "source": [
    "## Upload ENS Data to Cyber Protocol"
   ],
   "metadata": {
    "collapsed": false
   }
  },
  {
   "cell_type": "code",
   "execution_count": 1,
   "outputs": [
    {
     "name": "stderr",
     "output_type": "stream",
     "text": [
      "/Users/sergenedashkovsky/Library/Python/3.9/lib/python/site-packages/ipfshttpclient/client/__init__.py:75: VersionMismatch: Unsupported daemon version '0.15.0' (not in range: 0.5.0 ≤ … < 0.9.0)\n",
      "  warnings.warn(exceptions.VersionMismatch(version, minimum, maximum))\n"
     ]
    }
   ],
   "source": [
    "import pandas as pd\n",
    "from numpy import ndarray\n",
    "from ens import ENS\n",
    "from web3 import Web3, HTTPProvider\n",
    "from tqdm.notebook import tqdm\n",
    "import ipfshttpclient\n",
    "import content_hash\n",
    "import requests\n",
    "import json\n",
    "from pprint import pprint\n",
    "import warnings\n",
    "\n",
    "from config import ETH_URL, MN\n",
    "from src.contract_utils import execute_contract_bash\n",
    "\n",
    "\n",
    "EXTRACT_NAMES = False\n",
    "EXTRACT_ENS_DATA = False\n",
    "AGGREGATE_ENS_DATA = True\n",
    "\n",
    "SUBGRAPH_CONTRACT_NAME_TO_CONTENT = 'pussy1hrpna9v7vs3stzyd4z3xf00676kf78zpe2u5ksvljswn2vnjp3ysehgnqr'\n",
    "SUBGRAPH_CONTRACT_NAME_TO_OWNER = 'pussy1qg5ega6dykkxc307y25pecuufrjkxkaggkkxh7nad0vhyhtuhw3s79e9sa'\n",
    "SUBGRAPH_CONTRACT_NAME_TO_ASSOCIATED = 'pussy17p9rzwnnfxcjp32un9ug7yhhzgtkhvl9jfksztgw5uh69wac2pgs9qsjlf'\n",
    "\n",
    "tqdm.pandas()\n",
    "\n",
    "w3 = Web3(HTTPProvider(ETH_URL))\n",
    "ns = ENS.fromWeb3(w3)\n",
    "ipfs_client = ipfshttpclient.connect()"
   ],
   "metadata": {
    "collapsed": false
   }
  },
  {
   "cell_type": "markdown",
   "source": [
    "### Items with content CIDs"
   ],
   "metadata": {
    "collapsed": false
   }
  },
  {
   "cell_type": "code",
   "execution_count": 2,
   "outputs": [
    {
     "data": {
      "text/plain": "             name                                       owner  \\\n66336  0-1337.eth  0x8F82De72659D5a1670d3Db7C440A8E0a6E925E02   \n71908   0000x.eth  0x77C9e49073d9830723195f3788570c2c36c97688   \n75760   0008a.eth  0x88441DCD4Bc985965e69ecf5A454B04DC84eD876   \n78545   001x0.eth  0x338571a641d8c43F9e5A306300c5d89E0CB2CFAF   \n79540  002511.eth  0x4E99f6Fdb8B5a3A292aa2194c970c2A612469Fe2   \n79628   00258.eth  0x9e6D2A36fa88E5123fD09d22F00e4E9ca8669999   \n89745    0089.eth  0xFebfecE019b5E2e42C3839dCbEA87EEDac9ac365   \n96279   0123a.eth  0x9aE6B470D238a4ab42cAc5fEB27CAA5A19F89510   \n97220    014°.eth  0x70635102CF3B7D32FE0a1221b412Cb4b172A2b2f   \n99057   01x01.eth  0x8F82De72659D5a1670d3Db7C440A8E0a6E925E02   \n\n                                 resolver_address  \\\n66336  0x4976fb03C32e5B8cfe2b6cCB31c09Ba78EBaBa41   \n71908  0x4976fb03C32e5B8cfe2b6cCB31c09Ba78EBaBa41   \n75760  0x4976fb03C32e5B8cfe2b6cCB31c09Ba78EBaBa41   \n78545  0x4976fb03C32e5B8cfe2b6cCB31c09Ba78EBaBa41   \n79540  0x4976fb03C32e5B8cfe2b6cCB31c09Ba78EBaBa41   \n79628  0x4976fb03C32e5B8cfe2b6cCB31c09Ba78EBaBa41   \n89745  0x4976fb03C32e5B8cfe2b6cCB31c09Ba78EBaBa41   \n96279  0x4976fb03C32e5B8cfe2b6cCB31c09Ba78EBaBa41   \n97220  0x4976fb03C32e5B8cfe2b6cCB31c09Ba78EBaBa41   \n99057  0x4976fb03C32e5B8cfe2b6cCB31c09Ba78EBaBa41   \n\n                               associated_address  \\\n66336                                         NaN   \n71908  0x77C9e49073d9830723195f3788570c2c36c97688   \n75760  0x88441DCD4Bc985965e69ecf5A454B04DC84eD876   \n78545  0x338571a641d8c43F9e5A306300c5d89E0CB2CFAF   \n79540  0x4E99f6Fdb8B5a3A292aa2194c970c2A612469Fe2   \n79628  0x9e6D2A36fa88E5123fD09d22F00e4E9ca8669999   \n89745  0xFebfecE019b5E2e42C3839dCbEA87EEDac9ac365   \n96279  0x9aE6B470D238a4ab42cAc5fEB27CAA5A19F89510   \n97220  0x70635102CF3B7D32FE0a1221b412Cb4b172A2b2f   \n99057  0x8F82De72659D5a1670d3Db7C440A8E0a6E925E02   \n\n                                             contenthash  \\\n66336  e30101701220d6f0e0d157170f52052e3f81bdafafb2e3...   \n71908  e301017012203c7939754cbfabd4a7932a740b2af3ced2...   \n75760  e30101701220cdaf3eb20495dacca5225a9a0838207af7...   \n78545  e301017012209668df055d7566e1631a6db9d66015204a...   \n79540  e301017012205952f152144216dfc3267c1f44130f1235...   \n79628  e301017012200429cb961fb23fd71947c477c881f63671...   \n89745  e301017012200676503f43d887c1e1d20c23d988d4d941...   \n96279  e30101701220c801aa770d8313b86fe43cb08472166a71...   \n97220  e3010170122086f1db4d21efaa7220ad3ec4460ac2b97b...   \n99057  e30101701220d6f0e0d157170f52052e3f81bdafafb2e3...   \n\n                                          content_cid  \\\n66336  QmcogzR9ouQJDgsiaTWWze4ndMLkn6gewRqKVWeKXVozh7   \n71908  QmSQiPAPaT5E9y41VgHhc5kFRhRFSvZ95d5sBzH6VJwdPo   \n75760  QmcBZGuZCQsd5zuumVRuLhXnhkWjWJiXtmcE9XQVsAXV8N   \n78545  QmYTncViYfeLbyHS6EECfUoRW3kjqrbiUmKbZLZEXUmA6R   \n79540  QmUMLME8Lkipg1cqw8m3pwpWHhRN34ioFEbjbhw46oqkN2   \n79628  QmNcuJbp2YLK6BmhdTniVsjjfxcgP16dGBKZeUHQQ6vHqB   \n89745  QmNmsnw5FpncDeUvJ3ZRFY3YtvEYWoCHWvgjEwjV41gUjM   \n96279  QmboPirQwrzimcSfGbeRHxySy4sH19ZmoJywVSf7bH7n8T   \n97220  QmXRREtZRWsppmHwJqFYW9RfazaWh5mob5iRBgX1GLtcF9   \n99057  QmcogzR9ouQJDgsiaTWWze4ndMLkn6gewRqKVWeKXVozh7   \n\n                                             name_cid  \\\n66336  QmUwjXxYcgk1j2Eh7jiVtgSGn3hmLHWoqNDLTonts6hJV8   \n71908  QmVzMe3mUGLB68Lz5wpQcfjab8akjQj7SdoE1ioAzfiw6E   \n75760  Qmawaesea9bHkCMmZupyMn5pbVgAJjKVM3MS2rUqZ1GhKf   \n78545  QmXk8AcZzo88TBa1TiJT3uLzcKnTY8DTyVa7euFmMh9qYw   \n79540  QmNbqwb5T2oWTUjWMRWxUBAGYUvy3v6Ta7SHaz83Yo9TT6   \n79628  QmUhnpZg3Wvz3eSTrAj66xVa3xrKb62CF63V5zWwu6Z3pa   \n89745  QmSTGTAnKY5n3Xz4DEY1oWEmrVPuAXTp469L4bGVWyiX12   \n96279  QmaUedgdJdVrzAEGud28YFNAv6cuwnbdxBgG4WktfZNpSZ   \n97220  QmWRhM2YPtfZbLNaW4Fk2JLuQBBFWNXDzWyzrYazYieE4r   \n99057  QmSF6D6bPeR4FF8MiJgYYY5prufPh3B17g2bmpxZkFzWqy   \n\n                                            owner_cid  \\\n66336  QmQk5wC2ZVcHme63hyuc4jhPtZA2z3c9YdazqqTQGZEkfH   \n71908  QmZnQD7eayt3mZ1F6KcEWXKnubAd6igHC5ekjXhzVWVDsW   \n75760  QmRqj1dW29fnzY3fakYNr4tiqsiGF7LDSRsMb5cNbBv2BU   \n78545  QmYKYMxyQ1HopockUxdkxpLmq1qM4th9QvKSh6BmsVXF1q   \n79540  QmYguMgvyupm56PwfM4D1ci16sg16rkkkfBcto2tWd2t2J   \n79628  QmVGYpBjDxnbYJiLogFAQeo9AQcZrAx8EvwcK3pV7EZkof   \n89745  QmQukSX9AVEr7F4Jp4zKivhzxmpoZEEnEhiZqiWkEyhKKF   \n96279  QmV4WBsX3F7GRyFq2R6vMU9mXGDzxDxZwNgPt1oTBxZqgH   \n97220  QmTZkZP7iuth5yrevRAwLwcQL4JjSk78rypc9mdTETRTRA   \n99057  QmQk5wC2ZVcHme63hyuc4jhPtZA2z3c9YdazqqTQGZEkfH   \n\n                               associated_address_cid  \n66336                                             NaN  \n71908  QmZnQD7eayt3mZ1F6KcEWXKnubAd6igHC5ekjXhzVWVDsW  \n75760  QmRqj1dW29fnzY3fakYNr4tiqsiGF7LDSRsMb5cNbBv2BU  \n78545  QmYKYMxyQ1HopockUxdkxpLmq1qM4th9QvKSh6BmsVXF1q  \n79540  QmYguMgvyupm56PwfM4D1ci16sg16rkkkfBcto2tWd2t2J  \n79628  QmVGYpBjDxnbYJiLogFAQeo9AQcZrAx8EvwcK3pV7EZkof  \n89745  QmQukSX9AVEr7F4Jp4zKivhzxmpoZEEnEhiZqiWkEyhKKF  \n96279  QmV4WBsX3F7GRyFq2R6vMU9mXGDzxDxZwNgPt1oTBxZqgH  \n97220  QmTZkZP7iuth5yrevRAwLwcQL4JjSk78rypc9mdTETRTRA  \n99057  QmQk5wC2ZVcHme63hyuc4jhPtZA2z3c9YdazqqTQGZEkfH  ",
      "text/html": "<div>\n<style scoped>\n    .dataframe tbody tr th:only-of-type {\n        vertical-align: middle;\n    }\n\n    .dataframe tbody tr th {\n        vertical-align: top;\n    }\n\n    .dataframe thead th {\n        text-align: right;\n    }\n</style>\n<table border=\"1\" class=\"dataframe\">\n  <thead>\n    <tr style=\"text-align: right;\">\n      <th></th>\n      <th>name</th>\n      <th>owner</th>\n      <th>resolver_address</th>\n      <th>associated_address</th>\n      <th>contenthash</th>\n      <th>content_cid</th>\n      <th>name_cid</th>\n      <th>owner_cid</th>\n      <th>associated_address_cid</th>\n    </tr>\n  </thead>\n  <tbody>\n    <tr>\n      <th>66336</th>\n      <td>0-1337.eth</td>\n      <td>0x8F82De72659D5a1670d3Db7C440A8E0a6E925E02</td>\n      <td>0x4976fb03C32e5B8cfe2b6cCB31c09Ba78EBaBa41</td>\n      <td>NaN</td>\n      <td>e30101701220d6f0e0d157170f52052e3f81bdafafb2e3...</td>\n      <td>QmcogzR9ouQJDgsiaTWWze4ndMLkn6gewRqKVWeKXVozh7</td>\n      <td>QmUwjXxYcgk1j2Eh7jiVtgSGn3hmLHWoqNDLTonts6hJV8</td>\n      <td>QmQk5wC2ZVcHme63hyuc4jhPtZA2z3c9YdazqqTQGZEkfH</td>\n      <td>NaN</td>\n    </tr>\n    <tr>\n      <th>71908</th>\n      <td>0000x.eth</td>\n      <td>0x77C9e49073d9830723195f3788570c2c36c97688</td>\n      <td>0x4976fb03C32e5B8cfe2b6cCB31c09Ba78EBaBa41</td>\n      <td>0x77C9e49073d9830723195f3788570c2c36c97688</td>\n      <td>e301017012203c7939754cbfabd4a7932a740b2af3ced2...</td>\n      <td>QmSQiPAPaT5E9y41VgHhc5kFRhRFSvZ95d5sBzH6VJwdPo</td>\n      <td>QmVzMe3mUGLB68Lz5wpQcfjab8akjQj7SdoE1ioAzfiw6E</td>\n      <td>QmZnQD7eayt3mZ1F6KcEWXKnubAd6igHC5ekjXhzVWVDsW</td>\n      <td>QmZnQD7eayt3mZ1F6KcEWXKnubAd6igHC5ekjXhzVWVDsW</td>\n    </tr>\n    <tr>\n      <th>75760</th>\n      <td>0008a.eth</td>\n      <td>0x88441DCD4Bc985965e69ecf5A454B04DC84eD876</td>\n      <td>0x4976fb03C32e5B8cfe2b6cCB31c09Ba78EBaBa41</td>\n      <td>0x88441DCD4Bc985965e69ecf5A454B04DC84eD876</td>\n      <td>e30101701220cdaf3eb20495dacca5225a9a0838207af7...</td>\n      <td>QmcBZGuZCQsd5zuumVRuLhXnhkWjWJiXtmcE9XQVsAXV8N</td>\n      <td>Qmawaesea9bHkCMmZupyMn5pbVgAJjKVM3MS2rUqZ1GhKf</td>\n      <td>QmRqj1dW29fnzY3fakYNr4tiqsiGF7LDSRsMb5cNbBv2BU</td>\n      <td>QmRqj1dW29fnzY3fakYNr4tiqsiGF7LDSRsMb5cNbBv2BU</td>\n    </tr>\n    <tr>\n      <th>78545</th>\n      <td>001x0.eth</td>\n      <td>0x338571a641d8c43F9e5A306300c5d89E0CB2CFAF</td>\n      <td>0x4976fb03C32e5B8cfe2b6cCB31c09Ba78EBaBa41</td>\n      <td>0x338571a641d8c43F9e5A306300c5d89E0CB2CFAF</td>\n      <td>e301017012209668df055d7566e1631a6db9d66015204a...</td>\n      <td>QmYTncViYfeLbyHS6EECfUoRW3kjqrbiUmKbZLZEXUmA6R</td>\n      <td>QmXk8AcZzo88TBa1TiJT3uLzcKnTY8DTyVa7euFmMh9qYw</td>\n      <td>QmYKYMxyQ1HopockUxdkxpLmq1qM4th9QvKSh6BmsVXF1q</td>\n      <td>QmYKYMxyQ1HopockUxdkxpLmq1qM4th9QvKSh6BmsVXF1q</td>\n    </tr>\n    <tr>\n      <th>79540</th>\n      <td>002511.eth</td>\n      <td>0x4E99f6Fdb8B5a3A292aa2194c970c2A612469Fe2</td>\n      <td>0x4976fb03C32e5B8cfe2b6cCB31c09Ba78EBaBa41</td>\n      <td>0x4E99f6Fdb8B5a3A292aa2194c970c2A612469Fe2</td>\n      <td>e301017012205952f152144216dfc3267c1f44130f1235...</td>\n      <td>QmUMLME8Lkipg1cqw8m3pwpWHhRN34ioFEbjbhw46oqkN2</td>\n      <td>QmNbqwb5T2oWTUjWMRWxUBAGYUvy3v6Ta7SHaz83Yo9TT6</td>\n      <td>QmYguMgvyupm56PwfM4D1ci16sg16rkkkfBcto2tWd2t2J</td>\n      <td>QmYguMgvyupm56PwfM4D1ci16sg16rkkkfBcto2tWd2t2J</td>\n    </tr>\n    <tr>\n      <th>79628</th>\n      <td>00258.eth</td>\n      <td>0x9e6D2A36fa88E5123fD09d22F00e4E9ca8669999</td>\n      <td>0x4976fb03C32e5B8cfe2b6cCB31c09Ba78EBaBa41</td>\n      <td>0x9e6D2A36fa88E5123fD09d22F00e4E9ca8669999</td>\n      <td>e301017012200429cb961fb23fd71947c477c881f63671...</td>\n      <td>QmNcuJbp2YLK6BmhdTniVsjjfxcgP16dGBKZeUHQQ6vHqB</td>\n      <td>QmUhnpZg3Wvz3eSTrAj66xVa3xrKb62CF63V5zWwu6Z3pa</td>\n      <td>QmVGYpBjDxnbYJiLogFAQeo9AQcZrAx8EvwcK3pV7EZkof</td>\n      <td>QmVGYpBjDxnbYJiLogFAQeo9AQcZrAx8EvwcK3pV7EZkof</td>\n    </tr>\n    <tr>\n      <th>89745</th>\n      <td>0089.eth</td>\n      <td>0xFebfecE019b5E2e42C3839dCbEA87EEDac9ac365</td>\n      <td>0x4976fb03C32e5B8cfe2b6cCB31c09Ba78EBaBa41</td>\n      <td>0xFebfecE019b5E2e42C3839dCbEA87EEDac9ac365</td>\n      <td>e301017012200676503f43d887c1e1d20c23d988d4d941...</td>\n      <td>QmNmsnw5FpncDeUvJ3ZRFY3YtvEYWoCHWvgjEwjV41gUjM</td>\n      <td>QmSTGTAnKY5n3Xz4DEY1oWEmrVPuAXTp469L4bGVWyiX12</td>\n      <td>QmQukSX9AVEr7F4Jp4zKivhzxmpoZEEnEhiZqiWkEyhKKF</td>\n      <td>QmQukSX9AVEr7F4Jp4zKivhzxmpoZEEnEhiZqiWkEyhKKF</td>\n    </tr>\n    <tr>\n      <th>96279</th>\n      <td>0123a.eth</td>\n      <td>0x9aE6B470D238a4ab42cAc5fEB27CAA5A19F89510</td>\n      <td>0x4976fb03C32e5B8cfe2b6cCB31c09Ba78EBaBa41</td>\n      <td>0x9aE6B470D238a4ab42cAc5fEB27CAA5A19F89510</td>\n      <td>e30101701220c801aa770d8313b86fe43cb08472166a71...</td>\n      <td>QmboPirQwrzimcSfGbeRHxySy4sH19ZmoJywVSf7bH7n8T</td>\n      <td>QmaUedgdJdVrzAEGud28YFNAv6cuwnbdxBgG4WktfZNpSZ</td>\n      <td>QmV4WBsX3F7GRyFq2R6vMU9mXGDzxDxZwNgPt1oTBxZqgH</td>\n      <td>QmV4WBsX3F7GRyFq2R6vMU9mXGDzxDxZwNgPt1oTBxZqgH</td>\n    </tr>\n    <tr>\n      <th>97220</th>\n      <td>014°.eth</td>\n      <td>0x70635102CF3B7D32FE0a1221b412Cb4b172A2b2f</td>\n      <td>0x4976fb03C32e5B8cfe2b6cCB31c09Ba78EBaBa41</td>\n      <td>0x70635102CF3B7D32FE0a1221b412Cb4b172A2b2f</td>\n      <td>e3010170122086f1db4d21efaa7220ad3ec4460ac2b97b...</td>\n      <td>QmXRREtZRWsppmHwJqFYW9RfazaWh5mob5iRBgX1GLtcF9</td>\n      <td>QmWRhM2YPtfZbLNaW4Fk2JLuQBBFWNXDzWyzrYazYieE4r</td>\n      <td>QmTZkZP7iuth5yrevRAwLwcQL4JjSk78rypc9mdTETRTRA</td>\n      <td>QmTZkZP7iuth5yrevRAwLwcQL4JjSk78rypc9mdTETRTRA</td>\n    </tr>\n    <tr>\n      <th>99057</th>\n      <td>01x01.eth</td>\n      <td>0x8F82De72659D5a1670d3Db7C440A8E0a6E925E02</td>\n      <td>0x4976fb03C32e5B8cfe2b6cCB31c09Ba78EBaBa41</td>\n      <td>0x8F82De72659D5a1670d3Db7C440A8E0a6E925E02</td>\n      <td>e30101701220d6f0e0d157170f52052e3f81bdafafb2e3...</td>\n      <td>QmcogzR9ouQJDgsiaTWWze4ndMLkn6gewRqKVWeKXVozh7</td>\n      <td>QmSF6D6bPeR4FF8MiJgYYY5prufPh3B17g2bmpxZkFzWqy</td>\n      <td>QmQk5wC2ZVcHme63hyuc4jhPtZA2z3c9YdazqqTQGZEkfH</td>\n      <td>QmQk5wC2ZVcHme63hyuc4jhPtZA2z3c9YdazqqTQGZEkfH</td>\n    </tr>\n  </tbody>\n</table>\n</div>"
     },
     "execution_count": 2,
     "metadata": {},
     "output_type": "execute_result"
    }
   ],
   "source": [
    "ens_data_with_cid_df = pd.read_csv('data/ens_data_with_content_cid.csv', index_col=0)\n",
    "ens_data_with_cid_df.head(10)"
   ],
   "metadata": {
    "collapsed": false
   }
  },
  {
   "cell_type": "markdown",
   "source": [
    "#### ENS Namespace Contracts\n",
    "\n",
    "- name -> owner\n",
    "- owner -> name\n",
    "- name -> associated_address\n",
    "- associated_address -> name\n",
    "- name -> cid\n",
    "- cid -> name\n",
    "\n",
    "Upload ENS items with CIDs only"
   ],
   "metadata": {
    "collapsed": false
   }
  },
  {
   "cell_type": "code",
   "execution_count": 3,
   "outputs": [
    {
     "name": "stdout",
     "output_type": "stream",
     "text": [
      "name -> owner:                5,651 \n",
      "owner -> name:                5,651 \n",
      "\n",
      "name -> associated address:   5,301 \n",
      "associated address -> name:   5,301 \n",
      "\n",
      "name -> content cid:          5,651 \n",
      "content cid -> name:          5,651 \n",
      "\n",
      "Total cyberlinks:            33,206\n"
     ]
    }
   ],
   "source": [
    "name_owner_cnt = len(ens_data_with_cid_df[~ens_data_with_cid_df.owner.isna()])\n",
    "name_associated_address_cnt = len(ens_data_with_cid_df[~ens_data_with_cid_df.associated_address.isna()])\n",
    "name_contenthash_cnt = len(\n",
    "    ens_data_with_cid_df)\n",
    "name_cid_cnt = len(\n",
    "    ens_data_with_cid_df)\n",
    "print(f\"name -> owner:              {name_owner_cnt:>7,} \")\n",
    "print(f\"owner -> name:              {name_owner_cnt:>7,} \\n\")\n",
    "print(f\"name -> associated address: {name_associated_address_cnt:>7,} \")\n",
    "print(f\"associated address -> name: {name_associated_address_cnt:>7,} \\n\")\n",
    "print(f\"name -> content cid:        {name_cid_cnt:>7,} \")\n",
    "print(f\"content cid -> name:        {name_cid_cnt:>7,} \\n\")\n",
    "print(f\"Total cyberlinks:           {(name_owner_cnt + name_associated_address_cnt + name_cid_cnt) * 2 :>7,}\")"
   ],
   "metadata": {
    "collapsed": false
   }
  },
  {
   "cell_type": "code",
   "execution_count": 4,
   "outputs": [
    {
     "name": "stdout",
     "output_type": "stream",
     "text": [
      "owner != associated address: 757\n"
     ]
    }
   ],
   "source": [
    "print(f\"owner != associated address: {len(ens_data_with_cid_df[(~ens_data_with_cid_df.associated_address.isna()) & (ens_data_with_cid_df.associated_address != ens_data_with_cid_df.owner)]):>,}\")"
   ],
   "metadata": {
    "collapsed": false
   }
  },
  {
   "cell_type": "markdown",
   "source": [
    "### Upload to Subgraphs\n",
    "Subgraph contracts\n",
    "- [source code](https://github.com/cybercongress/cw-cybergift/tree/main/contracts/cw-cyber-subgraph)\n",
    "- [code #3](https://cyb.ai/codes/3) in Bostrom\n",
    "- [code #3](https://space-pussy.cyb.ai/codes/3) in Space Pussy\n",
    "\n",
    "Example of bash initiation:\n",
    "```bash\n",
    "export INIT='{\"admins\":[\"'\"$WALLET\"'\"], \"executers\":[\"'\"$LOADWALLET\"'\"]}'\n",
    "pussy tx wasm instantiate 3 $INIT --label 'test ens content subgraph' --admin $WALLET --from $WALLET --chain-id space-pussy --gas 3000000 --broadcast-mode block  $SNODE\n",
    "```\n",
    "\n",
    "Example of bash execution:\n",
    "```bash\n",
    "export EXECUTE = '{\"cyberlink\": {\"links\":[{\"from\":\"Qmex9kMduo4U8k8AB4otfqgHRehUNs8YCksUjBQXW9WeQi\",\"to\":\"QmSkCKtKSmcsa2r5ju5SnHiLysktDqFWzTHdG4QS6yTeCH\"}]}}'\n",
    "pussy tx wasm execute pussy1hrpna9v7vs3stzyd4z3xf00676kf78zpe2u5ksvljswn2vnjp3ysehgnqr $EXECUTE --from $LOADWALLET --chain-id space-pussy --gas 3000000 --broadcast-mode block  $SNODE\n",
    "```"
   ],
   "metadata": {
    "collapsed": false
   }
  },
  {
   "cell_type": "code",
   "execution_count": 5,
   "outputs": [],
   "source": [
    "def create_cyberlinks(\n",
    "        cyberlinks: ndarray,\n",
    "        subgraph_contract_address: str,\n",
    "        batch_size: int = 1,\n",
    "        from_address: str = 'testload',\n",
    "        gas: int = 10_000_000) -> tuple[list, bool]:\n",
    "\n",
    "    def _batch(x, batch_size: int) -> list:\n",
    "        return [x[_i:_i + batch_size] for _i in range(0, len(x), batch_size)]\n",
    "\n",
    "    _res = []\n",
    "    _res_status = True\n",
    "    for _ens_data_with_cid_item in tqdm(_batch(cyberlinks, batch_size)):\n",
    "        if len([_ for _item in _ens_data_with_cid_item if _item[0] == _item[1]]):\n",
    "            warnings.warn(\n",
    "                'Self-linking {}. These links have been ignored'.format(\n",
    "                    ', '.join(\n",
    "                            f'{{\"from\": \"{_item[0]}\", \"to\": \"{_item[1]}\"}}'\n",
    "                            for _item in _ens_data_with_cid_item if _item[0] == _item[1]))\n",
    "                )\n",
    "        _links_item = ', '.join(\n",
    "            f'{{\"from\": \"{_item[0]}\", \"to\": \"{_item[1]}\"}}' for _item in _ens_data_with_cid_item\n",
    "            if _item[0] != _item[1])\n",
    "        if _links_item == '':\n",
    "            return _res, _res_status\n",
    "        _res_item = execute_contract_bash(\n",
    "            execute_query=f'''{{\"cyberlink\": {{\"links\": [{_links_item}]}}}}''',\n",
    "            contract_address=subgraph_contract_address,\n",
    "            from_address=from_address,\n",
    "            display_data=False,\n",
    "            gas=gas\n",
    "        )\n",
    "        _res.append(_res_item)\n",
    "        if json.loads(json.loads(_res_item)['raw_log'])[0]['events'][0]['type'] == 'execute':\n",
    "            print(f'Error in {len(_res) - 1}\\n{{\"cyberlinks\": [{_links_item}]}}\\n')\n",
    "            _res_status = False\n",
    "            break\n",
    "    return _res, _res_status\n",
    "\n",
    "\n",
    "def get_created_links(contract: str) -> dict:\n",
    "    _txs = requests.get(f'https://lcd.space-pussy.cybernode.ai/txs?message.module=wasm&limit&execute._contract_address={contract}&limit=1000000000').json()\n",
    "    _page_total = int(_txs['page_total'])\n",
    "\n",
    "    _created_links_row_list = []\n",
    "    for _page in tqdm(range(1, _page_total + 1)):\n",
    "        _txs = requests.get(f'https://lcd.space-pussy.cybernode.ai/txs?message.module=wasm&limit&execute._contract_address={contract}&limit=1000000000&page={_page}').json()\n",
    "        _created_links_row_list.extend(\n",
    "            [{_link['key']: _link['value']}\n",
    "             for _tx in _txs['txs']\n",
    "             for _event in _tx['logs'][0]['events'] if _event['type'] == 'cyberlink'\n",
    "             for _link in _event['attributes'] if _link['key'] != 'neuron'])\n",
    "\n",
    "    return {_created_links_row_list[i * 2]['particleFrom']: _created_links_row_list[i * 2 + 1]['particleTo']\n",
    "            for i in range(len(_created_links_row_list)//2)}"
   ],
   "metadata": {
    "collapsed": false
   }
  },
  {
   "cell_type": "markdown",
   "source": [
    "#### Upload to `name -> content CID` Subgraph contract\n",
    "[test ens content subgraph](https://space-pussy.cyb.ai/contracts/pussy1hrpna9v7vs3stzyd4z3xf00676kf78zpe2u5ksvljswn2vnjp3ysehgnqr)"
   ],
   "metadata": {
    "collapsed": false
   }
  },
  {
   "cell_type": "code",
   "execution_count": 6,
   "outputs": [
    {
     "data": {
      "text/plain": "  0%|          | 0/7 [00:00<?, ?it/s]",
      "application/vnd.jupyter.widget-view+json": {
       "version_major": 2,
       "version_minor": 0,
       "model_id": "1d36b516b6b943ed952e0a56c1f90b92"
      }
     },
     "metadata": {},
     "output_type": "display_data"
    },
    {
     "name": "stdout",
     "output_type": "stream",
     "text": [
      "Created links dict length: 6,560\n"
     ]
    }
   ],
   "source": [
    "created_links_name_to_content_dict = get_created_links(\n",
    "    contract=SUBGRAPH_CONTRACT_NAME_TO_CONTENT)\n",
    "print(f'Created links dict length: {len(created_links_name_to_content_dict.keys()):>,}')\n",
    "\n",
    "ens_data_with_cid_df.loc[:, 'created_link_status_name_to_content'] = \\\n",
    "    ens_data_with_cid_df.apply(\n",
    "        lambda x: x.name_cid in created_links_name_to_content_dict.keys(),\n",
    "        axis=1)"
   ],
   "metadata": {
    "collapsed": false
   }
  },
  {
   "cell_type": "code",
   "execution_count": 7,
   "outputs": [
    {
     "data": {
      "text/plain": "  0%|          | 0/1 [00:00<?, ?it/s]",
      "application/vnd.jupyter.widget-view+json": {
       "version_major": 2,
       "version_minor": 0,
       "model_id": "2d83284d299044048e90847b8010e8c2"
      }
     },
     "metadata": {},
     "output_type": "display_data"
    },
    {
     "name": "stderr",
     "output_type": "stream",
     "text": [
      "/var/folders/_r/0gtnrvss25qf6227jb63hqf00000gn/T/ipykernel_40743/2128561999.py:15: UserWarning: Self-linking {\"from\": \"QmZF8fjKwgn9P9dRHKGLzoaD2vGzreeQ2J98XTf78qAajh\", \"to\": \"QmZF8fjKwgn9P9dRHKGLzoaD2vGzreeQ2J98XTf78qAajh\"}. These links have been ignored\n",
      "  warnings.warn(\n"
     ]
    }
   ],
   "source": [
    "res, res_status = create_cyberlinks(\n",
    "    subgraph_contract_address=SUBGRAPH_CONTRACT_NAME_TO_CONTENT,\n",
    "    cyberlinks=ens_data_with_cid_df[ens_data_with_cid_df.created_link_status_name_to_content == False][['name_cid', 'content_cid']].values,\n",
    "    batch_size=50)\n",
    "if not res_status:\n",
    "    pprint(json.loads(json.loads(res[-1])['raw_log'])[0])"
   ],
   "metadata": {
    "collapsed": false
   }
  },
  {
   "cell_type": "markdown",
   "source": [],
   "metadata": {
    "collapsed": false
   }
  },
  {
   "cell_type": "markdown",
   "source": [
    "#### Upload to `name -> owner address` Subgraph contract\n",
    "[test ens owner subgraph](https://space-pussy.cyb.ai/contracts/pussy1qg5ega6dykkxc307y25pecuufrjkxkaggkkxh7nad0vhyhtuhw3s79e9sa)"
   ],
   "metadata": {
    "collapsed": false
   }
  },
  {
   "cell_type": "code",
   "execution_count": null,
   "outputs": [],
   "source": [
    "created_links_name_to_owner_dict = get_created_links(\n",
    "    contract=SUBGRAPH_CONTRACT_NAME_TO_OWNER)\n",
    "print(f'Created links dict length: {len(created_links_name_to_content_dict.keys()):>,}')\n",
    "\n",
    "ens_data_with_cid_df.loc[:, 'created_link_status_name_to_owner'] = \\\n",
    "    ens_data_with_cid_df.apply(\n",
    "        lambda x: x.name_cid in created_links_name_to_owner_dict.keys(),\n",
    "        axis=1)"
   ],
   "metadata": {
    "collapsed": false
   }
  },
  {
   "cell_type": "code",
   "execution_count": null,
   "outputs": [],
   "source": [
    "res, res_status = create_cyberlinks(\n",
    "    subgraph_contract_address=SUBGRAPH_CONTRACT_NAME_TO_CONTENT,\n",
    "    cyberlinks=ens_data_with_cid_df[ens_data_with_cid_df.created_link_status_name_to_owner == False][['name_cid', 'owner_cid']].values,\n",
    "    batch_size=50)\n",
    "if not res_status:\n",
    "    pprint(json.loads(json.loads(res[-1])['raw_log'])[0])"
   ],
   "metadata": {
    "collapsed": false
   }
  },
  {
   "cell_type": "markdown",
   "source": [
    "#### Upload to `name -> associated address` Subgraph contract"
   ],
   "metadata": {
    "collapsed": false
   }
  },
  {
   "cell_type": "code",
   "execution_count": null,
   "outputs": [],
   "source": [
    "created_links_name_to_associated_dict = get_created_links(\n",
    "    contract=SUBGRAPH_CONTRACT_NAME_TO_ASSOCIATED)\n",
    "print(f'Created links dict length: {len(created_links_name_to_content_dict.keys()):>,}')\n",
    "\n",
    "ens_data_with_cid_df.loc[:, 'created_link_status_name_to_associated'] = \\\n",
    "    ens_data_with_cid_df.apply(\n",
    "        lambda x: x.name_cid in created_links_name_to_associated_dict.keys(),\n",
    "        axis=1)"
   ],
   "metadata": {
    "collapsed": false
   }
  },
  {
   "cell_type": "code",
   "execution_count": null,
   "outputs": [],
   "source": [
    "res, res_status = create_cyberlinks(\n",
    "    subgraph_contract_address=SUBGRAPH_CONTRACT_NAME_TO_ASSOCIATED,\n",
    "    cyberlinks=ens_data_with_cid_df[ens_data_with_cid_df.created_link_status_name_to_associated == False][['name_cid', 'associated_address_cid']].values,\n",
    "    batch_size=50)\n",
    "if not res_status:\n",
    "    pprint(json.loads(json.loads(res[-1])['raw_log'])[0])"
   ],
   "metadata": {
    "collapsed": false
   }
  },
  {
   "cell_type": "code",
   "execution_count": 8,
   "outputs": [
    {
     "data": {
      "text/plain": "             name                                       owner  \\\n263758  1inch.eth  0x39B7FBC184Ea3D16135224f1d34D9d13b07D4f59   \n\n                                  resolver_address  \\\n263758  0x4976fb03C32e5B8cfe2b6cCB31c09Ba78EBaBa41   \n\n                                associated_address  \\\n263758  0x1111111254fb6c44bAC0beD2854e76F90643097d   \n\n                                              contenthash  \\\n263758  e301017012200cc0896f348d7b86d5724f03cd8f91f1ee...   \n\n                                           content_cid  \\\n263758  QmPCRt8v4iLrE8mgtPvYrDKj28jyoZMWdnGzXgQCBk59EV   \n\n                                              name_cid  \\\n263758  QmSmTHbXGjW76SMVbNZGrgCjm3X2ndXs5iL5gCxZjQj7MB   \n\n                                             owner_cid  \\\n263758  QmWyatGmPEccj4T3RoupyCH8iAzosSHyMmUXF6LazXvJJc   \n\n                                associated_address_cid  \\\n263758  QmYrN7qDEWZKgdd3KsvDk3J5Xs3CzfsM1pegH9NviDLKRt   \n\n        created_link_status_name_to_content  \n263758                                 True  ",
      "text/html": "<div>\n<style scoped>\n    .dataframe tbody tr th:only-of-type {\n        vertical-align: middle;\n    }\n\n    .dataframe tbody tr th {\n        vertical-align: top;\n    }\n\n    .dataframe thead th {\n        text-align: right;\n    }\n</style>\n<table border=\"1\" class=\"dataframe\">\n  <thead>\n    <tr style=\"text-align: right;\">\n      <th></th>\n      <th>name</th>\n      <th>owner</th>\n      <th>resolver_address</th>\n      <th>associated_address</th>\n      <th>contenthash</th>\n      <th>content_cid</th>\n      <th>name_cid</th>\n      <th>owner_cid</th>\n      <th>associated_address_cid</th>\n      <th>created_link_status_name_to_content</th>\n    </tr>\n  </thead>\n  <tbody>\n    <tr>\n      <th>263758</th>\n      <td>1inch.eth</td>\n      <td>0x39B7FBC184Ea3D16135224f1d34D9d13b07D4f59</td>\n      <td>0x4976fb03C32e5B8cfe2b6cCB31c09Ba78EBaBa41</td>\n      <td>0x1111111254fb6c44bAC0beD2854e76F90643097d</td>\n      <td>e301017012200cc0896f348d7b86d5724f03cd8f91f1ee...</td>\n      <td>QmPCRt8v4iLrE8mgtPvYrDKj28jyoZMWdnGzXgQCBk59EV</td>\n      <td>QmSmTHbXGjW76SMVbNZGrgCjm3X2ndXs5iL5gCxZjQj7MB</td>\n      <td>QmWyatGmPEccj4T3RoupyCH8iAzosSHyMmUXF6LazXvJJc</td>\n      <td>QmYrN7qDEWZKgdd3KsvDk3J5Xs3CzfsM1pegH9NviDLKRt</td>\n      <td>True</td>\n    </tr>\n  </tbody>\n</table>\n</div>"
     },
     "execution_count": 8,
     "metadata": {},
     "output_type": "execute_result"
    }
   ],
   "source": [
    "ens_data_with_cid_df[ens_data_with_cid_df.name=='1inch.eth']"
   ],
   "metadata": {
    "collapsed": false
   }
  },
  {
   "cell_type": "code",
   "execution_count": null,
   "outputs": [],
   "source": [],
   "metadata": {
    "collapsed": false
   }
  }
 ],
 "metadata": {
  "kernelspec": {
   "display_name": "Python 3",
   "language": "python",
   "name": "python3"
  },
  "language_info": {
   "codemirror_mode": {
    "name": "ipython",
    "version": 2
   },
   "file_extension": ".py",
   "mimetype": "text/x-python",
   "name": "python",
   "nbconvert_exporter": "python",
   "pygments_lexer": "ipython2",
   "version": "2.7.6"
  }
 },
 "nbformat": 4,
 "nbformat_minor": 0
}
