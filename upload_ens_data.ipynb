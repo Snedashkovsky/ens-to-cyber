{
 "cells": [
  {
   "cell_type": "markdown",
   "source": [
    "## ENS Owners"
   ],
   "metadata": {
    "collapsed": false
   }
  },
  {
   "cell_type": "code",
   "execution_count": 1,
   "outputs": [
    {
     "name": "stderr",
     "output_type": "stream",
     "text": [
      "/Users/sergenedashkovsky/Library/Python/3.9/lib/python/site-packages/ipfshttpclient/client/__init__.py:75: VersionMismatch: Unsupported daemon version '0.15.0' (not in range: 0.5.0 ≤ … < 0.9.0)\n",
      "  warnings.warn(exceptions.VersionMismatch(version, minimum, maximum))\n"
     ]
    }
   ],
   "source": [
    "import pandas as pd\n",
    "from numpy import ndarray\n",
    "from ens import ENS\n",
    "from web3 import Web3, HTTPProvider\n",
    "from tqdm.notebook import tqdm\n",
    "import ipfshttpclient\n",
    "import content_hash\n",
    "import json\n",
    "from pprint import pprint\n",
    "\n",
    "from config import ETH_URL, MN\n",
    "from src.contract_utils import execute_contract_bash\n",
    "\n",
    "\n",
    "EXTRACT_NAMES = False\n",
    "EXTRACT_ENS_DATA = False\n",
    "AGGREGATE_ENS_DATA = True\n",
    "\n",
    "tqdm.pandas()\n",
    "\n",
    "w3 = Web3(HTTPProvider(ETH_URL))\n",
    "ns = ENS.fromWeb3(w3)\n",
    "ipfs_client = ipfshttpclient.connect()"
   ],
   "metadata": {
    "collapsed": false
   }
  },
  {
   "cell_type": "markdown",
   "source": [
    "### ENS Names"
   ],
   "metadata": {
    "collapsed": false
   }
  },
  {
   "cell_type": "code",
   "execution_count": 2,
   "outputs": [
    {
     "data": {
      "text/plain": "['ethercryptocurrency',\n 'ufcfighters',\n 'coinapp',\n '2rickychan',\n 'lootvault',\n 'arthurs',\n 'feelsgoodman',\n 'doodzuki',\n 'fattigerworkshop',\n 'bioart']"
     },
     "execution_count": 2,
     "metadata": {},
     "output_type": "execute_result"
    }
   ],
   "source": [
    "ens_names = pd.read_csv('data/ens_names.csv')\n",
    "ens_names_list = ens_names.name.to_list()\n",
    "ens_names_list[:10]"
   ],
   "metadata": {
    "collapsed": false
   }
  },
  {
   "cell_type": "markdown",
   "source": [
    "### Items with content CIDs"
   ],
   "metadata": {
    "collapsed": false
   }
  },
  {
   "cell_type": "code",
   "execution_count": 3,
   "outputs": [
    {
     "data": {
      "text/plain": "             name                                       owner  \\\n66331  0-1337.eth  0x8F82De72659D5a1670d3Db7C440A8E0a6E925E02   \n71898   0000x.eth  0x77C9e49073d9830723195f3788570c2c36c97688   \n75750   0008a.eth  0x88441DCD4Bc985965e69ecf5A454B04DC84eD876   \n78535   001x0.eth  0x338571a641d8c43F9e5A306300c5d89E0CB2CFAF   \n79530  002511.eth  0x4E99f6Fdb8B5a3A292aa2194c970c2A612469Fe2   \n79618   00258.eth  0x9e6D2A36fa88E5123fD09d22F00e4E9ca8669999   \n89735    0089.eth  0xFebfecE019b5E2e42C3839dCbEA87EEDac9ac365   \n96266   0123a.eth  0x9aE6B470D238a4ab42cAc5fEB27CAA5A19F89510   \n97207    014°.eth  0x70635102CF3B7D32FE0a1221b412Cb4b172A2b2f   \n99044   01x01.eth  0x8F82De72659D5a1670d3Db7C440A8E0a6E925E02   \n\n                                 resolver_address  \\\n66331  0x4976fb03C32e5B8cfe2b6cCB31c09Ba78EBaBa41   \n71898  0x4976fb03C32e5B8cfe2b6cCB31c09Ba78EBaBa41   \n75750  0x4976fb03C32e5B8cfe2b6cCB31c09Ba78EBaBa41   \n78535  0x4976fb03C32e5B8cfe2b6cCB31c09Ba78EBaBa41   \n79530  0x4976fb03C32e5B8cfe2b6cCB31c09Ba78EBaBa41   \n79618  0x4976fb03C32e5B8cfe2b6cCB31c09Ba78EBaBa41   \n89735  0x4976fb03C32e5B8cfe2b6cCB31c09Ba78EBaBa41   \n96266  0x4976fb03C32e5B8cfe2b6cCB31c09Ba78EBaBa41   \n97207  0x4976fb03C32e5B8cfe2b6cCB31c09Ba78EBaBa41   \n99044  0x4976fb03C32e5B8cfe2b6cCB31c09Ba78EBaBa41   \n\n                               associated_address  \\\n66331                                         NaN   \n71898  0x77C9e49073d9830723195f3788570c2c36c97688   \n75750  0x88441DCD4Bc985965e69ecf5A454B04DC84eD876   \n78535  0x338571a641d8c43F9e5A306300c5d89E0CB2CFAF   \n79530  0x4E99f6Fdb8B5a3A292aa2194c970c2A612469Fe2   \n79618  0x9e6D2A36fa88E5123fD09d22F00e4E9ca8669999   \n89735  0xFebfecE019b5E2e42C3839dCbEA87EEDac9ac365   \n96266  0x9aE6B470D238a4ab42cAc5fEB27CAA5A19F89510   \n97207  0x70635102CF3B7D32FE0a1221b412Cb4b172A2b2f   \n99044  0x8F82De72659D5a1670d3Db7C440A8E0a6E925E02   \n\n                                             contenthash  \\\n66331  e30101701220d6f0e0d157170f52052e3f81bdafafb2e3...   \n71898  e301017012203c7939754cbfabd4a7932a740b2af3ced2...   \n75750  e30101701220cdaf3eb20495dacca5225a9a0838207af7...   \n78535  e301017012209668df055d7566e1631a6db9d66015204a...   \n79530  e301017012205952f152144216dfc3267c1f44130f1235...   \n79618  e301017012200429cb961fb23fd71947c477c881f63671...   \n89735  e301017012200676503f43d887c1e1d20c23d988d4d941...   \n96266  e30101701220c801aa770d8313b86fe43cb08472166a71...   \n97207  e3010170122086f1db4d21efaa7220ad3ec4460ac2b97b...   \n99044  e30101701220d6f0e0d157170f52052e3f81bdafafb2e3...   \n\n                                          content_cid  \\\n66331  QmcogzR9ouQJDgsiaTWWze4ndMLkn6gewRqKVWeKXVozh7   \n71898  QmSQiPAPaT5E9y41VgHhc5kFRhRFSvZ95d5sBzH6VJwdPo   \n75750  QmcBZGuZCQsd5zuumVRuLhXnhkWjWJiXtmcE9XQVsAXV8N   \n78535  QmYTncViYfeLbyHS6EECfUoRW3kjqrbiUmKbZLZEXUmA6R   \n79530  QmUMLME8Lkipg1cqw8m3pwpWHhRN34ioFEbjbhw46oqkN2   \n79618  QmNcuJbp2YLK6BmhdTniVsjjfxcgP16dGBKZeUHQQ6vHqB   \n89735  QmNmsnw5FpncDeUvJ3ZRFY3YtvEYWoCHWvgjEwjV41gUjM   \n96266  QmboPirQwrzimcSfGbeRHxySy4sH19ZmoJywVSf7bH7n8T   \n97207  QmXRREtZRWsppmHwJqFYW9RfazaWh5mob5iRBgX1GLtcF9   \n99044  QmcogzR9ouQJDgsiaTWWze4ndMLkn6gewRqKVWeKXVozh7   \n\n                                             name_cid  \n66331  QmUwjXxYcgk1j2Eh7jiVtgSGn3hmLHWoqNDLTonts6hJV8  \n71898  QmVzMe3mUGLB68Lz5wpQcfjab8akjQj7SdoE1ioAzfiw6E  \n75750  Qmawaesea9bHkCMmZupyMn5pbVgAJjKVM3MS2rUqZ1GhKf  \n78535  QmXk8AcZzo88TBa1TiJT3uLzcKnTY8DTyVa7euFmMh9qYw  \n79530  QmNbqwb5T2oWTUjWMRWxUBAGYUvy3v6Ta7SHaz83Yo9TT6  \n79618  QmUhnpZg3Wvz3eSTrAj66xVa3xrKb62CF63V5zWwu6Z3pa  \n89735  QmSTGTAnKY5n3Xz4DEY1oWEmrVPuAXTp469L4bGVWyiX12  \n96266  QmaUedgdJdVrzAEGud28YFNAv6cuwnbdxBgG4WktfZNpSZ  \n97207  QmWRhM2YPtfZbLNaW4Fk2JLuQBBFWNXDzWyzrYazYieE4r  \n99044  QmSF6D6bPeR4FF8MiJgYYY5prufPh3B17g2bmpxZkFzWqy  ",
      "text/html": "<div>\n<style scoped>\n    .dataframe tbody tr th:only-of-type {\n        vertical-align: middle;\n    }\n\n    .dataframe tbody tr th {\n        vertical-align: top;\n    }\n\n    .dataframe thead th {\n        text-align: right;\n    }\n</style>\n<table border=\"1\" class=\"dataframe\">\n  <thead>\n    <tr style=\"text-align: right;\">\n      <th></th>\n      <th>name</th>\n      <th>owner</th>\n      <th>resolver_address</th>\n      <th>associated_address</th>\n      <th>contenthash</th>\n      <th>content_cid</th>\n      <th>name_cid</th>\n    </tr>\n  </thead>\n  <tbody>\n    <tr>\n      <th>66331</th>\n      <td>0-1337.eth</td>\n      <td>0x8F82De72659D5a1670d3Db7C440A8E0a6E925E02</td>\n      <td>0x4976fb03C32e5B8cfe2b6cCB31c09Ba78EBaBa41</td>\n      <td>NaN</td>\n      <td>e30101701220d6f0e0d157170f52052e3f81bdafafb2e3...</td>\n      <td>QmcogzR9ouQJDgsiaTWWze4ndMLkn6gewRqKVWeKXVozh7</td>\n      <td>QmUwjXxYcgk1j2Eh7jiVtgSGn3hmLHWoqNDLTonts6hJV8</td>\n    </tr>\n    <tr>\n      <th>71898</th>\n      <td>0000x.eth</td>\n      <td>0x77C9e49073d9830723195f3788570c2c36c97688</td>\n      <td>0x4976fb03C32e5B8cfe2b6cCB31c09Ba78EBaBa41</td>\n      <td>0x77C9e49073d9830723195f3788570c2c36c97688</td>\n      <td>e301017012203c7939754cbfabd4a7932a740b2af3ced2...</td>\n      <td>QmSQiPAPaT5E9y41VgHhc5kFRhRFSvZ95d5sBzH6VJwdPo</td>\n      <td>QmVzMe3mUGLB68Lz5wpQcfjab8akjQj7SdoE1ioAzfiw6E</td>\n    </tr>\n    <tr>\n      <th>75750</th>\n      <td>0008a.eth</td>\n      <td>0x88441DCD4Bc985965e69ecf5A454B04DC84eD876</td>\n      <td>0x4976fb03C32e5B8cfe2b6cCB31c09Ba78EBaBa41</td>\n      <td>0x88441DCD4Bc985965e69ecf5A454B04DC84eD876</td>\n      <td>e30101701220cdaf3eb20495dacca5225a9a0838207af7...</td>\n      <td>QmcBZGuZCQsd5zuumVRuLhXnhkWjWJiXtmcE9XQVsAXV8N</td>\n      <td>Qmawaesea9bHkCMmZupyMn5pbVgAJjKVM3MS2rUqZ1GhKf</td>\n    </tr>\n    <tr>\n      <th>78535</th>\n      <td>001x0.eth</td>\n      <td>0x338571a641d8c43F9e5A306300c5d89E0CB2CFAF</td>\n      <td>0x4976fb03C32e5B8cfe2b6cCB31c09Ba78EBaBa41</td>\n      <td>0x338571a641d8c43F9e5A306300c5d89E0CB2CFAF</td>\n      <td>e301017012209668df055d7566e1631a6db9d66015204a...</td>\n      <td>QmYTncViYfeLbyHS6EECfUoRW3kjqrbiUmKbZLZEXUmA6R</td>\n      <td>QmXk8AcZzo88TBa1TiJT3uLzcKnTY8DTyVa7euFmMh9qYw</td>\n    </tr>\n    <tr>\n      <th>79530</th>\n      <td>002511.eth</td>\n      <td>0x4E99f6Fdb8B5a3A292aa2194c970c2A612469Fe2</td>\n      <td>0x4976fb03C32e5B8cfe2b6cCB31c09Ba78EBaBa41</td>\n      <td>0x4E99f6Fdb8B5a3A292aa2194c970c2A612469Fe2</td>\n      <td>e301017012205952f152144216dfc3267c1f44130f1235...</td>\n      <td>QmUMLME8Lkipg1cqw8m3pwpWHhRN34ioFEbjbhw46oqkN2</td>\n      <td>QmNbqwb5T2oWTUjWMRWxUBAGYUvy3v6Ta7SHaz83Yo9TT6</td>\n    </tr>\n    <tr>\n      <th>79618</th>\n      <td>00258.eth</td>\n      <td>0x9e6D2A36fa88E5123fD09d22F00e4E9ca8669999</td>\n      <td>0x4976fb03C32e5B8cfe2b6cCB31c09Ba78EBaBa41</td>\n      <td>0x9e6D2A36fa88E5123fD09d22F00e4E9ca8669999</td>\n      <td>e301017012200429cb961fb23fd71947c477c881f63671...</td>\n      <td>QmNcuJbp2YLK6BmhdTniVsjjfxcgP16dGBKZeUHQQ6vHqB</td>\n      <td>QmUhnpZg3Wvz3eSTrAj66xVa3xrKb62CF63V5zWwu6Z3pa</td>\n    </tr>\n    <tr>\n      <th>89735</th>\n      <td>0089.eth</td>\n      <td>0xFebfecE019b5E2e42C3839dCbEA87EEDac9ac365</td>\n      <td>0x4976fb03C32e5B8cfe2b6cCB31c09Ba78EBaBa41</td>\n      <td>0xFebfecE019b5E2e42C3839dCbEA87EEDac9ac365</td>\n      <td>e301017012200676503f43d887c1e1d20c23d988d4d941...</td>\n      <td>QmNmsnw5FpncDeUvJ3ZRFY3YtvEYWoCHWvgjEwjV41gUjM</td>\n      <td>QmSTGTAnKY5n3Xz4DEY1oWEmrVPuAXTp469L4bGVWyiX12</td>\n    </tr>\n    <tr>\n      <th>96266</th>\n      <td>0123a.eth</td>\n      <td>0x9aE6B470D238a4ab42cAc5fEB27CAA5A19F89510</td>\n      <td>0x4976fb03C32e5B8cfe2b6cCB31c09Ba78EBaBa41</td>\n      <td>0x9aE6B470D238a4ab42cAc5fEB27CAA5A19F89510</td>\n      <td>e30101701220c801aa770d8313b86fe43cb08472166a71...</td>\n      <td>QmboPirQwrzimcSfGbeRHxySy4sH19ZmoJywVSf7bH7n8T</td>\n      <td>QmaUedgdJdVrzAEGud28YFNAv6cuwnbdxBgG4WktfZNpSZ</td>\n    </tr>\n    <tr>\n      <th>97207</th>\n      <td>014°.eth</td>\n      <td>0x70635102CF3B7D32FE0a1221b412Cb4b172A2b2f</td>\n      <td>0x4976fb03C32e5B8cfe2b6cCB31c09Ba78EBaBa41</td>\n      <td>0x70635102CF3B7D32FE0a1221b412Cb4b172A2b2f</td>\n      <td>e3010170122086f1db4d21efaa7220ad3ec4460ac2b97b...</td>\n      <td>QmXRREtZRWsppmHwJqFYW9RfazaWh5mob5iRBgX1GLtcF9</td>\n      <td>QmWRhM2YPtfZbLNaW4Fk2JLuQBBFWNXDzWyzrYazYieE4r</td>\n    </tr>\n    <tr>\n      <th>99044</th>\n      <td>01x01.eth</td>\n      <td>0x8F82De72659D5a1670d3Db7C440A8E0a6E925E02</td>\n      <td>0x4976fb03C32e5B8cfe2b6cCB31c09Ba78EBaBa41</td>\n      <td>0x8F82De72659D5a1670d3Db7C440A8E0a6E925E02</td>\n      <td>e30101701220d6f0e0d157170f52052e3f81bdafafb2e3...</td>\n      <td>QmcogzR9ouQJDgsiaTWWze4ndMLkn6gewRqKVWeKXVozh7</td>\n      <td>QmSF6D6bPeR4FF8MiJgYYY5prufPh3B17g2bmpxZkFzWqy</td>\n    </tr>\n  </tbody>\n</table>\n</div>"
     },
     "execution_count": 3,
     "metadata": {},
     "output_type": "execute_result"
    }
   ],
   "source": [
    "ens_data_with_cid_df = pd.read_csv('data/ens_data_with_content_cid.csv', index_col=0)\n",
    "ens_data_with_cid_df.head(10)"
   ],
   "metadata": {
    "collapsed": false
   }
  },
  {
   "cell_type": "markdown",
   "source": [
    "#### ENS Namespace Contracts with CIDs only\n",
    "- name -> owner\n",
    "- owner -> name\n",
    "- name -> associated_address\n",
    "- associated_address -> name\n",
    "- name -> cid\n",
    "- cid -> name"
   ],
   "metadata": {
    "collapsed": false
   }
  },
  {
   "cell_type": "code",
   "execution_count": 4,
   "outputs": [
    {
     "name": "stdout",
     "output_type": "stream",
     "text": [
      "name -> owner:                5,607 \n",
      "owner -> name:                5,607 \n",
      "\n",
      "name -> associated_address:   5,269 \n",
      "associated_address -> name:   5,269 \n",
      "\n",
      "name -> cid:                  5,607 \n",
      "cid -> name:                  5,607 \n",
      "\n",
      "Total cyberlinks:            32,966\n"
     ]
    }
   ],
   "source": [
    "name_owner_cnt = len(ens_data_with_cid_df[~ens_data_with_cid_df.owner.isna()][['name', 'owner']])\n",
    "name_associated_address_cnt = len(ens_data_with_cid_df[~ens_data_with_cid_df.associated_address.isna()])\n",
    "name_contenthash_cnt = len(\n",
    "    ens_data_with_cid_df)\n",
    "name_cid_cnt = len(\n",
    "    ens_data_with_cid_df)\n",
    "print(f\"name -> owner:              {name_owner_cnt:>7,} \")\n",
    "print(f\"owner -> name:              {name_owner_cnt:>7,} \\n\")\n",
    "print(f\"name -> associated_address: {name_associated_address_cnt:>7,} \")\n",
    "print(f\"associated_address -> name: {name_associated_address_cnt:>7,} \\n\")\n",
    "print(f\"name -> cid:                {name_cid_cnt:>7,} \")\n",
    "print(f\"cid -> name:                {name_cid_cnt:>7,} \\n\")\n",
    "print(f\"Total cyberlinks:           {(name_owner_cnt + name_associated_address_cnt + name_cid_cnt) * 2 :>7,}\")"
   ],
   "metadata": {
    "collapsed": false
   }
  },
  {
   "cell_type": "markdown",
   "source": [
    "### Upload to Subgraphs\n",
    "Example of bash execution:\n",
    "```bash\n",
    "export EXECUTE = '{\"cyberlink\": {\"links\":[{\"from\":\"Qmex9kMduo4U8k8AB4otfqgHRehUNs8YCksUjBQXW9WeQi\",\"to\":\"QmSkCKtKSmcsa2r5ju5SnHiLysktDqFWzTHdG4QS6yTeCH\"}]}}'\n",
    "pussy tx wasm execute pussy1hrpna9v7vs3stzyd4z3xf00676kf78zpe2u5ksvljswn2vnjp3ysehgnqr $EXECUTE --from testload --chain-id space-pussy --gas 3000000 --broadcast-mode block  $SNODE\n",
    "```"
   ],
   "metadata": {
    "collapsed": false
   }
  },
  {
   "cell_type": "code",
   "execution_count": 5,
   "outputs": [],
   "source": [
    "def create_cyberlinks(\n",
    "        cyberlinks: ndarray,\n",
    "        contract_address: str = 'pussy1hrpna9v7vs3stzyd4z3xf00676kf78zpe2u5ksvljswn2vnjp3ysehgnqr',\n",
    "        batch_size: int = 1,\n",
    "        from_address: str = 'testload',\n",
    "        gas: int = 10_000_000) -> tuple[list, bool]:\n",
    "\n",
    "    def _batch(x, batch_size: int) -> list:\n",
    "        return [x[_i:_i + batch_size] for _i in range(0, len(x), batch_size)]\n",
    "\n",
    "    _res = []\n",
    "    _res_status = True\n",
    "    for _ens_data_with_cid_item in tqdm(_batch(cyberlinks, batch_size)):\n",
    "        _links_item = ', '.join(\n",
    "            f'{{\"from\": \"{_item[0]}\", \"to\": \"{_item[1]}\"}}' for _item in _ens_data_with_cid_item)\n",
    "        # print(f'''{{\"cyberlink\": {{\"links\": [{_links_item}]}}}}''')\n",
    "        _res_item = execute_contract_bash(\n",
    "            execute_query=f'''{{\"cyberlink\": {{\"links\": [{_links_item}]}}}}''',\n",
    "            contract_address=contract_address,\n",
    "            from_address=from_address,\n",
    "            display_data=False,\n",
    "            gas=gas\n",
    "        )\n",
    "        _res.append(_res_item)\n",
    "        if json.loads(json.loads(_res_item)['raw_log'])[0]['events'][0]['type'] == 'execute':\n",
    "            print(f'Error in {len(_res) - 1}\\n{{\"cyberlinks\": [{_links_item}]}}\\n')\n",
    "            _res_status = False\n",
    "            break\n",
    "    return _res, _res_status"
   ],
   "metadata": {
    "collapsed": false
   }
  },
  {
   "cell_type": "markdown",
   "source": [
    "#### Upload to `name -> content CID` Subgraph contract"
   ],
   "metadata": {
    "collapsed": false
   }
  },
  {
   "cell_type": "code",
   "execution_count": null,
   "outputs": [],
   "source": [
    "res, res_status = create_cyberlinks(cyberlinks=ens_data_with_cid_df[['name_cid', 'content_cid']].values[:])\n",
    "if not res_status:\n",
    "    pprint(json.loads(json.loads(res[-1])['raw_log'])[0])"
   ],
   "metadata": {
    "collapsed": false
   }
  },
  {
   "cell_type": "markdown",
   "source": [],
   "metadata": {
    "collapsed": false
   }
  },
  {
   "cell_type": "code",
   "execution_count": null,
   "outputs": [],
   "source": [],
   "metadata": {
    "collapsed": false
   }
  }
 ],
 "metadata": {
  "kernelspec": {
   "display_name": "Python 3",
   "language": "python",
   "name": "python3"
  },
  "language_info": {
   "codemirror_mode": {
    "name": "ipython",
    "version": 2
   },
   "file_extension": ".py",
   "mimetype": "text/x-python",
   "name": "python",
   "nbconvert_exporter": "python",
   "pygments_lexer": "ipython2",
   "version": "2.7.6"
  }
 },
 "nbformat": 4,
 "nbformat_minor": 0
}
