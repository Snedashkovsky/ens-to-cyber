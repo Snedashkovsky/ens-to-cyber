{
 "cells": [
  {
   "cell_type": "markdown",
   "source": [
    "## Extract ENS Data from BigQuery and Ethereum node"
   ],
   "metadata": {
    "collapsed": false
   }
  },
  {
   "cell_type": "code",
   "execution_count": 1,
   "outputs": [],
   "source": [
    "import pandas as pd\n",
    "from ens import ENS\n",
    "from web3 import Web3, HTTPProvider\n",
    "from tqdm.notebook import tqdm\n",
    "import ipfshttpclient\n",
    "import content_hash\n",
    "import multicodec\n",
    "import multihash\n",
    "\n",
    "from config import ETH_URL\n",
    "from ens_data import get_ens_data\n",
    "from src.utils_bigquery import get_df\n",
    "\n",
    "\n",
    "EXTRACT_NAMES = False\n",
    "AGGREGATE_ENS_DATA = True\n",
    "\n",
    "tqdm.pandas()\n",
    "\n",
    "w3 = Web3(HTTPProvider(ETH_URL))\n",
    "ns = ENS.fromWeb3(w3)\n",
    "ipfs_client = ipfshttpclient.connect()"
   ],
   "metadata": {
    "collapsed": false
   }
  },
  {
   "cell_type": "code",
   "execution_count": 2,
   "outputs": [],
   "source": [
    "# 'ENS': '0x57f1887a8bf19b14fc0df6fd9b2acc9af147ea85'"
   ],
   "metadata": {
    "collapsed": false
   }
  },
  {
   "cell_type": "markdown",
   "source": [
    "### Get ENS Names from Blockchain ETL datasets (BigQuery)"
   ],
   "metadata": {
    "collapsed": false
   }
  },
  {
   "cell_type": "code",
   "execution_count": 3,
   "outputs": [
    {
     "name": "stdout",
     "output_type": "stream",
     "text": [
      "Total names: 2,565,489\n"
     ]
    }
   ],
   "source": [
    "query_1 = f'''\n",
    "    SELECT DISTINCT LOWER(name) as name\n",
    "    FROM (\n",
    "        SELECT name\n",
    "        FROM `blockchain-etl.ethereum_ens.ShortNameAuctionController_event_NameRegistered`\n",
    "\n",
    "        UNION ALL\n",
    "\n",
    "        SELECT name\n",
    "        FROM `blockchain-etl.ethereum_ens.ETHRegistrarController_event_NameRegistered`\n",
    "\n",
    "        UNION ALL\n",
    "\n",
    "        SELECT name\n",
    "        FROM `blockchain-etl.ethereum_ens.ETHRegistrarController2_event_NameRegistered`\n",
    "\n",
    "        UNION ALL\n",
    "\n",
    "        SELECT name\n",
    "        FROM `blockchain-etl.ethereum_ens.ETHRegistrarController3_event_NameRegistered`\n",
    "    )\n",
    "'''\n",
    "if EXTRACT_NAMES:\n",
    "    ens_names = get_df(query=query_1)\n",
    "    ens_names.to_csv('data/ens_names.csv')\n",
    "else:\n",
    "    ens_names = pd.read_csv('data/ens_names.csv')\n",
    "print(f'Total names: {len(ens_names):>,}')"
   ],
   "metadata": {
    "collapsed": false
   }
  },
  {
   "cell_type": "code",
   "execution_count": 4,
   "outputs": [
    {
     "data": {
      "text/plain": "['thrawn',\n 'danielhoang',\n 'edwin2',\n 'girardperregaux',\n 'ardaghgroup',\n 'transped',\n 'degenreactor',\n 'jokerkong',\n 'sco',\n 'ethism']"
     },
     "execution_count": 4,
     "metadata": {},
     "output_type": "execute_result"
    }
   ],
   "source": [
    "ens_names_list = ens_names.name.to_list()\n",
    "ens_names_list[:10]"
   ],
   "metadata": {
    "collapsed": false
   }
  },
  {
   "cell_type": "markdown",
   "source": [
    "### ENS Data Extraction from Ethereum node\n",
    "Use `ens_data.py` for getting ENS Data for names from Ethereum node."
   ],
   "metadata": {
    "collapsed": false
   }
  },
  {
   "cell_type": "markdown",
   "source": [
    "### Aggregate ENS Data"
   ],
   "metadata": {
    "collapsed": false
   }
  },
  {
   "cell_type": "code",
   "execution_count": 5,
   "outputs": [
    {
     "data": {
      "text/plain": "  0%|          | 0/253 [00:00<?, ?it/s]",
      "application/vnd.jupyter.widget-view+json": {
       "version_major": 2,
       "version_minor": 0,
       "model_id": "21798087ca7840788efc1a0acf3d1a9c"
      }
     },
     "metadata": {},
     "output_type": "display_data"
    },
    {
     "data": {
      "text/plain": "                                name  \\\n0                              0.eth   \n1                              8.eth   \n2                              6.eth   \n3                              8.eth   \n4                              0.eth   \n5                              8.eth   \n6                               .eth   \n7                              0.eth   \n8                           6969.eth   \n9                              8.eth   \n10                             $.eth   \n11                              .eth   \n12                             0.eth   \n13                           000.eth   \n14                          0000.eth   \n15                           111.eth   \n16                          1111.eth   \n17                           222.eth   \n18                          2222.eth   \n19                           333.eth   \n\n                                         owner  \\\n0   0x03B7bA1730170e6120529902479A026f7CDB60C6   \n1   0x00000000c9c32755D496d3F13DcDf06A436C9C7a   \n2   0x00000000c9c32755D496d3F13DcDf06A436C9C7a   \n3   0x00000000c9c32755D496d3F13DcDf06A436C9C7a   \n4   0x94567Fa65d284b51CE7832B3CD2682a2277dc964   \n5   0x7c6d5cf17D05fDD70fB051366a474F7b422d86a6   \n6   0x30a0063FfBb27C11FFD22Dd5321E8B07b259083d   \n7   0xf8d06F8338abA317afc9b55dF03D41Bf71f927Dd   \n8   0x00000000c9c32755D496d3F13DcDf06A436C9C7a   \n9   0x4a083475Fd0BfB1eBB05d03D29794bc64696F3AF   \n10  0x322b7d2343054A0ae8bE8cc4c2A2d820bdFb2d91   \n11  0xe457d16B7EB81b927cB2248D330658E091bFe0bf   \n12  0x365A9a61191F249Ba4f0d21263852Da78D6FAd7c   \n13  0x29b9D8b112F97b637C134579b9D10a4F4fCac7ec   \n14  0x29b9D8b112F97b637C134579b9D10a4F4fCac7ec   \n15  0x29b9D8b112F97b637C134579b9D10a4F4fCac7ec   \n16  0x29b9D8b112F97b637C134579b9D10a4F4fCac7ec   \n17  0x29b9D8b112F97b637C134579b9D10a4F4fCac7ec   \n18  0x29b9D8b112F97b637C134579b9D10a4F4fCac7ec   \n19  0x29b9D8b112F97b637C134579b9D10a4F4fCac7ec   \n\n                              resolver_address  \\\n0                                          NaN   \n1   0x4976fb03C32e5B8cfe2b6cCB31c09Ba78EBaBa41   \n2   0x4976fb03C32e5B8cfe2b6cCB31c09Ba78EBaBa41   \n3   0x4976fb03C32e5B8cfe2b6cCB31c09Ba78EBaBa41   \n4   0x4976fb03C32e5B8cfe2b6cCB31c09Ba78EBaBa41   \n5   0x4976fb03C32e5B8cfe2b6cCB31c09Ba78EBaBa41   \n6                                          NaN   \n7   0x4976fb03C32e5B8cfe2b6cCB31c09Ba78EBaBa41   \n8   0x4976fb03C32e5B8cfe2b6cCB31c09Ba78EBaBa41   \n9   0x4976fb03C32e5B8cfe2b6cCB31c09Ba78EBaBa41   \n10                                         NaN   \n11                                         NaN   \n12  0x4976fb03C32e5B8cfe2b6cCB31c09Ba78EBaBa41   \n13  0x4976fb03C32e5B8cfe2b6cCB31c09Ba78EBaBa41   \n14  0x4976fb03C32e5B8cfe2b6cCB31c09Ba78EBaBa41   \n15  0x4976fb03C32e5B8cfe2b6cCB31c09Ba78EBaBa41   \n16  0x4976fb03C32e5B8cfe2b6cCB31c09Ba78EBaBa41   \n17  0x4976fb03C32e5B8cfe2b6cCB31c09Ba78EBaBa41   \n18  0x4976fb03C32e5B8cfe2b6cCB31c09Ba78EBaBa41   \n19                                         NaN   \n\n                            associated_address contenthash  \n0                                          NaN         NaN  \n1   0x00000000c9c32755D496d3F13DcDf06A436C9C7a         NaN  \n2   0x00000000c9c32755D496d3F13DcDf06A436C9C7a         NaN  \n3   0x00000000c9c32755D496d3F13DcDf06A436C9C7a         NaN  \n4   0x94567Fa65d284b51CE7832B3CD2682a2277dc964         NaN  \n5   0x7c6d5cf17D05fDD70fB051366a474F7b422d86a6         NaN  \n6                                          NaN         NaN  \n7   0xf8d06F8338abA317afc9b55dF03D41Bf71f927Dd         NaN  \n8   0x00000000c9c32755D496d3F13DcDf06A436C9C7a         NaN  \n9   0x4a083475Fd0BfB1eBB05d03D29794bc64696F3AF         NaN  \n10                                         NaN         NaN  \n11                                         NaN         NaN  \n12  0x365A9a61191F249Ba4f0d21263852Da78D6FAd7c         NaN  \n13  0x29b9D8b112F97b637C134579b9D10a4F4fCac7ec         NaN  \n14  0x29b9D8b112F97b637C134579b9D10a4F4fCac7ec         NaN  \n15  0x29b9D8b112F97b637C134579b9D10a4F4fCac7ec         NaN  \n16  0x29b9D8b112F97b637C134579b9D10a4F4fCac7ec         NaN  \n17  0x29b9D8b112F97b637C134579b9D10a4F4fCac7ec         NaN  \n18  0x29b9D8b112F97b637C134579b9D10a4F4fCac7ec         NaN  \n19                                         NaN         NaN  ",
      "text/html": "<div>\n<style scoped>\n    .dataframe tbody tr th:only-of-type {\n        vertical-align: middle;\n    }\n\n    .dataframe tbody tr th {\n        vertical-align: top;\n    }\n\n    .dataframe thead th {\n        text-align: right;\n    }\n</style>\n<table border=\"1\" class=\"dataframe\">\n  <thead>\n    <tr style=\"text-align: right;\">\n      <th></th>\n      <th>name</th>\n      <th>owner</th>\n      <th>resolver_address</th>\n      <th>associated_address</th>\n      <th>contenthash</th>\n    </tr>\n  </thead>\n  <tbody>\n    <tr>\n      <th>0</th>\n      <td>0.eth</td>\n      <td>0x03B7bA1730170e6120529902479A026f7CDB60C6</td>\n      <td>NaN</td>\n      <td>NaN</td>\n      <td>NaN</td>\n    </tr>\n    <tr>\n      <th>1</th>\n      <td>8.eth</td>\n      <td>0x00000000c9c32755D496d3F13DcDf06A436C9C7a</td>\n      <td>0x4976fb03C32e5B8cfe2b6cCB31c09Ba78EBaBa41</td>\n      <td>0x00000000c9c32755D496d3F13DcDf06A436C9C7a</td>\n      <td>NaN</td>\n    </tr>\n    <tr>\n      <th>2</th>\n      <td>6.eth</td>\n      <td>0x00000000c9c32755D496d3F13DcDf06A436C9C7a</td>\n      <td>0x4976fb03C32e5B8cfe2b6cCB31c09Ba78EBaBa41</td>\n      <td>0x00000000c9c32755D496d3F13DcDf06A436C9C7a</td>\n      <td>NaN</td>\n    </tr>\n    <tr>\n      <th>3</th>\n      <td>8.eth</td>\n      <td>0x00000000c9c32755D496d3F13DcDf06A436C9C7a</td>\n      <td>0x4976fb03C32e5B8cfe2b6cCB31c09Ba78EBaBa41</td>\n      <td>0x00000000c9c32755D496d3F13DcDf06A436C9C7a</td>\n      <td>NaN</td>\n    </tr>\n    <tr>\n      <th>4</th>\n      <td>0.eth</td>\n      <td>0x94567Fa65d284b51CE7832B3CD2682a2277dc964</td>\n      <td>0x4976fb03C32e5B8cfe2b6cCB31c09Ba78EBaBa41</td>\n      <td>0x94567Fa65d284b51CE7832B3CD2682a2277dc964</td>\n      <td>NaN</td>\n    </tr>\n    <tr>\n      <th>5</th>\n      <td>8.eth</td>\n      <td>0x7c6d5cf17D05fDD70fB051366a474F7b422d86a6</td>\n      <td>0x4976fb03C32e5B8cfe2b6cCB31c09Ba78EBaBa41</td>\n      <td>0x7c6d5cf17D05fDD70fB051366a474F7b422d86a6</td>\n      <td>NaN</td>\n    </tr>\n    <tr>\n      <th>6</th>\n      <td>.eth</td>\n      <td>0x30a0063FfBb27C11FFD22Dd5321E8B07b259083d</td>\n      <td>NaN</td>\n      <td>NaN</td>\n      <td>NaN</td>\n    </tr>\n    <tr>\n      <th>7</th>\n      <td>0.eth</td>\n      <td>0xf8d06F8338abA317afc9b55dF03D41Bf71f927Dd</td>\n      <td>0x4976fb03C32e5B8cfe2b6cCB31c09Ba78EBaBa41</td>\n      <td>0xf8d06F8338abA317afc9b55dF03D41Bf71f927Dd</td>\n      <td>NaN</td>\n    </tr>\n    <tr>\n      <th>8</th>\n      <td>6969.eth</td>\n      <td>0x00000000c9c32755D496d3F13DcDf06A436C9C7a</td>\n      <td>0x4976fb03C32e5B8cfe2b6cCB31c09Ba78EBaBa41</td>\n      <td>0x00000000c9c32755D496d3F13DcDf06A436C9C7a</td>\n      <td>NaN</td>\n    </tr>\n    <tr>\n      <th>9</th>\n      <td>8.eth</td>\n      <td>0x4a083475Fd0BfB1eBB05d03D29794bc64696F3AF</td>\n      <td>0x4976fb03C32e5B8cfe2b6cCB31c09Ba78EBaBa41</td>\n      <td>0x4a083475Fd0BfB1eBB05d03D29794bc64696F3AF</td>\n      <td>NaN</td>\n    </tr>\n    <tr>\n      <th>10</th>\n      <td>$.eth</td>\n      <td>0x322b7d2343054A0ae8bE8cc4c2A2d820bdFb2d91</td>\n      <td>NaN</td>\n      <td>NaN</td>\n      <td>NaN</td>\n    </tr>\n    <tr>\n      <th>11</th>\n      <td>.eth</td>\n      <td>0xe457d16B7EB81b927cB2248D330658E091bFe0bf</td>\n      <td>NaN</td>\n      <td>NaN</td>\n      <td>NaN</td>\n    </tr>\n    <tr>\n      <th>12</th>\n      <td>0.eth</td>\n      <td>0x365A9a61191F249Ba4f0d21263852Da78D6FAd7c</td>\n      <td>0x4976fb03C32e5B8cfe2b6cCB31c09Ba78EBaBa41</td>\n      <td>0x365A9a61191F249Ba4f0d21263852Da78D6FAd7c</td>\n      <td>NaN</td>\n    </tr>\n    <tr>\n      <th>13</th>\n      <td>000.eth</td>\n      <td>0x29b9D8b112F97b637C134579b9D10a4F4fCac7ec</td>\n      <td>0x4976fb03C32e5B8cfe2b6cCB31c09Ba78EBaBa41</td>\n      <td>0x29b9D8b112F97b637C134579b9D10a4F4fCac7ec</td>\n      <td>NaN</td>\n    </tr>\n    <tr>\n      <th>14</th>\n      <td>0000.eth</td>\n      <td>0x29b9D8b112F97b637C134579b9D10a4F4fCac7ec</td>\n      <td>0x4976fb03C32e5B8cfe2b6cCB31c09Ba78EBaBa41</td>\n      <td>0x29b9D8b112F97b637C134579b9D10a4F4fCac7ec</td>\n      <td>NaN</td>\n    </tr>\n    <tr>\n      <th>15</th>\n      <td>111.eth</td>\n      <td>0x29b9D8b112F97b637C134579b9D10a4F4fCac7ec</td>\n      <td>0x4976fb03C32e5B8cfe2b6cCB31c09Ba78EBaBa41</td>\n      <td>0x29b9D8b112F97b637C134579b9D10a4F4fCac7ec</td>\n      <td>NaN</td>\n    </tr>\n    <tr>\n      <th>16</th>\n      <td>1111.eth</td>\n      <td>0x29b9D8b112F97b637C134579b9D10a4F4fCac7ec</td>\n      <td>0x4976fb03C32e5B8cfe2b6cCB31c09Ba78EBaBa41</td>\n      <td>0x29b9D8b112F97b637C134579b9D10a4F4fCac7ec</td>\n      <td>NaN</td>\n    </tr>\n    <tr>\n      <th>17</th>\n      <td>222.eth</td>\n      <td>0x29b9D8b112F97b637C134579b9D10a4F4fCac7ec</td>\n      <td>0x4976fb03C32e5B8cfe2b6cCB31c09Ba78EBaBa41</td>\n      <td>0x29b9D8b112F97b637C134579b9D10a4F4fCac7ec</td>\n      <td>NaN</td>\n    </tr>\n    <tr>\n      <th>18</th>\n      <td>2222.eth</td>\n      <td>0x29b9D8b112F97b637C134579b9D10a4F4fCac7ec</td>\n      <td>0x4976fb03C32e5B8cfe2b6cCB31c09Ba78EBaBa41</td>\n      <td>0x29b9D8b112F97b637C134579b9D10a4F4fCac7ec</td>\n      <td>NaN</td>\n    </tr>\n    <tr>\n      <th>19</th>\n      <td>333.eth</td>\n      <td>0x29b9D8b112F97b637C134579b9D10a4F4fCac7ec</td>\n      <td>NaN</td>\n      <td>NaN</td>\n      <td>NaN</td>\n    </tr>\n  </tbody>\n</table>\n</div>"
     },
     "execution_count": 5,
     "metadata": {},
     "output_type": "execute_result"
    }
   ],
   "source": [
    "if AGGREGATE_ENS_DATA:\n",
    "    ens_data_df = None\n",
    "    for i in tqdm(range(253)):\n",
    "        try:\n",
    "            with open(f'data/temp/ens_data_{i}.csv') as my_csv:\n",
    "                ens_data_item_df = pd.read_csv(my_csv, index_col=0)\n",
    "            if ens_data_df is None:\n",
    "                ens_data_df = ens_data_item_df\n",
    "            else:\n",
    "                ens_data_df = ens_data_df.append(ens_data_item_df)\n",
    "        except FileNotFoundError:\n",
    "            print(f'Error {i} not found')\n",
    "    ens_data_df.name = ens_data_df.name.map(lambda x: x.lower())\n",
    "    ens_data_df = ens_data_df.drop_duplicates()\n",
    "    ens_data_df = ens_data_df.sort_values('name').reset_index()\n",
    "    ens_data_df = ens_data_df[['name', 'owner', 'resolver_address', 'associated_address', 'contenthash']]\n",
    "    ens_data_df.to_csv('data/ens_data_row.csv')\n",
    "else:\n",
    "    ens_data_df = pd.read_csv('data/ens_data_row.csv', index_col=0)\n",
    "ens_data_df.head(20)"
   ],
   "metadata": {
    "collapsed": false
   }
  },
  {
   "cell_type": "markdown",
   "source": [
    "### Get items with content hashes"
   ],
   "metadata": {
    "collapsed": false
   }
  },
  {
   "cell_type": "code",
   "execution_count": 6,
   "outputs": [
    {
     "data": {
      "text/plain": "  0%|          | 0/5651 [00:00<?, ?it/s]",
      "application/vnd.jupyter.widget-view+json": {
       "version_major": 2,
       "version_minor": 0,
       "model_id": "12d5bcc161d24a95a2ea8beb0918f13c"
      }
     },
     "metadata": {},
     "output_type": "display_data"
    },
    {
     "data": {
      "text/plain": "  0%|          | 0/5651 [00:00<?, ?it/s]",
      "application/vnd.jupyter.widget-view+json": {
       "version_major": 2,
       "version_minor": 0,
       "model_id": "8f12797d70eb4c7297ca7cfca8c0efc9"
      }
     },
     "metadata": {},
     "output_type": "display_data"
    },
    {
     "data": {
      "text/plain": "  0%|          | 0/757 [00:00<?, ?it/s]",
      "application/vnd.jupyter.widget-view+json": {
       "version_major": 2,
       "version_minor": 0,
       "model_id": "abba4f91e5b64d0fabebf35a66178168"
      }
     },
     "metadata": {},
     "output_type": "display_data"
    }
   ],
   "source": [
    "def decode_contenthash(contenthash: str, extract_ipns: bool = False) -> str:\n",
    "    try:\n",
    "        if contenthash[:2] == 'e3':\n",
    "            content_cid = content_hash.decode(contenthash)\n",
    "            return content_cid if len(content_cid) == 46 else ''\n",
    "        elif extract_ipns and contenthash[:2] == 'e5' and len(contenthash) == 84:\n",
    "            ipns_address = content_hash.decode(contenthash)\n",
    "            return ipfs_client.resolve('/ipns/' + ipns_address, reversed=True)\n",
    "        # elif contenthash[:2] == 'e5':\n",
    "        #     _buffer = multihash.from_hex_string(contenthash)\n",
    "        #     return multicodec.remove_prefix(_buffer)\n",
    "        else:\n",
    "            return ''\n",
    "    except (ValueError, ipfshttpclient.exceptions.ErrorResponse):\n",
    "        return ''\n",
    "\n",
    "\n",
    "if AGGREGATE_ENS_DATA:\n",
    "    ens_data_with_contenthash_df = ens_data_df[\n",
    "        (~ens_data_df.contenthash.isna()) & (~ens_data_df.contenthash.isin([\"b''\"]))].copy().sort_index()\n",
    "    ens_data_with_contenthash_df.loc[:, 'content_cid'] = ens_data_with_contenthash_df.contenthash.map(\n",
    "        decode_contenthash)\n",
    "    ens_data_with_contenthash_df.to_csv('data/ens_data_with_content_hash.csv')\n",
    "\n",
    "    ens_data_with_cid_df = ens_data_with_contenthash_df[\n",
    "        ens_data_with_contenthash_df.content_cid != ''].copy().sort_index()\n",
    "    ens_data_with_cid_df.loc[:, 'name_cid'] = ens_data_with_cid_df.name.progress_map(\n",
    "        lambda x: ipfs_client.add_str(x.rstrip('.eth')))\n",
    "    ens_data_with_cid_df.loc[:, 'owner_cid'] = \\\n",
    "        ens_data_with_cid_df.loc[\n",
    "            ens_data_with_cid_df.owner == ens_data_with_cid_df.owner,\n",
    "            'owner'].progress_map(lambda x: ipfs_client.add_str(x))\n",
    "    ens_data_with_cid_df.loc[:, 'associated_address_cid'] = \\\n",
    "        ens_data_with_cid_df.loc[\n",
    "            ens_data_with_cid_df.owner == ens_data_with_cid_df.associated_address,\n",
    "            'owner_cid'].append(\n",
    "                ens_data_with_cid_df.loc[\n",
    "                (ens_data_with_cid_df.associated_address == ens_data_with_cid_df.associated_address) & (ens_data_with_cid_df.owner != ens_data_with_cid_df.associated_address),\n",
    "                    'associated_address'].progress_map(lambda x: ipfs_client.add_str(x)))\n",
    "\n",
    "    ens_data_with_cid_df.to_csv('data/ens_data_with_content_cid.csv')\n",
    "else:\n",
    "    ens_data_with_contenthash_df = pd.read_csv('data/ens_data_with_content_hash.csv', index_col=0)\n",
    "    ens_data_with_cid_df = pd.read_csv('data/ens_data_with_content_cid.csv', index_col=0)"
   ],
   "metadata": {
    "collapsed": false
   }
  },
  {
   "cell_type": "code",
   "execution_count": 7,
   "outputs": [
    {
     "name": "stdout",
     "output_type": "stream",
     "text": [
      "name: 2,517,359 (100.00%)\n",
      "owner: 2,502,120 (99.39%)\n",
      "resolver_address: 1,888,448 (75.02%)\n",
      "associated_address: 1,866,318 (74.14%)\n",
      "contenthash: 11,398 (0.45%)\n",
      "content cid: 5,651 (0.22%)\n",
      "\n",
      "associated_address!=owner: 46,602\n"
     ]
    }
   ],
   "source": [
    "for column in ens_data_df.columns:\n",
    "    print(\n",
    "        f'''{column}: {len(ens_data_df[(~ens_data_df[column].isna()) & (~ens_data_df[column].isin([\"b''\", '0x0000000000000000000000000000000000000000']))]):>,} ({len(ens_data_df[(~ens_data_df[column].isna()) & (~ens_data_df[column].isin([\"b''\", '0x0000000000000000000000000000000000000000']))]) / len(ens_data_df) * 100:.2f}%)''')\n",
    "print(\n",
    "    f'''content cid: {len(ens_data_with_cid_df):>,} ({len(ens_data_with_cid_df) / len(ens_data_df) * 100:.2f}%)''')\n",
    "print(\n",
    "    f'''\\nassociated_address!=owner: {len(ens_data_df[(ens_data_df.associated_address != ens_data_df.owner) & (~ens_data_df.associated_address.isna())]):>,}''')"
   ],
   "metadata": {
    "collapsed": false
   }
  },
  {
   "cell_type": "markdown",
   "source": [
    "### Content Codecs"
   ],
   "metadata": {
    "collapsed": false
   }
  },
  {
   "cell_type": "code",
   "execution_count": 8,
   "outputs": [
    {
     "data": {
      "text/plain": "   content_codec  name\n21       ipfs-ns  5663\n22       ipns-ns  2621\n0             00  2499\n26      swarm-ns   510\n8             90    41\n25        onion3    23\n24         onion    16\n19            f8     2\n15            cb     1\n23    multicodec     1\n20            ff     1\n18            e7     1\n17            db     1\n16          cbor     1\n14            c5     1\n1             02     1\n13            c3     1\n12            bc     1\n11            bb     1\n10            aa     1\n9             9a     1\n7             54     1\n6             4a     1\n5             45     1\n4             41     1\n3             3d     1\n2             34     1\n27  torrent-info     1",
      "text/html": "<div>\n<style scoped>\n    .dataframe tbody tr th:only-of-type {\n        vertical-align: middle;\n    }\n\n    .dataframe tbody tr th {\n        vertical-align: top;\n    }\n\n    .dataframe thead th {\n        text-align: right;\n    }\n</style>\n<table border=\"1\" class=\"dataframe\">\n  <thead>\n    <tr style=\"text-align: right;\">\n      <th></th>\n      <th>content_codec</th>\n      <th>name</th>\n    </tr>\n  </thead>\n  <tbody>\n    <tr>\n      <th>21</th>\n      <td>ipfs-ns</td>\n      <td>5663</td>\n    </tr>\n    <tr>\n      <th>22</th>\n      <td>ipns-ns</td>\n      <td>2621</td>\n    </tr>\n    <tr>\n      <th>0</th>\n      <td>00</td>\n      <td>2499</td>\n    </tr>\n    <tr>\n      <th>26</th>\n      <td>swarm-ns</td>\n      <td>510</td>\n    </tr>\n    <tr>\n      <th>8</th>\n      <td>90</td>\n      <td>41</td>\n    </tr>\n    <tr>\n      <th>25</th>\n      <td>onion3</td>\n      <td>23</td>\n    </tr>\n    <tr>\n      <th>24</th>\n      <td>onion</td>\n      <td>16</td>\n    </tr>\n    <tr>\n      <th>19</th>\n      <td>f8</td>\n      <td>2</td>\n    </tr>\n    <tr>\n      <th>15</th>\n      <td>cb</td>\n      <td>1</td>\n    </tr>\n    <tr>\n      <th>23</th>\n      <td>multicodec</td>\n      <td>1</td>\n    </tr>\n    <tr>\n      <th>20</th>\n      <td>ff</td>\n      <td>1</td>\n    </tr>\n    <tr>\n      <th>18</th>\n      <td>e7</td>\n      <td>1</td>\n    </tr>\n    <tr>\n      <th>17</th>\n      <td>db</td>\n      <td>1</td>\n    </tr>\n    <tr>\n      <th>16</th>\n      <td>cbor</td>\n      <td>1</td>\n    </tr>\n    <tr>\n      <th>14</th>\n      <td>c5</td>\n      <td>1</td>\n    </tr>\n    <tr>\n      <th>1</th>\n      <td>02</td>\n      <td>1</td>\n    </tr>\n    <tr>\n      <th>13</th>\n      <td>c3</td>\n      <td>1</td>\n    </tr>\n    <tr>\n      <th>12</th>\n      <td>bc</td>\n      <td>1</td>\n    </tr>\n    <tr>\n      <th>11</th>\n      <td>bb</td>\n      <td>1</td>\n    </tr>\n    <tr>\n      <th>10</th>\n      <td>aa</td>\n      <td>1</td>\n    </tr>\n    <tr>\n      <th>9</th>\n      <td>9a</td>\n      <td>1</td>\n    </tr>\n    <tr>\n      <th>7</th>\n      <td>54</td>\n      <td>1</td>\n    </tr>\n    <tr>\n      <th>6</th>\n      <td>4a</td>\n      <td>1</td>\n    </tr>\n    <tr>\n      <th>5</th>\n      <td>45</td>\n      <td>1</td>\n    </tr>\n    <tr>\n      <th>4</th>\n      <td>41</td>\n      <td>1</td>\n    </tr>\n    <tr>\n      <th>3</th>\n      <td>3d</td>\n      <td>1</td>\n    </tr>\n    <tr>\n      <th>2</th>\n      <td>34</td>\n      <td>1</td>\n    </tr>\n    <tr>\n      <th>27</th>\n      <td>torrent-info</td>\n      <td>1</td>\n    </tr>\n  </tbody>\n</table>\n</div>"
     },
     "execution_count": 8,
     "metadata": {},
     "output_type": "execute_result"
    }
   ],
   "source": [
    "def get_contenthash_codec(chash: str) -> str:\n",
    "    try:\n",
    "        return multicodec.get_codec(\n",
    "            multihash.from_hex_string(chash.lstrip('0x')))\n",
    "    except ValueError:\n",
    "        return chash[:2]\n",
    "\n",
    "ens_data_with_contenthash_df.loc[:, 'content_codec'] = ens_data_with_contenthash_df.contenthash.map(get_contenthash_codec)\n",
    "ens_data_with_contenthash_df.groupby('content_codec')['name'].nunique().reset_index().sort_values('name', ascending=False)"
   ],
   "metadata": {
    "collapsed": false
   }
  },
  {
   "cell_type": "code",
   "execution_count": 10,
   "outputs": [],
   "source": [],
   "metadata": {
    "collapsed": false
   }
  }
 ],
 "metadata": {
  "kernelspec": {
   "display_name": "Python 3",
   "language": "python",
   "name": "python3"
  },
  "language_info": {
   "codemirror_mode": {
    "name": "ipython",
    "version": 2
   },
   "file_extension": ".py",
   "mimetype": "text/x-python",
   "name": "python",
   "nbconvert_exporter": "python",
   "pygments_lexer": "ipython2",
   "version": "2.7.6"
  }
 },
 "nbformat": 4,
 "nbformat_minor": 0
}
