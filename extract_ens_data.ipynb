{
 "cells": [
  {
   "cell_type": "markdown",
   "source": [
    "## Extract ENS Data from BigQuery and Ethereum node"
   ],
   "metadata": {
    "collapsed": false
   }
  },
  {
   "cell_type": "code",
   "execution_count": 1,
   "outputs": [],
   "source": [
    "import json\n",
    "import pandas as pd\n",
    "import numpy as np\n",
    "from ens import ENS\n",
    "from web3 import Web3, HTTPProvider\n",
    "from tqdm.notebook import tqdm\n",
    "import ipfshttpclient\n",
    "import content_hash\n",
    "import multicodec\n",
    "import multihash\n",
    "from IPython.display import display, HTML\n",
    "\n",
    "from config import ETH_URL\n",
    "from ens_data import get_ens_data\n",
    "from src.utils_bigquery import get_df\n",
    "\n",
    "\n",
    "EXTRACT_NAMES = False\n",
    "AGGREGATE_ENS_DATA = False\n",
    "\n",
    "tqdm.pandas()\n",
    "\n",
    "w3 = Web3(HTTPProvider(ETH_URL))\n",
    "ns = ENS.fromWeb3(w3)\n",
    "ipfs_client = ipfshttpclient.connect()"
   ],
   "metadata": {
    "collapsed": false
   }
  },
  {
   "cell_type": "code",
   "execution_count": 2,
   "outputs": [],
   "source": [
    "def display_df(df: pd.DataFrame, show_index: bool = False) -> None:\n",
    "    display(HTML(df.to_html(index=show_index, notebook=True, show_dimensions=False)))"
   ],
   "metadata": {
    "collapsed": false
   }
  },
  {
   "cell_type": "code",
   "execution_count": 3,
   "outputs": [],
   "source": [
    "# 'ENS': '0x57f1887a8bf19b14fc0df6fd9b2acc9af147ea85'"
   ],
   "metadata": {
    "collapsed": false
   }
  },
  {
   "cell_type": "markdown",
   "source": [
    "### Get ENS Names from Blockchain ETL datasets (BigQuery)"
   ],
   "metadata": {
    "collapsed": false
   }
  },
  {
   "cell_type": "code",
   "execution_count": 4,
   "outputs": [
    {
     "name": "stdout",
     "output_type": "stream",
     "text": [
      "Total names: 2,565,489\n"
     ]
    }
   ],
   "source": [
    "query_1 = f'''\n",
    "    SELECT DISTINCT LOWER(name) as name\n",
    "    FROM (\n",
    "        SELECT name\n",
    "        FROM `blockchain-etl.ethereum_ens.ShortNameAuctionController_event_NameRegistered`\n",
    "\n",
    "        UNION ALL\n",
    "\n",
    "        SELECT name\n",
    "        FROM `blockchain-etl.ethereum_ens.ETHRegistrarController_event_NameRegistered`\n",
    "\n",
    "        UNION ALL\n",
    "\n",
    "        SELECT name\n",
    "        FROM `blockchain-etl.ethereum_ens.ETHRegistrarController2_event_NameRegistered`\n",
    "\n",
    "        UNION ALL\n",
    "\n",
    "        SELECT name\n",
    "        FROM `blockchain-etl.ethereum_ens.ETHRegistrarController3_event_NameRegistered`\n",
    "    )\n",
    "'''\n",
    "if EXTRACT_NAMES:\n",
    "    ens_names_df = get_df(query=query_1)\n",
    "    ens_names_df.to_csv('data/ens_names.csv')\n",
    "else:\n",
    "    ens_names_df = pd.read_csv('data/ens_names.csv')\n",
    "print(f'Total names: {len(ens_names_df):>,}')"
   ],
   "metadata": {
    "collapsed": false
   }
  },
  {
   "cell_type": "code",
   "execution_count": 5,
   "outputs": [
    {
     "data": {
      "text/plain": "['thrawn',\n 'danielhoang',\n 'edwin2',\n 'girardperregaux',\n 'ardaghgroup',\n 'transped',\n 'degenreactor',\n 'jokerkong',\n 'sco',\n 'ethism']"
     },
     "execution_count": 5,
     "metadata": {},
     "output_type": "execute_result"
    }
   ],
   "source": [
    "ens_names_list = ens_names_df.name.to_list()\n",
    "ens_names_list[:10]"
   ],
   "metadata": {
    "collapsed": false
   }
  },
  {
   "cell_type": "markdown",
   "source": [
    "### ENS Data Extraction from Ethereum node\n",
    "Use `extract_ens_data_from_ethereum_node.py` for getting ENS Data for names from Ethereum node."
   ],
   "metadata": {
    "collapsed": false
   }
  },
  {
   "cell_type": "markdown",
   "source": [
    "### Aggregate ENS Data"
   ],
   "metadata": {
    "collapsed": false
   }
  },
  {
   "cell_type": "code",
   "execution_count": 6,
   "outputs": [
    {
     "data": {
      "text/plain": "<IPython.core.display.HTML object>",
      "text/html": "<div>\n<style scoped>\n    .dataframe tbody tr th:only-of-type {\n        vertical-align: middle;\n    }\n\n    .dataframe tbody tr th {\n        vertical-align: top;\n    }\n\n    .dataframe thead th {\n        text-align: right;\n    }\n</style>\n<table border=\"1\" class=\"dataframe\">\n  <thead>\n    <tr style=\"text-align: right;\">\n      <th>name</th>\n      <th>owner</th>\n      <th>resolver_address</th>\n      <th>associated_address</th>\n      <th>contenthash</th>\n    </tr>\n  </thead>\n  <tbody>\n    <tr>\n      <td>0.eth</td>\n      <td>0x03B7bA1730170e6120529902479A026f7CDB60C6</td>\n      <td>NaN</td>\n      <td>NaN</td>\n      <td>NaN</td>\n    </tr>\n    <tr>\n      <td>8.eth</td>\n      <td>0x00000000c9c32755D496d3F13DcDf06A436C9C7a</td>\n      <td>0x4976fb03C32e5B8cfe2b6cCB31c09Ba78EBaBa41</td>\n      <td>0x00000000c9c32755D496d3F13DcDf06A436C9C7a</td>\n      <td>NaN</td>\n    </tr>\n    <tr>\n      <td>6.eth</td>\n      <td>0x00000000c9c32755D496d3F13DcDf06A436C9C7a</td>\n      <td>0x4976fb03C32e5B8cfe2b6cCB31c09Ba78EBaBa41</td>\n      <td>0x00000000c9c32755D496d3F13DcDf06A436C9C7a</td>\n      <td>NaN</td>\n    </tr>\n    <tr>\n      <td>8.eth</td>\n      <td>0x00000000c9c32755D496d3F13DcDf06A436C9C7a</td>\n      <td>0x4976fb03C32e5B8cfe2b6cCB31c09Ba78EBaBa41</td>\n      <td>0x00000000c9c32755D496d3F13DcDf06A436C9C7a</td>\n      <td>NaN</td>\n    </tr>\n    <tr>\n      <td>0.eth</td>\n      <td>0x94567Fa65d284b51CE7832B3CD2682a2277dc964</td>\n      <td>0x4976fb03C32e5B8cfe2b6cCB31c09Ba78EBaBa41</td>\n      <td>0x94567Fa65d284b51CE7832B3CD2682a2277dc964</td>\n      <td>NaN</td>\n    </tr>\n    <tr>\n      <td>8.eth</td>\n      <td>0x7c6d5cf17D05fDD70fB051366a474F7b422d86a6</td>\n      <td>0x4976fb03C32e5B8cfe2b6cCB31c09Ba78EBaBa41</td>\n      <td>0x7c6d5cf17D05fDD70fB051366a474F7b422d86a6</td>\n      <td>NaN</td>\n    </tr>\n    <tr>\n      <td>.eth</td>\n      <td>0x30a0063FfBb27C11FFD22Dd5321E8B07b259083d</td>\n      <td>NaN</td>\n      <td>NaN</td>\n      <td>NaN</td>\n    </tr>\n    <tr>\n      <td>0.eth</td>\n      <td>0xf8d06F8338abA317afc9b55dF03D41Bf71f927Dd</td>\n      <td>0x4976fb03C32e5B8cfe2b6cCB31c09Ba78EBaBa41</td>\n      <td>0xf8d06F8338abA317afc9b55dF03D41Bf71f927Dd</td>\n      <td>NaN</td>\n    </tr>\n    <tr>\n      <td>6969.eth</td>\n      <td>0x00000000c9c32755D496d3F13DcDf06A436C9C7a</td>\n      <td>0x4976fb03C32e5B8cfe2b6cCB31c09Ba78EBaBa41</td>\n      <td>0x00000000c9c32755D496d3F13DcDf06A436C9C7a</td>\n      <td>NaN</td>\n    </tr>\n    <tr>\n      <td>8.eth</td>\n      <td>0x4a083475Fd0BfB1eBB05d03D29794bc64696F3AF</td>\n      <td>0x4976fb03C32e5B8cfe2b6cCB31c09Ba78EBaBa41</td>\n      <td>0x4a083475Fd0BfB1eBB05d03D29794bc64696F3AF</td>\n      <td>NaN</td>\n    </tr>\n    <tr>\n      <td>$.eth</td>\n      <td>0x322b7d2343054A0ae8bE8cc4c2A2d820bdFb2d91</td>\n      <td>NaN</td>\n      <td>NaN</td>\n      <td>NaN</td>\n    </tr>\n    <tr>\n      <td>.eth</td>\n      <td>0xe457d16B7EB81b927cB2248D330658E091bFe0bf</td>\n      <td>NaN</td>\n      <td>NaN</td>\n      <td>NaN</td>\n    </tr>\n    <tr>\n      <td>0.eth</td>\n      <td>0x365A9a61191F249Ba4f0d21263852Da78D6FAd7c</td>\n      <td>0x4976fb03C32e5B8cfe2b6cCB31c09Ba78EBaBa41</td>\n      <td>0x365A9a61191F249Ba4f0d21263852Da78D6FAd7c</td>\n      <td>NaN</td>\n    </tr>\n    <tr>\n      <td>000.eth</td>\n      <td>0x29b9D8b112F97b637C134579b9D10a4F4fCac7ec</td>\n      <td>0x4976fb03C32e5B8cfe2b6cCB31c09Ba78EBaBa41</td>\n      <td>0x29b9D8b112F97b637C134579b9D10a4F4fCac7ec</td>\n      <td>NaN</td>\n    </tr>\n    <tr>\n      <td>0000.eth</td>\n      <td>0x29b9D8b112F97b637C134579b9D10a4F4fCac7ec</td>\n      <td>0x4976fb03C32e5B8cfe2b6cCB31c09Ba78EBaBa41</td>\n      <td>0x29b9D8b112F97b637C134579b9D10a4F4fCac7ec</td>\n      <td>NaN</td>\n    </tr>\n    <tr>\n      <td>111.eth</td>\n      <td>0x29b9D8b112F97b637C134579b9D10a4F4fCac7ec</td>\n      <td>0x4976fb03C32e5B8cfe2b6cCB31c09Ba78EBaBa41</td>\n      <td>0x29b9D8b112F97b637C134579b9D10a4F4fCac7ec</td>\n      <td>NaN</td>\n    </tr>\n    <tr>\n      <td>1111.eth</td>\n      <td>0x29b9D8b112F97b637C134579b9D10a4F4fCac7ec</td>\n      <td>0x4976fb03C32e5B8cfe2b6cCB31c09Ba78EBaBa41</td>\n      <td>0x29b9D8b112F97b637C134579b9D10a4F4fCac7ec</td>\n      <td>NaN</td>\n    </tr>\n    <tr>\n      <td>222.eth</td>\n      <td>0x29b9D8b112F97b637C134579b9D10a4F4fCac7ec</td>\n      <td>0x4976fb03C32e5B8cfe2b6cCB31c09Ba78EBaBa41</td>\n      <td>0x29b9D8b112F97b637C134579b9D10a4F4fCac7ec</td>\n      <td>NaN</td>\n    </tr>\n    <tr>\n      <td>2222.eth</td>\n      <td>0x29b9D8b112F97b637C134579b9D10a4F4fCac7ec</td>\n      <td>0x4976fb03C32e5B8cfe2b6cCB31c09Ba78EBaBa41</td>\n      <td>0x29b9D8b112F97b637C134579b9D10a4F4fCac7ec</td>\n      <td>NaN</td>\n    </tr>\n    <tr>\n      <td>333.eth</td>\n      <td>0x29b9D8b112F97b637C134579b9D10a4F4fCac7ec</td>\n      <td>NaN</td>\n      <td>NaN</td>\n      <td>NaN</td>\n    </tr>\n  </tbody>\n</table>\n</div>"
     },
     "metadata": {},
     "output_type": "display_data"
    }
   ],
   "source": [
    "if AGGREGATE_ENS_DATA:\n",
    "    ens_data_df = None\n",
    "    for i in tqdm(range(253)):\n",
    "        try:\n",
    "            with open(f'data/temp/ens_data_{i}.csv') as my_csv:\n",
    "                ens_data_item_df = pd.read_csv(my_csv, index_col=0)\n",
    "            if ens_data_df is None:\n",
    "                ens_data_df = ens_data_item_df\n",
    "            else:\n",
    "                ens_data_df = ens_data_df.append(ens_data_item_df)\n",
    "        except FileNotFoundError:\n",
    "            print(f'Error {i} not found')\n",
    "    ens_data_df.name = ens_data_df.name.map(lambda x: x.lower())\n",
    "    ens_data_df = ens_data_df.drop_duplicates()\n",
    "    ens_data_df = ens_data_df.sort_values('name').reset_index()\n",
    "    ens_data_df = ens_data_df[['name', 'owner', 'resolver_address', 'associated_address', 'contenthash']]\n",
    "    ens_data_df.to_csv('data/ens_data_row.csv')\n",
    "else:\n",
    "    ens_data_df = pd.read_csv('data/ens_data_row.csv', index_col=0)\n",
    "display_df(ens_data_df.head(20))"
   ],
   "metadata": {
    "collapsed": false
   }
  },
  {
   "cell_type": "markdown",
   "source": [
    "### Get items with content hashes"
   ],
   "metadata": {
    "collapsed": false
   }
  },
  {
   "cell_type": "code",
   "execution_count": 7,
   "outputs": [],
   "source": [
    "def decode_contenthash(contenthash: str, extract_ipns: bool = False) -> str:\n",
    "    try:\n",
    "        if contenthash[:2] == 'e3':\n",
    "            content_cid = content_hash.decode(contenthash)\n",
    "            return content_cid if len(content_cid) == 46 else ''\n",
    "        elif extract_ipns and contenthash[:2] == 'e5' and len(contenthash) == 84:\n",
    "            ipns_address = content_hash.decode(contenthash)\n",
    "            return ipfs_client.resolve('/ipns/' + ipns_address, reversed=True)\n",
    "        # elif contenthash[:2] == 'e5':\n",
    "        #     _buffer = multihash.from_hex_string(contenthash)\n",
    "        #     return multicodec.remove_prefix(_buffer)\n",
    "        else:\n",
    "            return ''\n",
    "    except (ValueError, ipfshttpclient.exceptions.ErrorResponse):\n",
    "        return ''\n",
    "\n",
    "\n",
    "if AGGREGATE_ENS_DATA:\n",
    "    ens_data_with_contenthash_df = ens_data_df[\n",
    "        (~ens_data_df.contenthash.isna()) & (~ens_data_df.contenthash.isin([\"b''\"]))].copy().sort_index()\n",
    "    ens_data_with_contenthash_df.loc[:, 'content_cid'] = ens_data_with_contenthash_df.contenthash.map(\n",
    "        decode_contenthash)\n",
    "    ens_data_with_contenthash_df.to_csv('data/ens_data_with_content_hash.csv')\n",
    "\n",
    "    ens_data_with_cid_df = ens_data_with_contenthash_df[\n",
    "        ens_data_with_contenthash_df.content_cid != ''].copy().sort_index()\n",
    "    ens_data_with_cid_df.loc[:, 'name_cid'] = ens_data_with_cid_df.name.progress_map(\n",
    "        lambda x: ipfs_client.add_str(x[:-4]))\n",
    "    ens_data_with_cid_df.loc[:, 'owner_cid'] = \\\n",
    "        ens_data_with_cid_df.loc[\n",
    "            ens_data_with_cid_df.owner == ens_data_with_cid_df.owner,\n",
    "            'owner'].progress_map(lambda x: ipfs_client.add_str(x))\n",
    "    ens_data_with_cid_df.loc[:, 'associated_address_cid'] = \\\n",
    "        ens_data_with_cid_df.loc[\n",
    "            ens_data_with_cid_df.owner == ens_data_with_cid_df.associated_address,\n",
    "            'owner_cid'].append(\n",
    "                ens_data_with_cid_df.loc[\n",
    "                (ens_data_with_cid_df.associated_address == ens_data_with_cid_df.associated_address) & (ens_data_with_cid_df.owner != ens_data_with_cid_df.associated_address),\n",
    "                    'associated_address'].progress_map(lambda x: ipfs_client.add_str(x)))\n",
    "\n",
    "    ens_data_with_cid_df.to_csv('data/ens_data_with_content_cid.csv')\n",
    "else:\n",
    "    ens_data_with_contenthash_df = pd.read_csv('data/ens_data_with_content_hash.csv', index_col=0)\n",
    "    ens_data_with_cid_df = pd.read_csv('data/ens_data_with_content_cid.csv', index_col=0)"
   ],
   "metadata": {
    "collapsed": false
   }
  },
  {
   "cell_type": "code",
   "execution_count": 8,
   "outputs": [
    {
     "name": "stdout",
     "output_type": "stream",
     "text": [
      "name: 2,517,359 (100.00%)\n",
      "owner: 2,502,120 (99.39%)\n",
      "resolver_address: 1,888,448 (75.02%)\n",
      "associated_address: 1,866,318 (74.14%)\n",
      "contenthash: 11,398 (0.45%)\n",
      "content cid: 5,651 (0.22%)\n",
      "\n",
      "associated_address!=owner: 46,602\n"
     ]
    }
   ],
   "source": [
    "for column in ens_data_df.columns:\n",
    "    print(\n",
    "        f'''{column}: {len(ens_data_df[(~ens_data_df[column].isna()) & (~ens_data_df[column].isin([\"b''\", '0x0000000000000000000000000000000000000000']))]):>,} ({len(ens_data_df[(~ens_data_df[column].isna()) & (~ens_data_df[column].isin([\"b''\", '0x0000000000000000000000000000000000000000']))]) / len(ens_data_df) * 100:.2f}%)''')\n",
    "print(\n",
    "    f'''content cid: {len(ens_data_with_cid_df):>,} ({len(ens_data_with_cid_df) / len(ens_data_df) * 100:.2f}%)''')\n",
    "print(\n",
    "    f'''\\nassociated_address!=owner: {len(ens_data_df[(ens_data_df.associated_address != ens_data_df.owner) & (~ens_data_df.associated_address.isna())]):>,}''')"
   ],
   "metadata": {
    "collapsed": false
   }
  },
  {
   "cell_type": "markdown",
   "source": [
    "### Content Codecs"
   ],
   "metadata": {
    "collapsed": false
   }
  },
  {
   "cell_type": "code",
   "execution_count": 9,
   "outputs": [
    {
     "data": {
      "text/plain": "<IPython.core.display.HTML object>",
      "text/html": "<div>\n<style scoped>\n    .dataframe tbody tr th:only-of-type {\n        vertical-align: middle;\n    }\n\n    .dataframe tbody tr th {\n        vertical-align: top;\n    }\n\n    .dataframe thead th {\n        text-align: right;\n    }\n</style>\n<table border=\"1\" class=\"dataframe\">\n  <thead>\n    <tr style=\"text-align: right;\">\n      <th>content_codec</th>\n      <th>name_cnt</th>\n    </tr>\n  </thead>\n  <tbody>\n    <tr>\n      <td>ipfs-ns</td>\n      <td>5665</td>\n    </tr>\n    <tr>\n      <td>ipns-ns</td>\n      <td>2621</td>\n    </tr>\n    <tr>\n      <td>00</td>\n      <td>2500</td>\n    </tr>\n    <tr>\n      <td>swarm-ns</td>\n      <td>510</td>\n    </tr>\n    <tr>\n      <td>90</td>\n      <td>41</td>\n    </tr>\n    <tr>\n      <td>onion3</td>\n      <td>23</td>\n    </tr>\n    <tr>\n      <td>onion</td>\n      <td>16</td>\n    </tr>\n    <tr>\n      <td>f8</td>\n      <td>2</td>\n    </tr>\n    <tr>\n      <td>cb</td>\n      <td>1</td>\n    </tr>\n    <tr>\n      <td>multicodec</td>\n      <td>1</td>\n    </tr>\n    <tr>\n      <td>ff</td>\n      <td>1</td>\n    </tr>\n    <tr>\n      <td>e7</td>\n      <td>1</td>\n    </tr>\n    <tr>\n      <td>db</td>\n      <td>1</td>\n    </tr>\n    <tr>\n      <td>cbor</td>\n      <td>1</td>\n    </tr>\n    <tr>\n      <td>c5</td>\n      <td>1</td>\n    </tr>\n    <tr>\n      <td>02</td>\n      <td>1</td>\n    </tr>\n    <tr>\n      <td>c3</td>\n      <td>1</td>\n    </tr>\n    <tr>\n      <td>bc</td>\n      <td>1</td>\n    </tr>\n    <tr>\n      <td>bb</td>\n      <td>1</td>\n    </tr>\n    <tr>\n      <td>aa</td>\n      <td>1</td>\n    </tr>\n    <tr>\n      <td>9a</td>\n      <td>1</td>\n    </tr>\n    <tr>\n      <td>54</td>\n      <td>1</td>\n    </tr>\n    <tr>\n      <td>4a</td>\n      <td>1</td>\n    </tr>\n    <tr>\n      <td>45</td>\n      <td>1</td>\n    </tr>\n    <tr>\n      <td>41</td>\n      <td>1</td>\n    </tr>\n    <tr>\n      <td>3d</td>\n      <td>1</td>\n    </tr>\n    <tr>\n      <td>34</td>\n      <td>1</td>\n    </tr>\n    <tr>\n      <td>torrent-info</td>\n      <td>1</td>\n    </tr>\n  </tbody>\n</table>\n</div>"
     },
     "metadata": {},
     "output_type": "display_data"
    }
   ],
   "source": [
    "def get_contenthash_codec(chash: str) -> str:\n",
    "    try:\n",
    "        return multicodec.get_codec(\n",
    "            multihash.from_hex_string(chash.lstrip('0x')))\n",
    "    except ValueError:\n",
    "        return chash[:2]\n",
    "\n",
    "ens_data_with_contenthash_df.loc[:, 'content_codec'] = ens_data_with_contenthash_df.contenthash.map(get_contenthash_codec)\n",
    "display_df(\n",
    "    ens_data_with_contenthash_df.groupby('content_codec')['name'].agg(name_cnt=np.count_nonzero).reset_index().sort_values('name_cnt', ascending=False)\n",
    ")"
   ],
   "metadata": {
    "collapsed": false
   }
  },
  {
   "cell_type": "markdown",
   "source": [
    "### Resolver Contracts"
   ],
   "metadata": {
    "collapsed": false
   }
  },
  {
   "cell_type": "code",
   "execution_count": 10,
   "outputs": [
    {
     "data": {
      "text/plain": "<IPython.core.display.HTML object>",
      "text/html": "<div>\n<style scoped>\n    .dataframe tbody tr th:only-of-type {\n        vertical-align: middle;\n    }\n\n    .dataframe tbody tr th {\n        vertical-align: top;\n    }\n\n    .dataframe thead th {\n        text-align: right;\n    }\n</style>\n<table border=\"1\" class=\"dataframe\">\n  <thead>\n    <tr style=\"text-align: right;\">\n      <th>resolver_address</th>\n      <th>name_cnt</th>\n    </tr>\n  </thead>\n  <tbody>\n    <tr>\n      <td>0x4976fb03C32e5B8cfe2b6cCB31c09Ba78EBaBa41</td>\n      <td>1881273</td>\n    </tr>\n    <tr>\n      <td>0x226159d592E2b063810a10Ebf6dcbADA94Ed68b8</td>\n      <td>2571</td>\n    </tr>\n    <tr>\n      <td>0xD3ddcCDD3b25A8a7423B5bEe360a42146eb4Baf3</td>\n      <td>1495</td>\n    </tr>\n    <tr>\n      <td>0x1da022710dF5002339274AaDEe8D58218e9D6AB5</td>\n      <td>1345</td>\n    </tr>\n    <tr>\n      <td>0x9C4e9CCE4780062942a7fe34FA2Fa7316c872956</td>\n      <td>489</td>\n    </tr>\n    <tr>\n      <td>0x5FfC014343cd971B7eb70732021E26C35B744cc4</td>\n      <td>483</td>\n    </tr>\n    <tr>\n      <td>0xB37671329ABE589109b0bDD1312cc6ACcF106259</td>\n      <td>317</td>\n    </tr>\n    <tr>\n      <td>0xeE2BB8598725445B532BDb14F522A99E04e84B38</td>\n      <td>58</td>\n    </tr>\n    <tr>\n      <td>0x5d68796477640aA3BdDD9f8b9Ad0DE06f5fd2Df9</td>\n      <td>15</td>\n    </tr>\n    <tr>\n      <td>0x57f1887a8BF19b14fC0dF6Fd9B2acc9Af147eA85</td>\n      <td>12</td>\n    </tr>\n    <tr>\n      <td>0xc43a1952447791a336AdEce612AD3825b527cF41</td>\n      <td>10</td>\n    </tr>\n    <tr>\n      <td>0x514008917e06c9d35f55C5b2Edf72bdDa59feE06</td>\n      <td>10</td>\n    </tr>\n    <tr>\n      <td>0xD1BaB5f24819E64606143CEE0Bc5571a9685Cf97</td>\n      <td>9</td>\n    </tr>\n    <tr>\n      <td>0xE0Def774872ED742e03cEB51759AB9a5a9a9A496</td>\n      <td>8</td>\n    </tr>\n    <tr>\n      <td>0xDaaF96c344f63131acadD0Ea35170E7892d3dfBA</td>\n      <td>8</td>\n    </tr>\n    <tr>\n      <td>0x618EB87dAA48b69A23e4973B91474BBfcB212949</td>\n      <td>7</td>\n    </tr>\n    <tr>\n      <td>0x4045fdc6F9cddc2E7057c7B8d7CC06B4E1fF1B1A</td>\n      <td>6</td>\n    </tr>\n    <tr>\n      <td>0x283Af0B28c62C092C9727F1Ee09c02CA627EB7F5</td>\n      <td>6</td>\n    </tr>\n    <tr>\n      <td>0xC18360217D8F7Ab5e7c516566761Ea12Ce7F9D72</td>\n      <td>6</td>\n    </tr>\n    <tr>\n      <td>0x6eD67db871abec7d38C4899546aCCe7D3171c69e</td>\n      <td>6</td>\n    </tr>\n    <tr>\n      <td>0xFa6eAae48Ae6c10062fD3Ac85b9E422654C1cD2A</td>\n      <td>5</td>\n    </tr>\n    <tr>\n      <td>0x7E8AA3255f862e6F0b19b1c62742e666625810c8</td>\n      <td>4</td>\n    </tr>\n    <tr>\n      <td>0x0465719485dB64e24d73d1619E03950830E4A5b3</td>\n      <td>4</td>\n    </tr>\n    <tr>\n      <td>0xF6997C082B61Ab90B94aDe3D258952501A754C31</td>\n      <td>4</td>\n    </tr>\n    <tr>\n      <td>0x45CEe41D093cE98f74AD190874576e3D6bc5486D</td>\n      <td>4</td>\n    </tr>\n    <tr>\n      <td>0x939bEAECBFC1eabbf735B7577Ee94084E133a9Bd</td>\n      <td>3</td>\n    </tr>\n    <tr>\n      <td>0x284feeB047896Deb74E80980e9f7Dd9134FF1442</td>\n      <td>3</td>\n    </tr>\n    <tr>\n      <td>0xCC3176d0bDa1E7E7f892AdA117B2b8A5D7211EBD</td>\n      <td>3</td>\n    </tr>\n    <tr>\n      <td>0x314159265dD8dbb310642f98f50C066173C1259b</td>\n      <td>2</td>\n    </tr>\n    <tr>\n      <td>0xC3bAA0FA5f21Af0157548Bebf57028516Fca7a71</td>\n      <td>2</td>\n    </tr>\n    <tr>\n      <td>0x66BeF2BA45902D3040Bf67dadEe87fEa60E2a76b</td>\n      <td>2</td>\n    </tr>\n    <tr>\n      <td>0x6488ea4A5177ADC1B150BB7C13944Ed3AB6A85a6</td>\n      <td>2</td>\n    </tr>\n    <tr>\n      <td>0xE27FD31A3a459c9A916c8d53C010916a7029e31F</td>\n      <td>2</td>\n    </tr>\n    <tr>\n      <td>0x3c16Df3dD6dc1176FdAf8845Bb1E6395e671A7D2</td>\n      <td>2</td>\n    </tr>\n    <tr>\n      <td>0x61285083AdFD239EF72E07A5fBa639aa5d5709e0</td>\n      <td>2</td>\n    </tr>\n    <tr>\n      <td>0xDf5E5fA80d2e745c4B852A9235E2EbEce3E108b4</td>\n      <td>2</td>\n    </tr>\n    <tr>\n      <td>0xCfaCdC6EAe040C1D6ed06659374C7a7069BeA07c</td>\n      <td>2</td>\n    </tr>\n    <tr>\n      <td>0x9520b477Aa81180E6DdC006Fc09Fb6d3eb4e807A</td>\n      <td>2</td>\n    </tr>\n    <tr>\n      <td>0x24Ca73fA60978C84B89E0b760CA3d236242ee829</td>\n      <td>2</td>\n    </tr>\n    <tr>\n      <td>0xc9b5CAeAD28d9Fb4fbca386aA90b8DEB647e5A12</td>\n      <td>2</td>\n    </tr>\n    <tr>\n      <td>0x9fb848300E736075eD568147259bF8a8eeFe4fEf</td>\n      <td>2</td>\n    </tr>\n    <tr>\n      <td>0x122eb74f9d0F1a5ed587F43D120C1c2BbDb9360B</td>\n      <td>2</td>\n    </tr>\n    <tr>\n      <td>0x1ff63DF1077a40ec7A4f5a85a07eA7aC773EF368</td>\n      <td>2</td>\n    </tr>\n    <tr>\n      <td>0x9A8d1621675E9A58e622Ffe6dbB8cE76B613CE19</td>\n      <td>2</td>\n    </tr>\n    <tr>\n      <td>0x14B1Fd11461255b364eAAB88a8A7Dff65caf49C3</td>\n      <td>2</td>\n    </tr>\n    <tr>\n      <td>0x0B3eBEccC00E9CEae2BF3235d558EdA7398BE91E</td>\n      <td>2</td>\n    </tr>\n    <tr>\n      <td>0xAdaa224be0779aF13C3820F67a8FF28E894A917F</td>\n      <td>1</td>\n    </tr>\n    <tr>\n      <td>0xD10c4DbF092Be6150fE80a7B5A9FD4690Dd4A6bA</td>\n      <td>1</td>\n    </tr>\n    <tr>\n      <td>0xCd07cC93DdD79D0946F9BB3157fe0b5991a227F3</td>\n      <td>1</td>\n    </tr>\n    <tr>\n      <td>0x9D45095d4A75c7F160e33bc4d9121BE1588d85e4</td>\n      <td>1</td>\n    </tr>\n    <tr>\n      <td>0x9B5e166A62E8E28A06b958197c72EcC3Bc5f0C4f</td>\n      <td>1</td>\n    </tr>\n    <tr>\n      <td>0x9A94Ac82B17E67F7dff81912de68EB74ca20E6C3</td>\n      <td>1</td>\n    </tr>\n    <tr>\n      <td>0xCfc652eB757F821dA8b8f6AfA4358880225ee456</td>\n      <td>1</td>\n    </tr>\n    <tr>\n      <td>0xD047B65f54f4AA8EaE6BB9F3D9d5D126FE722b9F</td>\n      <td>1</td>\n    </tr>\n    <tr>\n      <td>0x9943d42D7a59a0abaE451130CcfC77d758da9cA0</td>\n      <td>1</td>\n    </tr>\n    <tr>\n      <td>0x99D37397A59E517D7099e3DbED1b4ceF4D370DB6</td>\n      <td>1</td>\n    </tr>\n    <tr>\n      <td>0x995BC7f6C7968C477A7a4f9E4776B66fcaB1B5Ae</td>\n      <td>1</td>\n    </tr>\n    <tr>\n      <td>0x97cf2D815dD039ccA8beDaC48bc1384eAF91a10d</td>\n      <td>1</td>\n    </tr>\n    <tr>\n      <td>0x96974F044201851058c726f64b0baA8a1a4eBA4a</td>\n      <td>1</td>\n    </tr>\n    <tr>\n      <td>0xD365b36F78ebaec2c389D7A2B8c8225699393aA1</td>\n      <td>1</td>\n    </tr>\n    <tr>\n      <td>0x96670A91E1A0dbAde97fCDC0ABdDEe769C21fc8e</td>\n      <td>1</td>\n    </tr>\n    <tr>\n      <td>0x96457C2392FA52BF71F368F20baDeb5cB2B1E76A</td>\n      <td>1</td>\n    </tr>\n    <tr>\n      <td>0xD3E2C00D85182D62BF864BCDF08c3E62D511657c</td>\n      <td>1</td>\n    </tr>\n    <tr>\n      <td>0x95c320b17C838859554eff016C8c1459CCA15cCC</td>\n      <td>1</td>\n    </tr>\n    <tr>\n      <td>0x95aD61b0a150d79219dCF64E1E6Cc01f0B64C4cE</td>\n      <td>1</td>\n    </tr>\n    <tr>\n      <td>0x9594D5E0eB709a32eE5405920de430cF2872230D</td>\n      <td>1</td>\n    </tr>\n    <tr>\n      <td>0xCD0e4E558E820aE7A912118b0E86a2CF39Ee7cd9</td>\n      <td>1</td>\n    </tr>\n    <tr>\n      <td>0xCC8714Ef555346c73bc02367923c490A53170E04</td>\n      <td>1</td>\n    </tr>\n    <tr>\n      <td>0x9a276212a451F6DFFF2f081e7f1885B1Cb671dc3</td>\n      <td>1</td>\n    </tr>\n    <tr>\n      <td>0xB090c6d2Bfbe118B617cdb3e284478Bb661B4151</td>\n      <td>1</td>\n    </tr>\n    <tr>\n      <td>0xAA0b90BE81929B5831de6c771A782128B0e67f2d</td>\n      <td>1</td>\n    </tr>\n    <tr>\n      <td>0xA9BfBe27989afea69E2eB6cBc70cc54b62434388</td>\n      <td>1</td>\n    </tr>\n    <tr>\n      <td>0xB422135C56a32FB53409f97C280d2471A07C7f91</td>\n      <td>1</td>\n    </tr>\n    <tr>\n      <td>0xB4F6D800B3E60F7716A67D71f2ED2C06cCf7aBa5</td>\n      <td>1</td>\n    </tr>\n    <tr>\n      <td>0xBA6582fe02ED427504b5AD6124B6CD31BA611F0B</td>\n      <td>1</td>\n    </tr>\n    <tr>\n      <td>0xBAc7684B9ed4411B489eAE4c0611058239353Bad</td>\n      <td>1</td>\n    </tr>\n    <tr>\n      <td>0xBcd5B67aaeBb9765beE438e4Ce137B9aE2181898</td>\n      <td>1</td>\n    </tr>\n    <tr>\n      <td>0xC02aaA39b223FE8D0A0e5C4F27eAD9083C756Cc2</td>\n      <td>1</td>\n    </tr>\n    <tr>\n      <td>0xC1735677a60884ABbCF72295E88d47764BeDa282</td>\n      <td>1</td>\n    </tr>\n    <tr>\n      <td>0xA5BDE3Cc5d65e3e7eF2ddec7AA8f42843d67c2Ef</td>\n      <td>1</td>\n    </tr>\n    <tr>\n      <td>0xC23DA3Ca9300571B9CF43298228353cbb3E1b4c0</td>\n      <td>1</td>\n    </tr>\n    <tr>\n      <td>0xC2680d1f381F9DA81a6dAa7A4Dc81c2094B93C9b</td>\n      <td>1</td>\n    </tr>\n    <tr>\n      <td>0xC36442b4a4522E871399CD717aBDD847Ab11FE88</td>\n      <td>1</td>\n    </tr>\n    <tr>\n      <td>0xA3F145D54D24691a6392e2D5959ddb1e4A5Db9E5</td>\n      <td>1</td>\n    </tr>\n    <tr>\n      <td>0xC5162dF36af09d582F3C427dB53fE8AD0173e60b</td>\n      <td>1</td>\n    </tr>\n    <tr>\n      <td>0xA2C122BE93b0074270ebeE7f6b7292C7deB45047</td>\n      <td>1</td>\n    </tr>\n    <tr>\n      <td>0xC6058667a57374cd350280Fcf06a5f0517682BEB</td>\n      <td>1</td>\n    </tr>\n    <tr>\n      <td>0xA19f0378A6F3f3361d8e962F3589Ec28f4f8F159</td>\n      <td>1</td>\n    </tr>\n    <tr>\n      <td>0xCBC66f83FBbF59D8eC0a3B1C2C04e08e43CAc104</td>\n      <td>1</td>\n    </tr>\n    <tr>\n      <td>0x9fc050123EfdbA1248C5f1b87220092e9cf7d1d9</td>\n      <td>1</td>\n    </tr>\n    <tr>\n      <td>0x9bcB319bED50ff0cE2D6FfA95AB9293A175aeD7d</td>\n      <td>1</td>\n    </tr>\n    <tr>\n      <td>0xB91B08535c179F525CA658C98136ba94985e0279</td>\n      <td>1</td>\n    </tr>\n    <tr>\n      <td>0x00000000000C2E074eC69A0dFb2997BA6C7d2e1e</td>\n      <td>1</td>\n    </tr>\n    <tr>\n      <td>0xD74aBF904DFB363C8dc092711A5834d64B65bfa6</td>\n      <td>1</td>\n    </tr>\n    <tr>\n      <td>0xe8fa093E9261047DdB8e4C8D8a16b3B21a3853DA</td>\n      <td>1</td>\n    </tr>\n    <tr>\n      <td>0xbd342F1a87c6E3aC89571139AC621694f07c2C96</td>\n      <td>1</td>\n    </tr>\n    <tr>\n      <td>0xbd42cb82Bd03a194860882DE1Ff588f2B63BE45C</td>\n      <td>1</td>\n    </tr>\n    <tr>\n      <td>0xc5d9BF22D5aa8eE05090A6b04962c7aFB3C26aA3</td>\n      <td>1</td>\n    </tr>\n    <tr>\n      <td>0xc654f232C0EB65eC61990F5Df5D90F1bB350B9Fb</td>\n      <td>1</td>\n    </tr>\n    <tr>\n      <td>0xc68E0204810A1d63742e57efD0108d24D734A18B</td>\n      <td>1</td>\n    </tr>\n    <tr>\n      <td>0xc8dCae52a424794024f4558452679D8e01Da9367</td>\n      <td>1</td>\n    </tr>\n    <tr>\n      <td>0xcbEaA5283B584dB70e6B687E173400c8FB3c1b62</td>\n      <td>1</td>\n    </tr>\n    <tr>\n      <td>0xd3E329eCFEc54f8036a25e9040A5119266f5BA0B</td>\n      <td>1</td>\n    </tr>\n    <tr>\n      <td>0xdBc8a9d0d6784B5B3c94A88c8BdAe7edE841ED78</td>\n      <td>1</td>\n    </tr>\n    <tr>\n      <td>0xdF9fEC8e82C58d7890552fD318073A2676C2CC03</td>\n      <td>1</td>\n    </tr>\n    <tr>\n      <td>0xe1770694dD52660515Bc801302F3f75f562Ea7ce</td>\n      <td>1</td>\n    </tr>\n    <tr>\n      <td>0xe1A9333d2D2363627cCCB11E31112b5d34B347fe</td>\n      <td>1</td>\n    </tr>\n    <tr>\n      <td>0xe37785129F8bE70B7e2eDe9b7e1b04bc0225cD86</td>\n      <td>1</td>\n    </tr>\n    <tr>\n      <td>0xe65d8AAF34CB91087D1598e0A15B582F57F217d9</td>\n      <td>1</td>\n    </tr>\n    <tr>\n      <td>0xe9C17e98448D5D57fB15A518A98Ffdbb90E8efc8</td>\n      <td>1</td>\n    </tr>\n    <tr>\n      <td>0xD9A52b6506743cF5fAFf14C875cB443da9660e00</td>\n      <td>1</td>\n    </tr>\n    <tr>\n      <td>0xeA32BF2135888c46157320f9fE3539211945cbAE</td>\n      <td>1</td>\n    </tr>\n    <tr>\n      <td>0xf14B4b493dFF4e059Bdcc46F998Db6Bec5487bF0</td>\n      <td>1</td>\n    </tr>\n    <tr>\n      <td>0xf1B33aC32dbC6617f7267a349be6ebb004FeCcff</td>\n      <td>1</td>\n    </tr>\n    <tr>\n      <td>0xf1fa9a38914E853DE933FbF7Df2f278701e873DF</td>\n      <td>1</td>\n    </tr>\n    <tr>\n      <td>0xf3434a86e10313dfE16174452F7D0912e89EbA8B</td>\n      <td>1</td>\n    </tr>\n    <tr>\n      <td>0xf4B9aaae3AB39325D12EA62fCcD3c05266e07e21</td>\n      <td>1</td>\n    </tr>\n    <tr>\n      <td>0xf7927ad8cD07168be8aFFA1b453b5B85564833EF</td>\n      <td>1</td>\n    </tr>\n    <tr>\n      <td>0xf7a6AF67E76676FC00749532FD10ff86327721B6</td>\n      <td>1</td>\n    </tr>\n    <tr>\n      <td>0xf84009B9DdD5b944369cc88D610673A4ec221531</td>\n      <td>1</td>\n    </tr>\n    <tr>\n      <td>0xf8AcD1ae34b397B9D80F6b715747FEBfd04d702B</td>\n      <td>1</td>\n    </tr>\n    <tr>\n      <td>0xf9E47016C7Aa41c2f4b7fc20dCeb5c7E086a9239</td>\n      <td>1</td>\n    </tr>\n    <tr>\n      <td>0xfDb3D41404899BF6de40eADdA61AB3F7C5C87B1f</td>\n      <td>1</td>\n    </tr>\n    <tr>\n      <td>0xfE9F036cA06A3d5977E665CEa053802D5860e131</td>\n      <td>1</td>\n    </tr>\n    <tr>\n      <td>0xfEd15715834Fe898a6AFfc1C1321b77e75701605</td>\n      <td>1</td>\n    </tr>\n    <tr>\n      <td>0xbaBAD5a2D6713572A5019705F8ba84740dc3c1b3</td>\n      <td>1</td>\n    </tr>\n    <tr>\n      <td>0xbF3FE242f751EcE91462E77de6fD305Cac7e6066</td>\n      <td>1</td>\n    </tr>\n    <tr>\n      <td>0xb6c43742F22479f1cAfdeA28725042694D5FdE0F</td>\n      <td>1</td>\n    </tr>\n    <tr>\n      <td>0xb60D8c799001A3dbEC5DcD5ebCF1f2409e6E7670</td>\n      <td>1</td>\n    </tr>\n    <tr>\n      <td>0xDDd3964D75D59B6B6d5c31eB313BBA5EBF076364</td>\n      <td>1</td>\n    </tr>\n    <tr>\n      <td>0xDcC7F1a56a1B57b081A40184503e1eA250b5b3c3</td>\n      <td>1</td>\n    </tr>\n    <tr>\n      <td>0xE13C54214267675428Adf7E0af9DA433F5Ead460</td>\n      <td>1</td>\n    </tr>\n    <tr>\n      <td>0xE1cb2a5722c6949cDC6867B9eA2A17CC8Ecbd8F9</td>\n      <td>1</td>\n    </tr>\n    <tr>\n      <td>0xE23c8f8aB1Cdd56D89F181c22Bf43e5b53871E08</td>\n      <td>1</td>\n    </tr>\n    <tr>\n      <td>0xE547649Adf9Db34bce20c0Fa4FB63Cb67F1cE891</td>\n      <td>1</td>\n    </tr>\n    <tr>\n      <td>0xE56b4D8d42b1C9eA7dda8A6950e3699755943DE7</td>\n      <td>1</td>\n    </tr>\n    <tr>\n      <td>0xE8c9C3568Aaf0ed8973a3C5089241eb01714052b</td>\n      <td>1</td>\n    </tr>\n    <tr>\n      <td>0xEEAa484073477ae206F4a2012DCcfB92626E6728</td>\n      <td>1</td>\n    </tr>\n    <tr>\n      <td>0xEeC7659Ced53970ccA385b67D789aC62d4BBe2f4</td>\n      <td>1</td>\n    </tr>\n    <tr>\n      <td>0xF2fEAF386096Ccac0ef9aCd158D0B2C5cb95D244</td>\n      <td>1</td>\n    </tr>\n    <tr>\n      <td>0xF4E7d59B63Ce3b9F1BA79CaEC73dF4e7F9780D85</td>\n      <td>1</td>\n    </tr>\n    <tr>\n      <td>0xF55fFe9EB51E2B013eA4cAEb7868C5c75cA65396</td>\n      <td>1</td>\n    </tr>\n    <tr>\n      <td>0xF85B97bF4eD819505F3E23623AF5dF8c6d2216F4</td>\n      <td>1</td>\n    </tr>\n    <tr>\n      <td>0xFEF8133D8C0eCf5d9902DFFA7E9606D1b516308D</td>\n      <td>1</td>\n    </tr>\n    <tr>\n      <td>0xFd5Aec213eCc88E60eFEe6D1D7ED2df96a49adAd</td>\n      <td>1</td>\n    </tr>\n    <tr>\n      <td>0xa15eC67b3Daafd655C232129bA1633AB2F304FE9</td>\n      <td>1</td>\n    </tr>\n    <tr>\n      <td>0xa281c832895F8f22328AC8e1Ad55093f33486A8F</td>\n      <td>1</td>\n    </tr>\n    <tr>\n      <td>0xa3c029008D0F0003E85383526d46429b26644F31</td>\n      <td>1</td>\n    </tr>\n    <tr>\n      <td>0xa8d23C6A13Bd878Cf5e1492c9D05294546Ea64Fa</td>\n      <td>1</td>\n    </tr>\n    <tr>\n      <td>0xa98ACa5B10baE97928323F72805e75EDf6Db2122</td>\n      <td>1</td>\n    </tr>\n    <tr>\n      <td>0xaBE2Afd539e07a462aDaF1b016c5aC4975E1C28a</td>\n      <td>1</td>\n    </tr>\n    <tr>\n      <td>0xab6C8fb2f743c551Ce5d401029f743c9667f37D0</td>\n      <td>1</td>\n    </tr>\n    <tr>\n      <td>0xac4A7e225c846bf3c5D5b0d6E95d182D2e7CBfaC</td>\n      <td>1</td>\n    </tr>\n    <tr>\n      <td>0xb0210F50fE347DB14092C74cf2E71669CD1b58B5</td>\n      <td>1</td>\n    </tr>\n    <tr>\n      <td>0xb1B567B028e2d4a8c7F12cf7cAB767bcEb7A163A</td>\n      <td>1</td>\n    </tr>\n    <tr>\n      <td>0xb27DB5a34DA5FE08B34B58B1c81CB5773fFCf894</td>\n      <td>1</td>\n    </tr>\n    <tr>\n      <td>0xb2EeF9D0235A339179A7e177E818439Dcca9d76E</td>\n      <td>1</td>\n    </tr>\n    <tr>\n      <td>0xb3168D00240bdA5310Df6d53Ad00c646ee8164cF</td>\n      <td>1</td>\n    </tr>\n    <tr>\n      <td>0xE3cc94a7Bc2D7c4510dbB3945e09c1C75a9d9533</td>\n      <td>1</td>\n    </tr>\n    <tr>\n      <td>0x84BE51FEe06D2BC07F8b2d2837fe89052815bC02</td>\n      <td>1</td>\n    </tr>\n    <tr>\n      <td>0x9378368ba6b85c1FbA5b131b530f5F5bEdf21A18</td>\n      <td>1</td>\n    </tr>\n    <tr>\n      <td>0x31D4f031438FF4B2D5f36e779bD23920dF9559bc</td>\n      <td>1</td>\n    </tr>\n    <tr>\n      <td>0x2C24b9D03389b866222f508c06A9998bE8fba38B</td>\n      <td>1</td>\n    </tr>\n    <tr>\n      <td>0x2DA45F85A969cf49103AD4283c821705ca2e7759</td>\n      <td>1</td>\n    </tr>\n    <tr>\n      <td>0x2E0553B0f5e6114aB6eC4962a225B43fe32b7E5e</td>\n      <td>1</td>\n    </tr>\n    <tr>\n      <td>0x2F63e6B91bC054010b8E26322C4915e7b3c4C3A8</td>\n      <td>1</td>\n    </tr>\n    <tr>\n      <td>0x2F9079738a5C1587ec502FF86a17c0F3335bD881</td>\n      <td>1</td>\n    </tr>\n    <tr>\n      <td>0x2a04a19648E38dDD9a9cC35C064C48F1651aC13C</td>\n      <td>1</td>\n    </tr>\n    <tr>\n      <td>0x2ae78C9a3dF6aABbE98e401c931A8BFfdE800fe7</td>\n      <td>1</td>\n    </tr>\n    <tr>\n      <td>0x2b62b816e89Ab6105f16B80CFd269017b79C45E5</td>\n      <td>1</td>\n    </tr>\n    <tr>\n      <td>0x2c278b59a81C15698B703F48bbdce12093442cC0</td>\n      <td>1</td>\n    </tr>\n    <tr>\n      <td>0x2d64EFc7620f0663C7B8EF0ac466A41358E4170F</td>\n      <td>1</td>\n    </tr>\n    <tr>\n      <td>0x3006ef6777ccC79C3aF305101Fe0B3D14bd47b59</td>\n      <td>1</td>\n    </tr>\n    <tr>\n      <td>0x30200E0cb040F38E474E53EF437c95A1bE723b2B</td>\n      <td>1</td>\n    </tr>\n    <tr>\n      <td>0x30718f4e09873395b912B26eC2FA1bEFA2262c16</td>\n      <td>1</td>\n    </tr>\n    <tr>\n      <td>0x30887fc55CbFAd3487Cb55bfE1779f6d2ba1c118</td>\n      <td>1</td>\n    </tr>\n    <tr>\n      <td>0x34F519d06A25C801Ec8db54D9d793C6ced5fE5Da</td>\n      <td>1</td>\n    </tr>\n    <tr>\n      <td>0x2AF4125c8fE208a349ef78d3cb980308ab1Ed34f</td>\n      <td>1</td>\n    </tr>\n    <tr>\n      <td>0x362C02D1E200985f1F65456640301871520C5226</td>\n      <td>1</td>\n    </tr>\n    <tr>\n      <td>0x376C865f7de6DAE5936C7f75B369aB89FE28D80E</td>\n      <td>1</td>\n    </tr>\n    <tr>\n      <td>0x37F4E8D6072C2a53F883724b67850b4668cc4c5d</td>\n      <td>1</td>\n    </tr>\n    <tr>\n      <td>0x39207D2E2fEEF178FBdA8083914554C59D9f8c00</td>\n      <td>1</td>\n    </tr>\n    <tr>\n      <td>0x394053A6a3945b8C2061dE0B4F2a1c7AC15E6bfa</td>\n      <td>1</td>\n    </tr>\n    <tr>\n      <td>0x396588a4B790154ee5b7c23C37E8a130f1A6cbF9</td>\n      <td>1</td>\n    </tr>\n    <tr>\n      <td>0x3B9d33344b63b971F630A8De053DC3d2053bAe57</td>\n      <td>1</td>\n    </tr>\n    <tr>\n      <td>0x3C393072dDefa188282449dF78c585847a17E589</td>\n      <td>1</td>\n    </tr>\n    <tr>\n      <td>0x3Fc5C75158AbF1f7bA5A3B48b1E91CBAc5908069</td>\n      <td>1</td>\n    </tr>\n    <tr>\n      <td>0x406e0f8f5160b6Ab25EF8e83B797703aa1A544B7</td>\n      <td>1</td>\n    </tr>\n    <tr>\n      <td>0x42A03EAb697aC4d158dD7921c6271989E2929bF5</td>\n      <td>1</td>\n    </tr>\n    <tr>\n      <td>0x42d4E110bF1d6c32322ACeb07DFcD3446b2ba9D7</td>\n      <td>1</td>\n    </tr>\n    <tr>\n      <td>0x47713319511eb14FCE206e092c471E7c675f61aC</td>\n      <td>1</td>\n    </tr>\n    <tr>\n      <td>0x49007C4E4F69Ccc5806CAC4ABF6072ee4c58C5b2</td>\n      <td>1</td>\n    </tr>\n    <tr>\n      <td>0x2B2F6F2D53A3faCF64b1b91B79E8DF9753602f7D</td>\n      <td>1</td>\n    </tr>\n    <tr>\n      <td>0x284F583e23a571f7c1aFe4787D44f0ae5c8c2Ee3</td>\n      <td>1</td>\n    </tr>\n    <tr>\n      <td>0x91D6E260A5965a3C33D5Bc4bf4ADCF96C449ED2e</td>\n      <td>1</td>\n    </tr>\n    <tr>\n      <td>0x11F7C311E7eaC35104b8d18C447EE8407C61A851</td>\n      <td>1</td>\n    </tr>\n    <tr>\n      <td>0x007629f8eF50Ed51a5ee2a3cD67FAB11401A9a2d</td>\n      <td>1</td>\n    </tr>\n    <tr>\n      <td>0x0082eCB97De99d907B779625e8B3c45f1C151A60</td>\n      <td>1</td>\n    </tr>\n    <tr>\n      <td>0x019f0b3AcCD7Ba2BAA2C1CbFd820ad7E238fc0d0</td>\n      <td>1</td>\n    </tr>\n    <tr>\n      <td>0x01E7aa77cc62024647ce2A906049F390f0e940d3</td>\n      <td>1</td>\n    </tr>\n    <tr>\n      <td>0x020850bF574dABE296542B35cbd9413156d8b117</td>\n      <td>1</td>\n    </tr>\n    <tr>\n      <td>0x0406Bf2dAE6A42d567b4e3DbA6ADA99069622fF1</td>\n      <td>1</td>\n    </tr>\n    <tr>\n      <td>0x054bD236b42385c938357112F419dC5943687886</td>\n      <td>1</td>\n    </tr>\n    <tr>\n      <td>0x07B13EC001De4A64fdfa05487123E85f67f3635b</td>\n      <td>1</td>\n    </tr>\n    <tr>\n      <td>0x07BBc52fABc3A50a39Ea90f768E239f720Ca1703</td>\n      <td>1</td>\n    </tr>\n    <tr>\n      <td>0x0899A46DBCBBEd0a009C308E70B9A1dB9d4B0363</td>\n      <td>1</td>\n    </tr>\n    <tr>\n      <td>0x0E380f930F523Eb3563369BbFBEd3E4EbDC4d2c2</td>\n      <td>1</td>\n    </tr>\n    <tr>\n      <td>0x0E646aDdD73f88a141b7c9a0e34a75487f85fB49</td>\n      <td>1</td>\n    </tr>\n    <tr>\n      <td>0x0a2340e7AF5dcf6f7f4ACc0E01f2102fb4b144B7</td>\n      <td>1</td>\n    </tr>\n    <tr>\n      <td>0x109Bb92503c567Ac52647d507849AA9429077bF9</td>\n      <td>1</td>\n    </tr>\n    <tr>\n      <td>0x13534638007051Ca24d92bc10799D4c83dD66F0D</td>\n      <td>1</td>\n    </tr>\n    <tr>\n      <td>0x283E256A6d0fDd3441BbC97B651b09198767FE77</td>\n      <td>1</td>\n    </tr>\n    <tr>\n      <td>0x14C878cF6F53b3101f7c74F9d34DE0655b936F6F</td>\n      <td>1</td>\n    </tr>\n    <tr>\n      <td>0x16922cf675331F2d9dc719B1A916F8D829B04dCd</td>\n      <td>1</td>\n    </tr>\n    <tr>\n      <td>0x172125764B9db50f2015462ddc8e541D2e87F661</td>\n      <td>1</td>\n    </tr>\n    <tr>\n      <td>0x1985e57Bc150752cb5e69Ba58a7BD634D205A482</td>\n      <td>1</td>\n    </tr>\n    <tr>\n      <td>0x1A06E789Dfbf7938F10684d460D79952eF7d5943</td>\n      <td>1</td>\n    </tr>\n    <tr>\n      <td>0x1A6149A2C5cf93619Ec77440601E88A13723A78D</td>\n      <td>1</td>\n    </tr>\n    <tr>\n      <td>0x1BbAb2BAd0dB7FC9bAfc0A36235a6bbFc137e284</td>\n      <td>1</td>\n    </tr>\n    <tr>\n      <td>0x1DbE9b8Afe5269cF7f5989e3fD16cc6A64C3255e</td>\n      <td>1</td>\n    </tr>\n    <tr>\n      <td>0x1E3B4Ce0e871f9e8E30dfd1b6C789E2FbE57A286</td>\n      <td>1</td>\n    </tr>\n    <tr>\n      <td>0x200C0F7EDCB482b762238A905cc7933B70Fde8e6</td>\n      <td>1</td>\n    </tr>\n    <tr>\n      <td>0x20402C6868235350dE963656481dc15ed4350877</td>\n      <td>1</td>\n    </tr>\n    <tr>\n      <td>0x21a4eD8619906E54E2D647a2C5f781c61Af23cAD</td>\n      <td>1</td>\n    </tr>\n    <tr>\n      <td>0x2781246fe707bB15CeE3e5ea354e2154a2877B16</td>\n      <td>1</td>\n    </tr>\n    <tr>\n      <td>0x280FD251a0C11eB1116fde107D1663b0FecFcb90</td>\n      <td>1</td>\n    </tr>\n    <tr>\n      <td>0x4A2EB551f16246465149E6dB873d1e0B122585A7</td>\n      <td>1</td>\n    </tr>\n    <tr>\n      <td>0x4C5A345D4F546Bd1E5Eb9Bcd61FBa3a9F9d335d0</td>\n      <td>1</td>\n    </tr>\n    <tr>\n      <td>0x4DA86a24e30a188608E1364A2D262166a87fCB7C</td>\n      <td>1</td>\n    </tr>\n    <tr>\n      <td>0x80439266D56C9F9027A7711833E9807a09D8923e</td>\n      <td>1</td>\n    </tr>\n    <tr>\n      <td>0x77a43161DF5aDCac2FaDc4Fbc5E56e0b2a49292a</td>\n      <td>1</td>\n    </tr>\n    <tr>\n      <td>0x7846544e8ff32eaeAC1323715AD75AF183EBA668</td>\n      <td>1</td>\n    </tr>\n    <tr>\n      <td>0x78DCAc0f84DafB61FDbB62e32Fc17e3B8359e99a</td>\n      <td>1</td>\n    </tr>\n    <tr>\n      <td>0x78b94b1F25D4b0DfD2d19c5bff233C26b4e3accE</td>\n      <td>1</td>\n    </tr>\n    <tr>\n      <td>0x79986aF15539de2db9A5086382daEdA917A9CF0C</td>\n      <td>1</td>\n    </tr>\n    <tr>\n      <td>0x79e432f337C6B2b1A6A14cDaC1db8d6E928092D1</td>\n      <td>1</td>\n    </tr>\n    <tr>\n      <td>0x7B76ADF47b09F09e1107A1235E513724168d95f0</td>\n      <td>1</td>\n    </tr>\n    <tr>\n      <td>0x7CC54bD2a3758138ab3c719742D131cdb2bFA068</td>\n      <td>1</td>\n    </tr>\n    <tr>\n      <td>0x7D9fedeaD40CD29486542aF3cE947F5f6C21D212</td>\n      <td>1</td>\n    </tr>\n    <tr>\n      <td>0x7DFf175fd8aAE545776eACA4dFd664352556f028</td>\n      <td>1</td>\n    </tr>\n    <tr>\n      <td>0x7FcCa8a9b58030ae8bAfCb4d20107d306d9f0345</td>\n      <td>1</td>\n    </tr>\n    <tr>\n      <td>0x7a3da43e5A3FF81D68de06F140c8eEf3BD8DfE20</td>\n      <td>1</td>\n    </tr>\n    <tr>\n      <td>0x7aeA8E15dBC4123D7cda74173387dFB89E716385</td>\n      <td>1</td>\n    </tr>\n    <tr>\n      <td>0x7b7856f375F43a510f729DCeb6a2Be3cD99771BD</td>\n      <td>1</td>\n    </tr>\n    <tr>\n      <td>0x80bcE9Eb416477D552f376ABB657Ed684250873A</td>\n      <td>1</td>\n    </tr>\n    <tr>\n      <td>0x4F1372a2eeb186Ae75d3F7dcAf164251Eadb4e85</td>\n      <td>1</td>\n    </tr>\n    <tr>\n      <td>0x8177829e8718074b5B56e589F8eF11a11A697A4E</td>\n      <td>1</td>\n    </tr>\n    <tr>\n      <td>0x82d98D0Fdd1C978faC88B6452787D62f46d0d7ac</td>\n      <td>1</td>\n    </tr>\n    <tr>\n      <td>0x8434437aA558652D847D7aE95c2e5F3A1b384a5c</td>\n      <td>1</td>\n    </tr>\n    <tr>\n      <td>0x00000000006c3852cbEf3e08E8dF289169EdE581</td>\n      <td>1</td>\n    </tr>\n    <tr>\n      <td>0x8584E54dF79D9EA3216195Ce034977968f01457C</td>\n      <td>1</td>\n    </tr>\n    <tr>\n      <td>0x865B0079AEE242975F0d2106eAEdD856A5853e5e</td>\n      <td>1</td>\n    </tr>\n    <tr>\n      <td>0x87Dff96c4C59BD7A6f61A75778d1bCff51836923</td>\n      <td>1</td>\n    </tr>\n    <tr>\n      <td>0x887747497B1827Ab77cBF2E71610b88C34a32F5C</td>\n      <td>1</td>\n    </tr>\n    <tr>\n      <td>0x888aB947Cb7135DC25D4936E9a49b4e2bcDEa467</td>\n      <td>1</td>\n    </tr>\n    <tr>\n      <td>0x8AD27bE0984cbBe78c854b78c3789F3250E17a2D</td>\n      <td>1</td>\n    </tr>\n    <tr>\n      <td>0x8E23cc18Cc420Cdc7a57A227c1461c6D870f6fbB</td>\n      <td>1</td>\n    </tr>\n    <tr>\n      <td>0x8a6f7c7f5F270Aec326265cB5CdD37716F1C313e</td>\n      <td>1</td>\n    </tr>\n    <tr>\n      <td>0x8e61EFe119d4b544af9fd8eB9d8059Dd24Bf82b8</td>\n      <td>1</td>\n    </tr>\n    <tr>\n      <td>0x9136413c3c06BAb7Db79040aD2175BFc1eDb14bE</td>\n      <td>1</td>\n    </tr>\n    <tr>\n      <td>0x7685d54dB7b41dd751AD1e1b62a62f92D3cE09BE</td>\n      <td>1</td>\n    </tr>\n    <tr>\n      <td>0x75F295eEF8958425E3Cb4B05589A742B775BE0E1</td>\n      <td>1</td>\n    </tr>\n    <tr>\n      <td>0x759A3982426C24FDc840f1757Fd58f2348bbDA67</td>\n      <td>1</td>\n    </tr>\n    <tr>\n      <td>0x74F32193Df48fC4ac08f7884c7349A9D48e2248e</td>\n      <td>1</td>\n    </tr>\n    <tr>\n      <td>0x4F26FfBe5F04ED43630fdC30A87638d53D0b0876</td>\n      <td>1</td>\n    </tr>\n    <tr>\n      <td>0x4e9d944cB72D1897F361E33c3154C514f024612f</td>\n      <td>1</td>\n    </tr>\n    <tr>\n      <td>0x5029f0b3db536F67b6B336Bd22CB66F74E8C2f80</td>\n      <td>1</td>\n    </tr>\n    <tr>\n      <td>0x509D8f0c0aCd4af0303eBefaeD96dF3E8f4FdD3E</td>\n      <td>1</td>\n    </tr>\n    <tr>\n      <td>0x515f23dad4A195fC8a4a2E35E5DC34715E80519d</td>\n      <td>1</td>\n    </tr>\n    <tr>\n      <td>0x55D0Bb8D7e7fBf5B863C7923c4645FF83c3D0033</td>\n      <td>1</td>\n    </tr>\n    <tr>\n      <td>0x56e2ee732b6CCa06CEBE0315355D832afc1f6404</td>\n      <td>1</td>\n    </tr>\n    <tr>\n      <td>0x5810326C072B60C413DdD258054fc5c9BdFeF762</td>\n      <td>1</td>\n    </tr>\n    <tr>\n      <td>0x5a0874b175cfc919221D6E7d3Af124e761B79706</td>\n      <td>1</td>\n    </tr>\n    <tr>\n      <td>0x5bC4Baf52b9488aC18dAf452Ca4b31b61751B7F6</td>\n      <td>1</td>\n    </tr>\n    <tr>\n      <td>0x5fBb459C49BB06083C33109fA4f14810eC2Cf358</td>\n      <td>1</td>\n    </tr>\n    <tr>\n      <td>0x600C3f4C4F3C07D2e0a682440940281A93E2De5A</td>\n      <td>1</td>\n    </tr>\n    <tr>\n      <td>0x60256530d074465406Df460B6f38424ab5dF6BED</td>\n      <td>1</td>\n    </tr>\n    <tr>\n      <td>0x605EE5541B1a79E3461145B8Ba2CA106F5fDD747</td>\n      <td>1</td>\n    </tr>\n    <tr>\n      <td>0x630d47851A4D2c096347B1664bDE8A4B81b55ffc</td>\n      <td>1</td>\n    </tr>\n    <tr>\n      <td>0x63aF16335097e33ADF4fC5fd52467C545150f2cD</td>\n      <td>1</td>\n    </tr>\n    <tr>\n      <td>0x63eee41fdA33fd648363dF464BB0790F1Cf9C1B7</td>\n      <td>1</td>\n    </tr>\n    <tr>\n      <td>0x64aBC5b10C77d93BE5038E7b4965D2F0D8279127</td>\n      <td>1</td>\n    </tr>\n    <tr>\n      <td>0x64fd9A3Ca8f856CeD235Fd4F634A026B891A10f6</td>\n      <td>1</td>\n    </tr>\n    <tr>\n      <td>0x6B3595068778DD592e39A122f4f5a5cF09C90fE2</td>\n      <td>1</td>\n    </tr>\n    <tr>\n      <td>0x6Fc222Bef29768c8bCc759aB394C0e88bCE49BC2</td>\n      <td>1</td>\n    </tr>\n    <tr>\n      <td>0x6f9d71B513e945cCd058D1bad9b03Fe405c22DF9</td>\n      <td>1</td>\n    </tr>\n    <tr>\n      <td>0x70078d983caaA406fc3Cb055D15635022df4C448</td>\n      <td>1</td>\n    </tr>\n    <tr>\n      <td>0x7085bdDd2E49277619860B283A89aAb3F92f3F4e</td>\n      <td>1</td>\n    </tr>\n    <tr>\n      <td>0x70b924187be08B90720c310842f49D4E7d7cB9F6</td>\n      <td>1</td>\n    </tr>\n    <tr>\n      <td>0x721B682B80F427c52057BCC4B68E85B13C5e4b48</td>\n      <td>1</td>\n    </tr>\n    <tr>\n      <td>0x72CBdEaAdddD14Ec95b92995933CeC69566650f0</td>\n      <td>1</td>\n    </tr>\n    <tr>\n      <td>0x74312363e45DCaBA76c59ec49a7Aa8A65a67EeD3</td>\n      <td>1</td>\n    </tr>\n    <tr>\n      <td>0x74740c72e7b667344084772D2fdBB4646099c705</td>\n      <td>1</td>\n    </tr>\n    <tr>\n      <td>0xfc90bB3572B1f130Ff2EA3D5502Ec781082798cb</td>\n      <td>1</td>\n    </tr>\n  </tbody>\n</table>\n</div>"
     },
     "metadata": {},
     "output_type": "display_data"
    }
   ],
   "source": [
    "display_df(\n",
    "    ens_data_df.groupby('resolver_address').name.agg(name_cnt=np.count_nonzero).reset_index().sort_values('name_cnt', ascending=False)\n",
    ")"
   ],
   "metadata": {
    "collapsed": false
   }
  },
  {
   "cell_type": "code",
   "execution_count": 10,
   "outputs": [],
   "source": [],
   "metadata": {
    "collapsed": false
   }
  }
 ],
 "metadata": {
  "kernelspec": {
   "display_name": "Python 3",
   "language": "python",
   "name": "python3"
  },
  "language_info": {
   "codemirror_mode": {
    "name": "ipython",
    "version": 2
   },
   "file_extension": ".py",
   "mimetype": "text/x-python",
   "name": "python",
   "nbconvert_exporter": "python",
   "pygments_lexer": "ipython2",
   "version": "2.7.6"
  }
 },
 "nbformat": 4,
 "nbformat_minor": 0
}
