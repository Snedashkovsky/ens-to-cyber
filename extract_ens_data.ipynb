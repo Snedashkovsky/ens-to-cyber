{
 "cells": [
  {
   "cell_type": "markdown",
   "source": [
    "## Extract ENS Data from BigQuery and Ethereum node"
   ],
   "metadata": {
    "collapsed": false
   }
  },
  {
   "cell_type": "code",
   "execution_count": 1,
   "outputs": [],
   "source": [
    "import pandas as pd\n",
    "from ens import ENS\n",
    "from web3 import Web3, HTTPProvider\n",
    "from tqdm.notebook import tqdm\n",
    "import ipfshttpclient\n",
    "import content_hash\n",
    "\n",
    "from config import ETH_URL, MN\n",
    "from ens_data import get_ens_data\n",
    "from src.utils_bigquery import get_df\n",
    "\n",
    "\n",
    "EXTRACT_NAMES = False\n",
    "EXTRACT_ENS_DATA = False\n",
    "AGGREGATE_ENS_DATA = True\n",
    "\n",
    "tqdm.pandas()\n",
    "\n",
    "w3 = Web3(HTTPProvider(ETH_URL))\n",
    "ns = ENS.fromWeb3(w3)\n",
    "ipfs_client = ipfshttpclient.connect()"
   ],
   "metadata": {
    "collapsed": false
   }
  },
  {
   "cell_type": "code",
   "execution_count": 2,
   "outputs": [],
   "source": [
    "# 'ENS': '0x57f1887a8bf19b14fc0df6fd9b2acc9af147ea85'"
   ],
   "metadata": {
    "collapsed": false
   }
  },
  {
   "cell_type": "markdown",
   "source": [
    "### Get ENS Names from Blockchain ETL datasets (BigQuery)"
   ],
   "metadata": {
    "collapsed": false
   }
  },
  {
   "cell_type": "code",
   "execution_count": 3,
   "outputs": [],
   "source": [
    "query_1 = f'''\n",
    "    SELECT DISTINCT name\n",
    "    FROM (\n",
    "        SELECT name\n",
    "        FROM `blockchain-etl.ethereum_ens.ETHRegistrarController_event_NameRegistered`\n",
    "\n",
    "        UNION ALL\n",
    "\n",
    "        SELECT name\n",
    "        FROM `blockchain-etl.ethereum_ens.ETHRegistrarController2_event_NameRegistered`\n",
    "\n",
    "        UNION ALL\n",
    "\n",
    "        SELECT name\n",
    "        FROM `blockchain-etl.ethereum_ens.ETHRegistrarController3_event_NameRegistered`)\n",
    "'''\n",
    "if EXTRACT_NAMES:\n",
    "    ens_names = get_df(query=query_1)\n",
    "    ens_names.to_csv('data/ens_names.csv')\n",
    "else:\n",
    "    ens_names = pd.read_csv('data/ens_names.csv')"
   ],
   "metadata": {
    "collapsed": false
   }
  },
  {
   "cell_type": "code",
   "execution_count": 4,
   "outputs": [
    {
     "data": {
      "text/plain": "['ethercryptocurrency',\n 'ufcfighters',\n 'coinapp',\n '2rickychan',\n 'lootvault',\n 'arthurs',\n 'feelsgoodman',\n 'doodzuki',\n 'fattigerworkshop',\n 'bioart']"
     },
     "execution_count": 4,
     "metadata": {},
     "output_type": "execute_result"
    }
   ],
   "source": [
    "ens_names_list = ens_names.name.to_list()\n",
    "ens_names_list[:10]"
   ],
   "metadata": {
    "collapsed": false
   }
  },
  {
   "cell_type": "markdown",
   "source": [
    "### ENS Data Extraction from Ethereum node\n",
    "Use `ens_data.py` for getting ENS Data for names from Ethereum node."
   ],
   "metadata": {
    "collapsed": false
   }
  },
  {
   "cell_type": "markdown",
   "source": [
    "### Aggregate ENS Data"
   ],
   "metadata": {
    "collapsed": false
   }
  },
  {
   "cell_type": "code",
   "execution_count": 5,
   "outputs": [
    {
     "data": {
      "text/plain": "  0%|          | 0/252 [00:00<?, ?it/s]",
      "application/vnd.jupyter.widget-view+json": {
       "version_major": 2,
       "version_minor": 0,
       "model_id": "f416c959cfae4530a44bdb29e7d96409"
      }
     },
     "metadata": {},
     "output_type": "display_data"
    },
    {
     "data": {
      "text/plain": "                                name  \\\n0                              0.eth   \n1                              8.eth   \n2                              6.eth   \n3                              8.eth   \n4                              0.eth   \n5                              8.eth   \n6                               .eth   \n7                              0.eth   \n8                           6969.eth   \n9                              8.eth   \n10                             $.eth   \n11                              .eth   \n12                             0.eth   \n13                           000.eth   \n14                          0000.eth   \n15                           111.eth   \n16                          1111.eth   \n17                           222.eth   \n18                          2222.eth   \n19                           333.eth   \n\n                                         owner  \\\n0   0x03B7bA1730170e6120529902479A026f7CDB60C6   \n1   0x00000000c9c32755D496d3F13DcDf06A436C9C7a   \n2   0x00000000c9c32755D496d3F13DcDf06A436C9C7a   \n3   0x00000000c9c32755D496d3F13DcDf06A436C9C7a   \n4   0x94567Fa65d284b51CE7832B3CD2682a2277dc964   \n5   0x7c6d5cf17D05fDD70fB051366a474F7b422d86a6   \n6   0x30a0063FfBb27C11FFD22Dd5321E8B07b259083d   \n7   0xf8d06F8338abA317afc9b55dF03D41Bf71f927Dd   \n8   0x00000000c9c32755D496d3F13DcDf06A436C9C7a   \n9   0x4a083475Fd0BfB1eBB05d03D29794bc64696F3AF   \n10  0x322b7d2343054A0ae8bE8cc4c2A2d820bdFb2d91   \n11  0xe457d16B7EB81b927cB2248D330658E091bFe0bf   \n12  0x365A9a61191F249Ba4f0d21263852Da78D6FAd7c   \n13  0x29b9D8b112F97b637C134579b9D10a4F4fCac7ec   \n14  0x29b9D8b112F97b637C134579b9D10a4F4fCac7ec   \n15  0x29b9D8b112F97b637C134579b9D10a4F4fCac7ec   \n16  0x29b9D8b112F97b637C134579b9D10a4F4fCac7ec   \n17  0x29b9D8b112F97b637C134579b9D10a4F4fCac7ec   \n18  0x29b9D8b112F97b637C134579b9D10a4F4fCac7ec   \n19  0x29b9D8b112F97b637C134579b9D10a4F4fCac7ec   \n\n                              resolver_address  \\\n0                                          NaN   \n1   0x4976fb03C32e5B8cfe2b6cCB31c09Ba78EBaBa41   \n2   0x4976fb03C32e5B8cfe2b6cCB31c09Ba78EBaBa41   \n3   0x4976fb03C32e5B8cfe2b6cCB31c09Ba78EBaBa41   \n4   0x4976fb03C32e5B8cfe2b6cCB31c09Ba78EBaBa41   \n5   0x4976fb03C32e5B8cfe2b6cCB31c09Ba78EBaBa41   \n6                                          NaN   \n7   0x4976fb03C32e5B8cfe2b6cCB31c09Ba78EBaBa41   \n8   0x4976fb03C32e5B8cfe2b6cCB31c09Ba78EBaBa41   \n9   0x4976fb03C32e5B8cfe2b6cCB31c09Ba78EBaBa41   \n10                                         NaN   \n11                                         NaN   \n12  0x4976fb03C32e5B8cfe2b6cCB31c09Ba78EBaBa41   \n13  0x4976fb03C32e5B8cfe2b6cCB31c09Ba78EBaBa41   \n14  0x4976fb03C32e5B8cfe2b6cCB31c09Ba78EBaBa41   \n15  0x4976fb03C32e5B8cfe2b6cCB31c09Ba78EBaBa41   \n16  0x4976fb03C32e5B8cfe2b6cCB31c09Ba78EBaBa41   \n17  0x4976fb03C32e5B8cfe2b6cCB31c09Ba78EBaBa41   \n18  0x4976fb03C32e5B8cfe2b6cCB31c09Ba78EBaBa41   \n19                                         NaN   \n\n                            associated_address contenthash  \n0                                          NaN         NaN  \n1   0x00000000c9c32755D496d3F13DcDf06A436C9C7a         NaN  \n2   0x00000000c9c32755D496d3F13DcDf06A436C9C7a         NaN  \n3   0x00000000c9c32755D496d3F13DcDf06A436C9C7a         NaN  \n4   0x94567Fa65d284b51CE7832B3CD2682a2277dc964         NaN  \n5   0x7c6d5cf17D05fDD70fB051366a474F7b422d86a6         NaN  \n6                                          NaN         NaN  \n7   0xf8d06F8338abA317afc9b55dF03D41Bf71f927Dd         NaN  \n8   0x00000000c9c32755D496d3F13DcDf06A436C9C7a         NaN  \n9   0x4a083475Fd0BfB1eBB05d03D29794bc64696F3AF         NaN  \n10                                         NaN         NaN  \n11                                         NaN         NaN  \n12  0x365A9a61191F249Ba4f0d21263852Da78D6FAd7c         NaN  \n13  0x29b9D8b112F97b637C134579b9D10a4F4fCac7ec         NaN  \n14  0x29b9D8b112F97b637C134579b9D10a4F4fCac7ec         NaN  \n15  0x29b9D8b112F97b637C134579b9D10a4F4fCac7ec         NaN  \n16  0x29b9D8b112F97b637C134579b9D10a4F4fCac7ec         NaN  \n17  0x29b9D8b112F97b637C134579b9D10a4F4fCac7ec         NaN  \n18  0x29b9D8b112F97b637C134579b9D10a4F4fCac7ec         NaN  \n19                                         NaN         NaN  ",
      "text/html": "<div>\n<style scoped>\n    .dataframe tbody tr th:only-of-type {\n        vertical-align: middle;\n    }\n\n    .dataframe tbody tr th {\n        vertical-align: top;\n    }\n\n    .dataframe thead th {\n        text-align: right;\n    }\n</style>\n<table border=\"1\" class=\"dataframe\">\n  <thead>\n    <tr style=\"text-align: right;\">\n      <th></th>\n      <th>name</th>\n      <th>owner</th>\n      <th>resolver_address</th>\n      <th>associated_address</th>\n      <th>contenthash</th>\n    </tr>\n  </thead>\n  <tbody>\n    <tr>\n      <th>0</th>\n      <td>0.eth</td>\n      <td>0x03B7bA1730170e6120529902479A026f7CDB60C6</td>\n      <td>NaN</td>\n      <td>NaN</td>\n      <td>NaN</td>\n    </tr>\n    <tr>\n      <th>1</th>\n      <td>8.eth</td>\n      <td>0x00000000c9c32755D496d3F13DcDf06A436C9C7a</td>\n      <td>0x4976fb03C32e5B8cfe2b6cCB31c09Ba78EBaBa41</td>\n      <td>0x00000000c9c32755D496d3F13DcDf06A436C9C7a</td>\n      <td>NaN</td>\n    </tr>\n    <tr>\n      <th>2</th>\n      <td>6.eth</td>\n      <td>0x00000000c9c32755D496d3F13DcDf06A436C9C7a</td>\n      <td>0x4976fb03C32e5B8cfe2b6cCB31c09Ba78EBaBa41</td>\n      <td>0x00000000c9c32755D496d3F13DcDf06A436C9C7a</td>\n      <td>NaN</td>\n    </tr>\n    <tr>\n      <th>3</th>\n      <td>8.eth</td>\n      <td>0x00000000c9c32755D496d3F13DcDf06A436C9C7a</td>\n      <td>0x4976fb03C32e5B8cfe2b6cCB31c09Ba78EBaBa41</td>\n      <td>0x00000000c9c32755D496d3F13DcDf06A436C9C7a</td>\n      <td>NaN</td>\n    </tr>\n    <tr>\n      <th>4</th>\n      <td>0.eth</td>\n      <td>0x94567Fa65d284b51CE7832B3CD2682a2277dc964</td>\n      <td>0x4976fb03C32e5B8cfe2b6cCB31c09Ba78EBaBa41</td>\n      <td>0x94567Fa65d284b51CE7832B3CD2682a2277dc964</td>\n      <td>NaN</td>\n    </tr>\n    <tr>\n      <th>5</th>\n      <td>8.eth</td>\n      <td>0x7c6d5cf17D05fDD70fB051366a474F7b422d86a6</td>\n      <td>0x4976fb03C32e5B8cfe2b6cCB31c09Ba78EBaBa41</td>\n      <td>0x7c6d5cf17D05fDD70fB051366a474F7b422d86a6</td>\n      <td>NaN</td>\n    </tr>\n    <tr>\n      <th>6</th>\n      <td>.eth</td>\n      <td>0x30a0063FfBb27C11FFD22Dd5321E8B07b259083d</td>\n      <td>NaN</td>\n      <td>NaN</td>\n      <td>NaN</td>\n    </tr>\n    <tr>\n      <th>7</th>\n      <td>0.eth</td>\n      <td>0xf8d06F8338abA317afc9b55dF03D41Bf71f927Dd</td>\n      <td>0x4976fb03C32e5B8cfe2b6cCB31c09Ba78EBaBa41</td>\n      <td>0xf8d06F8338abA317afc9b55dF03D41Bf71f927Dd</td>\n      <td>NaN</td>\n    </tr>\n    <tr>\n      <th>8</th>\n      <td>6969.eth</td>\n      <td>0x00000000c9c32755D496d3F13DcDf06A436C9C7a</td>\n      <td>0x4976fb03C32e5B8cfe2b6cCB31c09Ba78EBaBa41</td>\n      <td>0x00000000c9c32755D496d3F13DcDf06A436C9C7a</td>\n      <td>NaN</td>\n    </tr>\n    <tr>\n      <th>9</th>\n      <td>8.eth</td>\n      <td>0x4a083475Fd0BfB1eBB05d03D29794bc64696F3AF</td>\n      <td>0x4976fb03C32e5B8cfe2b6cCB31c09Ba78EBaBa41</td>\n      <td>0x4a083475Fd0BfB1eBB05d03D29794bc64696F3AF</td>\n      <td>NaN</td>\n    </tr>\n    <tr>\n      <th>10</th>\n      <td>$.eth</td>\n      <td>0x322b7d2343054A0ae8bE8cc4c2A2d820bdFb2d91</td>\n      <td>NaN</td>\n      <td>NaN</td>\n      <td>NaN</td>\n    </tr>\n    <tr>\n      <th>11</th>\n      <td>.eth</td>\n      <td>0xe457d16B7EB81b927cB2248D330658E091bFe0bf</td>\n      <td>NaN</td>\n      <td>NaN</td>\n      <td>NaN</td>\n    </tr>\n    <tr>\n      <th>12</th>\n      <td>0.eth</td>\n      <td>0x365A9a61191F249Ba4f0d21263852Da78D6FAd7c</td>\n      <td>0x4976fb03C32e5B8cfe2b6cCB31c09Ba78EBaBa41</td>\n      <td>0x365A9a61191F249Ba4f0d21263852Da78D6FAd7c</td>\n      <td>NaN</td>\n    </tr>\n    <tr>\n      <th>13</th>\n      <td>000.eth</td>\n      <td>0x29b9D8b112F97b637C134579b9D10a4F4fCac7ec</td>\n      <td>0x4976fb03C32e5B8cfe2b6cCB31c09Ba78EBaBa41</td>\n      <td>0x29b9D8b112F97b637C134579b9D10a4F4fCac7ec</td>\n      <td>NaN</td>\n    </tr>\n    <tr>\n      <th>14</th>\n      <td>0000.eth</td>\n      <td>0x29b9D8b112F97b637C134579b9D10a4F4fCac7ec</td>\n      <td>0x4976fb03C32e5B8cfe2b6cCB31c09Ba78EBaBa41</td>\n      <td>0x29b9D8b112F97b637C134579b9D10a4F4fCac7ec</td>\n      <td>NaN</td>\n    </tr>\n    <tr>\n      <th>15</th>\n      <td>111.eth</td>\n      <td>0x29b9D8b112F97b637C134579b9D10a4F4fCac7ec</td>\n      <td>0x4976fb03C32e5B8cfe2b6cCB31c09Ba78EBaBa41</td>\n      <td>0x29b9D8b112F97b637C134579b9D10a4F4fCac7ec</td>\n      <td>NaN</td>\n    </tr>\n    <tr>\n      <th>16</th>\n      <td>1111.eth</td>\n      <td>0x29b9D8b112F97b637C134579b9D10a4F4fCac7ec</td>\n      <td>0x4976fb03C32e5B8cfe2b6cCB31c09Ba78EBaBa41</td>\n      <td>0x29b9D8b112F97b637C134579b9D10a4F4fCac7ec</td>\n      <td>NaN</td>\n    </tr>\n    <tr>\n      <th>17</th>\n      <td>222.eth</td>\n      <td>0x29b9D8b112F97b637C134579b9D10a4F4fCac7ec</td>\n      <td>0x4976fb03C32e5B8cfe2b6cCB31c09Ba78EBaBa41</td>\n      <td>0x29b9D8b112F97b637C134579b9D10a4F4fCac7ec</td>\n      <td>NaN</td>\n    </tr>\n    <tr>\n      <th>18</th>\n      <td>2222.eth</td>\n      <td>0x29b9D8b112F97b637C134579b9D10a4F4fCac7ec</td>\n      <td>0x4976fb03C32e5B8cfe2b6cCB31c09Ba78EBaBa41</td>\n      <td>0x29b9D8b112F97b637C134579b9D10a4F4fCac7ec</td>\n      <td>NaN</td>\n    </tr>\n    <tr>\n      <th>19</th>\n      <td>333.eth</td>\n      <td>0x29b9D8b112F97b637C134579b9D10a4F4fCac7ec</td>\n      <td>NaN</td>\n      <td>NaN</td>\n      <td>NaN</td>\n    </tr>\n  </tbody>\n</table>\n</div>"
     },
     "execution_count": 5,
     "metadata": {},
     "output_type": "execute_result"
    }
   ],
   "source": [
    "if AGGREGATE_ENS_DATA:\n",
    "    ens_data_df = None\n",
    "    for i in tqdm(range(252)):\n",
    "        try:\n",
    "            with open(f'data/temp/ens_data_{i}.csv') as my_csv:\n",
    "                ens_data_item_df = pd.read_csv(my_csv, index_col=0)\n",
    "            if ens_data_df is None:\n",
    "                ens_data_df = ens_data_item_df\n",
    "            else:\n",
    "                ens_data_df = ens_data_df.append(ens_data_item_df)\n",
    "        except FileNotFoundError:\n",
    "            print(f'Error {i} not found')\n",
    "    ens_data_df.name = ens_data_df.name.map(lambda x: x.lower())\n",
    "    ens_data_df = ens_data_df.drop_duplicates()\n",
    "    ens_data_df = ens_data_df.sort_values('name').reset_index()\n",
    "    ens_data_df = ens_data_df[['name', 'owner', 'resolver_address', 'associated_address', 'contenthash']]\n",
    "    ens_data_df.to_csv('data/ens_data_row.csv')\n",
    "else:\n",
    "    ens_data_df = pd.read_csv('data/ens_data_row.csv', index_col=0)\n",
    "ens_data_df.head(20)"
   ],
   "metadata": {
    "collapsed": false
   }
  },
  {
   "cell_type": "markdown",
   "source": [
    "### Get items with content hashes"
   ],
   "metadata": {
    "collapsed": false
   }
  },
  {
   "cell_type": "code",
   "execution_count": 6,
   "outputs": [
    {
     "data": {
      "text/plain": "  0%|          | 0/5607 [00:00<?, ?it/s]",
      "application/vnd.jupyter.widget-view+json": {
       "version_major": 2,
       "version_minor": 0,
       "model_id": "8a5a5283ae154876ba9d511d09921b0f"
      }
     },
     "metadata": {},
     "output_type": "display_data"
    },
    {
     "name": "stdout",
     "output_type": "stream",
     "text": [
      "Count with content hash: 11,340\n",
      "Count with cid hash: 5,607\n"
     ]
    }
   ],
   "source": [
    "def decode_contenthash(contenthash: str) -> str:\n",
    "    try:\n",
    "        content_cid = content_hash.decode(contenthash) if contenthash[:2] == 'e3' else ''\n",
    "        content_cid = content_cid if len(content_cid) == 46 else ''\n",
    "        return content_cid\n",
    "    except ValueError:\n",
    "        return ''\n",
    "\n",
    "\n",
    "if AGGREGATE_ENS_DATA:\n",
    "    ens_data_with_contenthash_df = ens_data_df[\n",
    "        (~ens_data_df.contenthash.isna()) & (~ens_data_df.contenthash.isin([\"b''\"]))].copy().sort_index()\n",
    "    ens_data_with_contenthash_df.loc[:, 'content_cid'] = ens_data_with_contenthash_df.contenthash.map(\n",
    "        decode_contenthash)\n",
    "    ens_data_with_contenthash_df.to_csv('data/ens_data_with_content_hash.csv')\n",
    "\n",
    "    ens_data_with_cid_df = ens_data_with_contenthash_df[\n",
    "        ens_data_with_contenthash_df.content_cid != ''].copy().sort_index()\n",
    "    ens_data_with_cid_df.loc[:, 'name_cid'] = ens_data_with_cid_df.name.progress_map(\n",
    "        lambda x: ipfs_client.add_str(x[:-4]))\n",
    "    ens_data_with_cid_df.to_csv('data/ens_data_with_content_cid.csv')\n",
    "\n",
    "    print(f'Count with content hash: {len(ens_data_with_contenthash_df):>,}')\n",
    "    print(f'Count with cid hash: {len(ens_data_with_cid_df):>,}')\n",
    "else:\n",
    "    ens_data_with_contenthash_df = pd.read_csv('data/ens_data_with_content_hash.csv', index_col=0)\n",
    "    ens_data_with_cid_df = pd.read_csv('data/ens_data_with_content_cid.csv', index_col=0)"
   ],
   "metadata": {
    "collapsed": false
   }
  },
  {
   "cell_type": "code",
   "execution_count": 7,
   "outputs": [
    {
     "data": {
      "text/plain": "             name                                       owner  \\\n66331  0-1337.eth  0x8F82De72659D5a1670d3Db7C440A8E0a6E925E02   \n71898   0000x.eth  0x77C9e49073d9830723195f3788570c2c36c97688   \n75750   0008a.eth  0x88441DCD4Bc985965e69ecf5A454B04DC84eD876   \n78535   001x0.eth  0x338571a641d8c43F9e5A306300c5d89E0CB2CFAF   \n79530  002511.eth  0x4E99f6Fdb8B5a3A292aa2194c970c2A612469Fe2   \n79618   00258.eth  0x9e6D2A36fa88E5123fD09d22F00e4E9ca8669999   \n89735    0089.eth  0xFebfecE019b5E2e42C3839dCbEA87EEDac9ac365   \n96266   0123a.eth  0x9aE6B470D238a4ab42cAc5fEB27CAA5A19F89510   \n97207    014°.eth  0x70635102CF3B7D32FE0a1221b412Cb4b172A2b2f   \n99044   01x01.eth  0x8F82De72659D5a1670d3Db7C440A8E0a6E925E02   \n\n                                 resolver_address  \\\n66331  0x4976fb03C32e5B8cfe2b6cCB31c09Ba78EBaBa41   \n71898  0x4976fb03C32e5B8cfe2b6cCB31c09Ba78EBaBa41   \n75750  0x4976fb03C32e5B8cfe2b6cCB31c09Ba78EBaBa41   \n78535  0x4976fb03C32e5B8cfe2b6cCB31c09Ba78EBaBa41   \n79530  0x4976fb03C32e5B8cfe2b6cCB31c09Ba78EBaBa41   \n79618  0x4976fb03C32e5B8cfe2b6cCB31c09Ba78EBaBa41   \n89735  0x4976fb03C32e5B8cfe2b6cCB31c09Ba78EBaBa41   \n96266  0x4976fb03C32e5B8cfe2b6cCB31c09Ba78EBaBa41   \n97207  0x4976fb03C32e5B8cfe2b6cCB31c09Ba78EBaBa41   \n99044  0x4976fb03C32e5B8cfe2b6cCB31c09Ba78EBaBa41   \n\n                               associated_address  \\\n66331                                         NaN   \n71898  0x77C9e49073d9830723195f3788570c2c36c97688   \n75750  0x88441DCD4Bc985965e69ecf5A454B04DC84eD876   \n78535  0x338571a641d8c43F9e5A306300c5d89E0CB2CFAF   \n79530  0x4E99f6Fdb8B5a3A292aa2194c970c2A612469Fe2   \n79618  0x9e6D2A36fa88E5123fD09d22F00e4E9ca8669999   \n89735  0xFebfecE019b5E2e42C3839dCbEA87EEDac9ac365   \n96266  0x9aE6B470D238a4ab42cAc5fEB27CAA5A19F89510   \n97207  0x70635102CF3B7D32FE0a1221b412Cb4b172A2b2f   \n99044  0x8F82De72659D5a1670d3Db7C440A8E0a6E925E02   \n\n                                             contenthash  \\\n66331  e30101701220d6f0e0d157170f52052e3f81bdafafb2e3...   \n71898  e301017012203c7939754cbfabd4a7932a740b2af3ced2...   \n75750  e30101701220cdaf3eb20495dacca5225a9a0838207af7...   \n78535  e301017012209668df055d7566e1631a6db9d66015204a...   \n79530  e301017012205952f152144216dfc3267c1f44130f1235...   \n79618  e301017012200429cb961fb23fd71947c477c881f63671...   \n89735  e301017012200676503f43d887c1e1d20c23d988d4d941...   \n96266  e30101701220c801aa770d8313b86fe43cb08472166a71...   \n97207  e3010170122086f1db4d21efaa7220ad3ec4460ac2b97b...   \n99044  e30101701220d6f0e0d157170f52052e3f81bdafafb2e3...   \n\n                                          content_cid  \\\n66331  QmcogzR9ouQJDgsiaTWWze4ndMLkn6gewRqKVWeKXVozh7   \n71898  QmSQiPAPaT5E9y41VgHhc5kFRhRFSvZ95d5sBzH6VJwdPo   \n75750  QmcBZGuZCQsd5zuumVRuLhXnhkWjWJiXtmcE9XQVsAXV8N   \n78535  QmYTncViYfeLbyHS6EECfUoRW3kjqrbiUmKbZLZEXUmA6R   \n79530  QmUMLME8Lkipg1cqw8m3pwpWHhRN34ioFEbjbhw46oqkN2   \n79618  QmNcuJbp2YLK6BmhdTniVsjjfxcgP16dGBKZeUHQQ6vHqB   \n89735  QmNmsnw5FpncDeUvJ3ZRFY3YtvEYWoCHWvgjEwjV41gUjM   \n96266  QmboPirQwrzimcSfGbeRHxySy4sH19ZmoJywVSf7bH7n8T   \n97207  QmXRREtZRWsppmHwJqFYW9RfazaWh5mob5iRBgX1GLtcF9   \n99044  QmcogzR9ouQJDgsiaTWWze4ndMLkn6gewRqKVWeKXVozh7   \n\n                                             name_cid  \n66331  QmUwjXxYcgk1j2Eh7jiVtgSGn3hmLHWoqNDLTonts6hJV8  \n71898  QmVzMe3mUGLB68Lz5wpQcfjab8akjQj7SdoE1ioAzfiw6E  \n75750  Qmawaesea9bHkCMmZupyMn5pbVgAJjKVM3MS2rUqZ1GhKf  \n78535  QmXk8AcZzo88TBa1TiJT3uLzcKnTY8DTyVa7euFmMh9qYw  \n79530  QmNbqwb5T2oWTUjWMRWxUBAGYUvy3v6Ta7SHaz83Yo9TT6  \n79618  QmUhnpZg3Wvz3eSTrAj66xVa3xrKb62CF63V5zWwu6Z3pa  \n89735  QmSTGTAnKY5n3Xz4DEY1oWEmrVPuAXTp469L4bGVWyiX12  \n96266  QmaUedgdJdVrzAEGud28YFNAv6cuwnbdxBgG4WktfZNpSZ  \n97207  QmWRhM2YPtfZbLNaW4Fk2JLuQBBFWNXDzWyzrYazYieE4r  \n99044  QmSF6D6bPeR4FF8MiJgYYY5prufPh3B17g2bmpxZkFzWqy  ",
      "text/html": "<div>\n<style scoped>\n    .dataframe tbody tr th:only-of-type {\n        vertical-align: middle;\n    }\n\n    .dataframe tbody tr th {\n        vertical-align: top;\n    }\n\n    .dataframe thead th {\n        text-align: right;\n    }\n</style>\n<table border=\"1\" class=\"dataframe\">\n  <thead>\n    <tr style=\"text-align: right;\">\n      <th></th>\n      <th>name</th>\n      <th>owner</th>\n      <th>resolver_address</th>\n      <th>associated_address</th>\n      <th>contenthash</th>\n      <th>content_cid</th>\n      <th>name_cid</th>\n    </tr>\n  </thead>\n  <tbody>\n    <tr>\n      <th>66331</th>\n      <td>0-1337.eth</td>\n      <td>0x8F82De72659D5a1670d3Db7C440A8E0a6E925E02</td>\n      <td>0x4976fb03C32e5B8cfe2b6cCB31c09Ba78EBaBa41</td>\n      <td>NaN</td>\n      <td>e30101701220d6f0e0d157170f52052e3f81bdafafb2e3...</td>\n      <td>QmcogzR9ouQJDgsiaTWWze4ndMLkn6gewRqKVWeKXVozh7</td>\n      <td>QmUwjXxYcgk1j2Eh7jiVtgSGn3hmLHWoqNDLTonts6hJV8</td>\n    </tr>\n    <tr>\n      <th>71898</th>\n      <td>0000x.eth</td>\n      <td>0x77C9e49073d9830723195f3788570c2c36c97688</td>\n      <td>0x4976fb03C32e5B8cfe2b6cCB31c09Ba78EBaBa41</td>\n      <td>0x77C9e49073d9830723195f3788570c2c36c97688</td>\n      <td>e301017012203c7939754cbfabd4a7932a740b2af3ced2...</td>\n      <td>QmSQiPAPaT5E9y41VgHhc5kFRhRFSvZ95d5sBzH6VJwdPo</td>\n      <td>QmVzMe3mUGLB68Lz5wpQcfjab8akjQj7SdoE1ioAzfiw6E</td>\n    </tr>\n    <tr>\n      <th>75750</th>\n      <td>0008a.eth</td>\n      <td>0x88441DCD4Bc985965e69ecf5A454B04DC84eD876</td>\n      <td>0x4976fb03C32e5B8cfe2b6cCB31c09Ba78EBaBa41</td>\n      <td>0x88441DCD4Bc985965e69ecf5A454B04DC84eD876</td>\n      <td>e30101701220cdaf3eb20495dacca5225a9a0838207af7...</td>\n      <td>QmcBZGuZCQsd5zuumVRuLhXnhkWjWJiXtmcE9XQVsAXV8N</td>\n      <td>Qmawaesea9bHkCMmZupyMn5pbVgAJjKVM3MS2rUqZ1GhKf</td>\n    </tr>\n    <tr>\n      <th>78535</th>\n      <td>001x0.eth</td>\n      <td>0x338571a641d8c43F9e5A306300c5d89E0CB2CFAF</td>\n      <td>0x4976fb03C32e5B8cfe2b6cCB31c09Ba78EBaBa41</td>\n      <td>0x338571a641d8c43F9e5A306300c5d89E0CB2CFAF</td>\n      <td>e301017012209668df055d7566e1631a6db9d66015204a...</td>\n      <td>QmYTncViYfeLbyHS6EECfUoRW3kjqrbiUmKbZLZEXUmA6R</td>\n      <td>QmXk8AcZzo88TBa1TiJT3uLzcKnTY8DTyVa7euFmMh9qYw</td>\n    </tr>\n    <tr>\n      <th>79530</th>\n      <td>002511.eth</td>\n      <td>0x4E99f6Fdb8B5a3A292aa2194c970c2A612469Fe2</td>\n      <td>0x4976fb03C32e5B8cfe2b6cCB31c09Ba78EBaBa41</td>\n      <td>0x4E99f6Fdb8B5a3A292aa2194c970c2A612469Fe2</td>\n      <td>e301017012205952f152144216dfc3267c1f44130f1235...</td>\n      <td>QmUMLME8Lkipg1cqw8m3pwpWHhRN34ioFEbjbhw46oqkN2</td>\n      <td>QmNbqwb5T2oWTUjWMRWxUBAGYUvy3v6Ta7SHaz83Yo9TT6</td>\n    </tr>\n    <tr>\n      <th>79618</th>\n      <td>00258.eth</td>\n      <td>0x9e6D2A36fa88E5123fD09d22F00e4E9ca8669999</td>\n      <td>0x4976fb03C32e5B8cfe2b6cCB31c09Ba78EBaBa41</td>\n      <td>0x9e6D2A36fa88E5123fD09d22F00e4E9ca8669999</td>\n      <td>e301017012200429cb961fb23fd71947c477c881f63671...</td>\n      <td>QmNcuJbp2YLK6BmhdTniVsjjfxcgP16dGBKZeUHQQ6vHqB</td>\n      <td>QmUhnpZg3Wvz3eSTrAj66xVa3xrKb62CF63V5zWwu6Z3pa</td>\n    </tr>\n    <tr>\n      <th>89735</th>\n      <td>0089.eth</td>\n      <td>0xFebfecE019b5E2e42C3839dCbEA87EEDac9ac365</td>\n      <td>0x4976fb03C32e5B8cfe2b6cCB31c09Ba78EBaBa41</td>\n      <td>0xFebfecE019b5E2e42C3839dCbEA87EEDac9ac365</td>\n      <td>e301017012200676503f43d887c1e1d20c23d988d4d941...</td>\n      <td>QmNmsnw5FpncDeUvJ3ZRFY3YtvEYWoCHWvgjEwjV41gUjM</td>\n      <td>QmSTGTAnKY5n3Xz4DEY1oWEmrVPuAXTp469L4bGVWyiX12</td>\n    </tr>\n    <tr>\n      <th>96266</th>\n      <td>0123a.eth</td>\n      <td>0x9aE6B470D238a4ab42cAc5fEB27CAA5A19F89510</td>\n      <td>0x4976fb03C32e5B8cfe2b6cCB31c09Ba78EBaBa41</td>\n      <td>0x9aE6B470D238a4ab42cAc5fEB27CAA5A19F89510</td>\n      <td>e30101701220c801aa770d8313b86fe43cb08472166a71...</td>\n      <td>QmboPirQwrzimcSfGbeRHxySy4sH19ZmoJywVSf7bH7n8T</td>\n      <td>QmaUedgdJdVrzAEGud28YFNAv6cuwnbdxBgG4WktfZNpSZ</td>\n    </tr>\n    <tr>\n      <th>97207</th>\n      <td>014°.eth</td>\n      <td>0x70635102CF3B7D32FE0a1221b412Cb4b172A2b2f</td>\n      <td>0x4976fb03C32e5B8cfe2b6cCB31c09Ba78EBaBa41</td>\n      <td>0x70635102CF3B7D32FE0a1221b412Cb4b172A2b2f</td>\n      <td>e3010170122086f1db4d21efaa7220ad3ec4460ac2b97b...</td>\n      <td>QmXRREtZRWsppmHwJqFYW9RfazaWh5mob5iRBgX1GLtcF9</td>\n      <td>QmWRhM2YPtfZbLNaW4Fk2JLuQBBFWNXDzWyzrYazYieE4r</td>\n    </tr>\n    <tr>\n      <th>99044</th>\n      <td>01x01.eth</td>\n      <td>0x8F82De72659D5a1670d3Db7C440A8E0a6E925E02</td>\n      <td>0x4976fb03C32e5B8cfe2b6cCB31c09Ba78EBaBa41</td>\n      <td>0x8F82De72659D5a1670d3Db7C440A8E0a6E925E02</td>\n      <td>e30101701220d6f0e0d157170f52052e3f81bdafafb2e3...</td>\n      <td>QmcogzR9ouQJDgsiaTWWze4ndMLkn6gewRqKVWeKXVozh7</td>\n      <td>QmSF6D6bPeR4FF8MiJgYYY5prufPh3B17g2bmpxZkFzWqy</td>\n    </tr>\n  </tbody>\n</table>\n</div>"
     },
     "execution_count": 7,
     "metadata": {},
     "output_type": "execute_result"
    }
   ],
   "source": [
    "ens_data_with_cid_df.head(10)"
   ],
   "metadata": {
    "collapsed": false
   }
  },
  {
   "cell_type": "code",
   "execution_count": 8,
   "outputs": [
    {
     "name": "stdout",
     "output_type": "stream",
     "text": [
      "name: 2,512,258 (100.00%)\n",
      "owner: 2,497,034 (99.39%)\n",
      "resolver_address: 1,887,536 (75.13%)\n",
      "associated_address: 1,865,670 (74.26%)\n",
      "contenthash: 11,340 (0.45%)\n",
      "\n",
      "associated_address!=owner: 46,499\n"
     ]
    }
   ],
   "source": [
    "for column in ens_data_df.columns:\n",
    "    print(\n",
    "        f'''{column}: {len(ens_data_df[(~ens_data_df[column].isna()) & (~ens_data_df[column].isin([\"b''\", '0x0000000000000000000000000000000000000000']))]):>,} ({len(ens_data_df[(~ens_data_df[column].isna()) & (~ens_data_df[column].isin([\"b''\", '0x0000000000000000000000000000000000000000']))]) / len(ens_data_df) * 100:.2f}%)''')\n",
    "print(\n",
    "    f'''\\nassociated_address!=owner: {len(ens_data_df[(ens_data_df.associated_address != ens_data_df.owner) & (~ens_data_df.associated_address.isna())]):>,}''')"
   ],
   "metadata": {
    "collapsed": false
   }
  },
  {
   "cell_type": "markdown",
   "source": [
    "### ENS Namespace Contracts\n",
    "- name -> owner\n",
    "- owner -> name\n",
    "- name -> associated_address\n",
    "- associated_address -> name\n",
    "- name -> cid\n",
    "- cid -> name\n",
    "#### All Data"
   ],
   "metadata": {
    "collapsed": false
   }
  },
  {
   "cell_type": "code",
   "execution_count": 9,
   "outputs": [
    {
     "name": "stdout",
     "output_type": "stream",
     "text": [
      "name -> owner:              2,511,205  (99.96%)\n",
      "name -> associated_address: 1,865,670  (74.26%)\n",
      "name -> contenthash:         11,340  (0.45%)\n",
      "name -> cid:                  5,607  (0.22%)\n",
      "Total cyberlinks:           8,787,644\n"
     ]
    }
   ],
   "source": [
    "name_owner_cnt = len(ens_data_df[~ens_data_df.owner.isna()][['name', 'owner']])\n",
    "name_associated_address_cnt = len(ens_data_df[~ens_data_df.associated_address.isna()])\n",
    "name_contenthash_cnt = len(\n",
    "    ens_data_with_contenthash_df[(~ens_data_with_contenthash_df.contenthash.isna())])\n",
    "name_cid_cnt = len(\n",
    "    ens_data_with_contenthash_df[ens_data_with_contenthash_df.content_cid != ''])\n",
    "print(f\"name -> owner:              {name_owner_cnt:>7,}  ({name_owner_cnt / len(ens_data_df):.2%})\")\n",
    "print(\n",
    "    f\"name -> associated_address: {name_associated_address_cnt:>7,}  ({name_associated_address_cnt / len(ens_data_df):.2%})\")\n",
    "print(f\"name -> contenthash:        {name_contenthash_cnt:>7,}  ({name_contenthash_cnt / len(ens_data_df):.2%})\")\n",
    "print(f\"name -> cid:                {name_cid_cnt:>7,}  ({name_cid_cnt / len(ens_data_df):.2%})\")\n",
    "print(\n",
    "    f\"Total cyberlinks:           {(name_owner_cnt + name_associated_address_cnt + name_contenthash_cnt + name_cid_cnt) * 2 :>7,}\")"
   ],
   "metadata": {
    "collapsed": false
   }
  },
  {
   "cell_type": "markdown",
   "source": [
    "#### Data with CIDs only"
   ],
   "metadata": {
    "collapsed": false
   }
  },
  {
   "cell_type": "code",
   "execution_count": 10,
   "outputs": [
    {
     "name": "stdout",
     "output_type": "stream",
     "text": [
      "name -> owner:                5,607\n",
      "owner -> name:                5,607\n",
      "\n",
      "name -> associated_address:   5,269\n",
      "associated_address -> name:   5,269\n",
      "\n",
      "name -> cid:                  5,607\n",
      "cid -> name:                  5,607\n",
      "\n",
      "Total cyberlinks:            32,966\n"
     ]
    }
   ],
   "source": [
    "name_owner_cnt = len(ens_data_with_cid_df[~ens_data_with_cid_df.owner.isna()][['name', 'owner']])\n",
    "name_associated_address_cnt = len(ens_data_with_cid_df[~ens_data_with_cid_df.associated_address.isna()])\n",
    "name_contenthash_cnt = len(\n",
    "    ens_data_with_cid_df)\n",
    "name_cid_cnt = len(\n",
    "    ens_data_with_cid_df)\n",
    "print(f\"name -> owner:              {name_owner_cnt:>7,}\")\n",
    "print(f\"owner -> name:              {name_owner_cnt:>7,}\\n\")\n",
    "print(f\"name -> associated_address: {name_associated_address_cnt:>7,}\")\n",
    "print(f\"associated_address -> name: {name_associated_address_cnt:>7,}\\n\")\n",
    "print(f\"name -> cid:                {name_cid_cnt:>7,}\")\n",
    "print(f\"cid -> name:                {name_cid_cnt:>7,}\\n\")\n",
    "print(f\"Total cyberlinks:           {(name_owner_cnt + name_associated_address_cnt + name_cid_cnt) * 2 :>7,}\")"
   ],
   "metadata": {
    "collapsed": false
   }
  },
  {
   "cell_type": "code",
   "execution_count": 10,
   "outputs": [],
   "source": [],
   "metadata": {
    "collapsed": false
   }
  }
 ],
 "metadata": {
  "kernelspec": {
   "display_name": "Python 3",
   "language": "python",
   "name": "python3"
  },
  "language_info": {
   "codemirror_mode": {
    "name": "ipython",
    "version": 2
   },
   "file_extension": ".py",
   "mimetype": "text/x-python",
   "name": "python",
   "nbconvert_exporter": "python",
   "pygments_lexer": "ipython2",
   "version": "2.7.6"
  }
 },
 "nbformat": 4,
 "nbformat_minor": 0
}
